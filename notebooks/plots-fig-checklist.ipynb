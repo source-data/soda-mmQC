{
 "cells": [
  {
   "cell_type": "code",
   "execution_count": null,
   "metadata": {},
   "outputs": [],
   "source": [
    "# magic command to update modules\n",
    "%load_ext autoreload\n",
    "%autoreload 2\n",
    "%xmode verbose"
   ]
  },
  {
   "cell_type": "code",
   "execution_count": null,
   "metadata": {},
   "outputs": [],
   "source": [
    "# import visualize from tools\n",
    "from soda_mmqc.scripts.visualize import *"
   ]
  },
  {
   "cell_type": "code",
   "execution_count": null,
   "metadata": {},
   "outputs": [],
   "source": [
    "MODEL = \"gpt-4o-2024-08-06\" #\"gpt-4o-2024-08-06\"  #o3-mini-2025-01-31  # o4-mini-2025-04-16"
   ]
  },
  {
   "cell_type": "code",
   "execution_count": null,
   "metadata": {},
   "outputs": [],
   "source": [
    "checklist_visualization(\n",
    "    \"fig-checklist\",\n",
    "    metric=\"semantic_similarity\",\n",
    "    model=MODEL,\n",
    "    aggregation_level=0\n",
    ")"
   ]
  },
  {
   "cell_type": "code",
   "execution_count": null,
   "metadata": {},
   "outputs": [],
   "source": [
    "check_specific_plot(\n",
    "    \"fig-checklist\",\n",
    "    \"replicates-defined\",\n",
    "    metric=\"semantic_similarity\",\n",
    "    score=\"f1_score\",\n",
    "    model=MODEL\n",
    ")"
   ]
  },
  {
   "cell_type": "code",
   "execution_count": null,
   "metadata": {},
   "outputs": [],
   "source": [
    "\n",
    "%xmode verbose\n",
    "check_specific_report_html(\n",
    "    \"fig-checklist\",\n",
    "    \"replicates-defined\",\n",
    "    prompt=\"prompt.3\",\n",
    "    search_doi=\"2009.312\",\n",
    "    model=MODEL,\n",
    "    metric=\"semantic_similarity\",\n",
    "    score=\"f1_score\",\n",
    ")"
   ]
  },
  {
   "cell_type": "code",
   "execution_count": null,
   "metadata": {},
   "outputs": [],
   "source": []
  }
 ],
 "metadata": {
  "kernelspec": {
   "display_name": ".venv",
   "language": "python",
   "name": "python3"
  },
  "language_info": {
   "codemirror_mode": {
    "name": "ipython",
    "version": 3
   },
   "file_extension": ".py",
   "mimetype": "text/x-python",
   "name": "python",
   "nbconvert_exporter": "python",
   "pygments_lexer": "ipython3",
   "version": "3.12.1"
  }
 },
 "nbformat": 4,
 "nbformat_minor": 2
}
