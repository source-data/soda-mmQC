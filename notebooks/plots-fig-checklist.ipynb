{
 "cells": [
  {
   "cell_type": "code",
   "execution_count": 3,
   "metadata": {},
   "outputs": [
    {
     "name": "stdout",
     "output_type": "stream",
     "text": [
      "Exception reporting mode: Verbose\n"
     ]
    }
   ],
   "source": [
    "# magic command to update modules\n",
    "%load_ext autoreload\n",
    "%autoreload 2\n",
    "%xmode verbose"
   ]
  },
  {
   "cell_type": "code",
   "execution_count": 11,
   "metadata": {},
   "outputs": [],
   "source": [
    "# import visualize from tools\n",
    "from soda_mmqc.scripts.visualize import *"
   ]
  },
  {
   "cell_type": "code",
   "execution_count": 5,
   "metadata": {},
   "outputs": [],
   "source": [
    "MODEL = \"gpt-4o-2024-08-06\" #\"gpt-4o-2024-08-06\"  #o3-mini-2025-01-31  # o4-mini-2025-04-16"
   ]
  },
  {
   "cell_type": "code",
   "execution_count": 65,
   "metadata": {},
   "outputs": [
    {
     "name": "stderr",
     "output_type": "stream",
     "text": [
      "2025-07-25 10:42:33 - INFO - Creating global visualization for 9 checks\n",
      "2025-07-25 10:42:33 - ERROR - Error preparing data for check plot-gap-labeling: 'metadata'\n",
      "2025-07-25 10:42:33 - ERROR - Error preparing data for check error-bars-defined: 'metadata'\n",
      "2025-07-25 10:42:33 - ERROR - Error preparing data for check stat-test: 'metadata'\n",
      "2025-07-25 10:42:33 - ERROR - Error preparing data for check stat-significance-level: 'metadata'\n",
      "2025-07-25 10:42:33 - ERROR - Error preparing data for check micrograph-scale-bar: 'metadata'\n",
      "2025-07-25 10:42:33 - ERROR - Error preparing data for check plot-axis-units: 'metadata'\n",
      "2025-07-25 10:42:33 - ERROR - Error preparing data for check micrograph-symbols-defined: 'metadata'\n",
      "2025-07-25 10:42:33 - INFO - Creating plot for prompt: prompt.1...\n",
      "2025-07-25 10:42:33 - INFO - Creating plot for prompt: prompt.2...\n",
      "2025-07-25 10:42:33 - INFO - Creating plot for prompt: prompt.3...\n"
     ]
    },
    {
     "data": {
      "application/vnd.plotly.v1+json": {
       "config": {
        "plotlyServerURL": "https://plot.ly"
       },
       "data": [
        {
         "error_y": {
          "array": [
           0.0749466419983834,
           0.1401822308501272
          ],
          "color": "grey",
          "thickness": 1,
          "type": "data",
          "visible": true,
          "width": 3
         },
         "hoverinfo": "text",
         "hovertext": [
          "Check: individual-data-points<br>Average Score: 0.954<br>Prompt: prompt.1<br>Num Points: 16",
          "Check: replicates-defined<br>Average Score: 0.870<br>Prompt: prompt.1<br>Num Points: 16"
         ],
         "marker": {
          "color": "rgb(228,26,28)"
         },
         "name": "prompt.1",
         "showlegend": true,
         "type": "bar",
         "width": 0.25,
         "x": [
          -0.25,
          0.75
         ],
         "y": [
          0.9541214358517974,
          0.8701694548365302
         ]
        },
        {
         "hovertext": [
          "10.1038_emboj.2009.312",
          "10.1038_s44319-025-00432-6",
          "10.1038_emboj.2009.340",
          "10.1038_s44319-025-00438-0",
          "10.1038_embor.2009.217",
          "10.1038_s44320-025-00092-7",
          "10.1038_s44320-025-00092-7",
          "10.1038_embor.2009.233",
          "10.1038_s44320-025-00094-5",
          "10.1038_s44318-025-00409-0",
          "10.1038_s44320-025-00096-3",
          "10.1038_s44318-025-00412-5",
          "10.1038_s44321-025-00219-1",
          "10.1038_s44318-025-00416-1",
          "10.1038_s44319-025-00415-7",
          "10.1038_s44321-025-00224-4",
          "10.1038_emboj.2009.312",
          "10.1038_s44319-025-00432-6",
          "10.1038_emboj.2009.340",
          "10.1038_s44319-025-00438-0",
          "10.1038_embor.2009.217",
          "10.1038_s44320-025-00092-7",
          "10.1038_s44320-025-00092-7",
          "10.1038_embor.2009.233",
          "10.1038_s44320-025-00094-5",
          "10.1038_s44318-025-00409-0",
          "10.1038_s44320-025-00096-3",
          "10.1038_s44318-025-00412-5",
          "10.1038_s44321-025-00219-1",
          "10.1038_s44318-025-00416-1",
          "10.1038_s44319-025-00415-7",
          "10.1038_s44321-025-00224-4"
         ],
         "marker": {
          "color": "white",
          "line": {
           "color": "white",
           "width": 0
          },
          "opacity": 0.4,
          "size": 10
         },
         "mode": "markers",
         "name": "prompt.1",
         "showlegend": true,
         "type": "scatter",
         "x": [
          -0.20942446548453345,
          -0.2600088322455077,
          -0.21492553106050755,
          -0.2443184180550153,
          -0.2472484760429225,
          -0.2793119048846249,
          -0.2333580876979108,
          -0.2511471573139924,
          -0.24719445477402882,
          -0.3076327908180174,
          -0.2875837889632606,
          -0.22651981645414795,
          -0.3324664496356807,
          -0.2214655231381708,
          -0.2416657073062005,
          -0.26144560109426046,
          0.7872341156639519,
          0.7510192441357013,
          0.7286770163693224,
          0.7554350373949683,
          0.7097940119507286,
          0.7244124923466909,
          0.73680493780652,
          0.7169750127059812,
          0.7116682456274772,
          0.7806309373448861,
          0.7827772898106243,
          0.7301585258616351,
          0.6982968172138292,
          0.7841219278049669,
          0.7188096403340359,
          0.7239154082347302
         ],
         "y": {
          "bdata": "AAAAAAAA8D8AAAAAAADwPwAAAAAAAPA/q6qqzmOM7z8AAAAAAADwPxzHcTxtkec/AACAhIKP7j9u27bJ9C/sP6uqqopFQes/AAAAngwH7T/NzMyoc+XuPwAAAAAAAPA/AAAAAAAA8D8AAACsjHfvPwAAAAAAAPA/AAAAAAAA8D8AAACsjHftPwAAAAAAAPA/AAAAAAAA8D/kOI5PcDnuPwAAAAQ/b+o/AAAAAAAA8D8AAEDy5H/qP7dt277fYOQ/VVVVz3Hx4j8zMzObQ4rsPzMzMzMzM+8/dNFFF1107T8AAAC8d1HvPwAAAFbGu+c/VVVVVVVV5T8AAAAAAADwPw==",
          "dtype": "f8"
         }
        },
        {
         "error_y": {
          "array": [
           0.07926583054832032,
           0.23912635910444593
          ],
          "color": "grey",
          "thickness": 1,
          "type": "data",
          "visible": true,
          "width": 3
         },
         "hoverinfo": "text",
         "hovertext": [
          "Check: individual-data-points<br>Average Score: 0.920<br>Prompt: prompt.2<br>Num Points: 16",
          "Check: replicates-defined<br>Average Score: 0.758<br>Prompt: prompt.2<br>Num Points: 16"
         ],
         "marker": {
          "color": "rgb(55,126,184)"
         },
         "name": "prompt.2",
         "showlegend": true,
         "type": "bar",
         "width": 0.25,
         "x": [
          0,
          1
         ],
         "y": [
          0.9196915795143309,
          0.757866194405639
         ]
        },
        {
         "hovertext": [
          "10.1038_emboj.2009.312",
          "10.1038_s44319-025-00432-6",
          "10.1038_emboj.2009.340",
          "10.1038_s44319-025-00438-0",
          "10.1038_embor.2009.217",
          "10.1038_s44320-025-00092-7",
          "10.1038_s44320-025-00092-7",
          "10.1038_embor.2009.233",
          "10.1038_s44320-025-00094-5",
          "10.1038_s44318-025-00409-0",
          "10.1038_s44320-025-00096-3",
          "10.1038_s44318-025-00412-5",
          "10.1038_s44321-025-00219-1",
          "10.1038_s44318-025-00416-1",
          "10.1038_s44319-025-00415-7",
          "10.1038_s44321-025-00224-4",
          "10.1038_emboj.2009.312",
          "10.1038_s44319-025-00432-6",
          "10.1038_emboj.2009.340",
          "10.1038_s44319-025-00438-0",
          "10.1038_embor.2009.217",
          "10.1038_s44320-025-00092-7",
          "10.1038_s44320-025-00092-7",
          "10.1038_embor.2009.233",
          "10.1038_s44320-025-00094-5",
          "10.1038_s44318-025-00409-0",
          "10.1038_s44320-025-00096-3",
          "10.1038_s44318-025-00412-5",
          "10.1038_s44321-025-00219-1",
          "10.1038_s44318-025-00416-1",
          "10.1038_s44319-025-00415-7",
          "10.1038_s44321-025-00224-4"
         ],
         "marker": {
          "color": "white",
          "line": {
           "color": "white",
           "width": 0
          },
          "opacity": 0.4,
          "size": 10
         },
         "mode": "markers",
         "name": "prompt.2",
         "showlegend": true,
         "type": "scatter",
         "x": [
          0.011925324280015446,
          -0.009526058124288734,
          -0.023764607983808004,
          -0.004969174563247236,
          0.03832430377890471,
          -0.010302091809596809,
          0.015733302444291546,
          0.011445988637212636,
          -0.07694563883751228,
          -0.03435362324792145,
          -0.017503194665204492,
          -0.008429779088576,
          -0.011704680295374496,
          0.02985324300747032,
          -0.00790048840017197,
          0.020035570345675716,
          0.987788596471363,
          0.9750423794572696,
          1.0286436830397956,
          0.9786265886172769,
          0.9912179557884031,
          1.004335255635796,
          0.966714062605194,
          1.007126515729093,
          1.0012555667376843,
          0.9997576987640903,
          1.026299497210413,
          1.0103719661732613,
          0.9351754512652587,
          1.03637374322947,
          0.988960478292186,
          1.0404368313569325
         ],
         "y": {
          "bdata": "AAAAAAAA8D8AAAAAAADwPwAAAAAAAPA/5DiOe63h7z8AAAAAAADwP1VVVf1N5uo/AAAAK8YW6z+SJEkSIqfsP6uqqla7GOk/ZmZm8F4A7D+amZnVrA7tPwAAAAAAAPA/AAAATEJ76j8AAAAmoT3tPwAAAExCe+o/AAAAAAAA8D8AAACsjHfrPwAAANCEuO4/AAAAAAAA4D85juNqxBPtPwAAALBk7+k/q6qqOmaf7D8AAECxuDfrP7dt277fYOQ/AAAAAAAAAACamZkBqvDqPzMzMzMzM+8/uuiiiy667D8AAAACqazmPwAAAFbGu+c/VVVVVVVV5T8AAAAAAADsPw==",
          "dtype": "f8"
         }
        },
        {
         "error_y": {
          "array": [
           0.18419395500398525
          ],
          "color": "grey",
          "thickness": 1,
          "type": "data",
          "visible": true,
          "width": 3
         },
         "hoverinfo": "text",
         "hovertext": [
          "Check: replicates-defined<br>Average Score: 0.832<br>Prompt: prompt.3<br>Num Points: 16"
         ],
         "marker": {
          "color": "rgb(77,175,74)"
         },
         "name": "prompt.3",
         "showlegend": true,
         "type": "bar",
         "width": 0.25,
         "x": [
          1.25
         ],
         "y": [
          0.8320119711170127
         ]
        },
        {
         "hovertext": [
          "10.1038_emboj.2009.312",
          "10.1038_s44319-025-00432-6",
          "10.1038_emboj.2009.340",
          "10.1038_s44319-025-00438-0",
          "10.1038_embor.2009.217",
          "10.1038_s44320-025-00092-7",
          "10.1038_s44320-025-00092-7",
          "10.1038_embor.2009.233",
          "10.1038_s44320-025-00094-5",
          "10.1038_s44318-025-00409-0",
          "10.1038_s44320-025-00096-3",
          "10.1038_s44318-025-00412-5",
          "10.1038_s44321-025-00219-1",
          "10.1038_s44318-025-00416-1",
          "10.1038_s44319-025-00415-7",
          "10.1038_s44321-025-00224-4"
         ],
         "marker": {
          "color": "white",
          "line": {
           "color": "white",
           "width": 0
          },
          "opacity": 0.4,
          "size": 10
         },
         "mode": "markers",
         "name": "prompt.3",
         "showlegend": true,
         "type": "scatter",
         "x": [
          1.2608764942720636,
          1.1931481666103545,
          1.2149531567205387,
          1.1638868377706837,
          1.2722578382299083,
          1.2192061589953087,
          1.243487697206677,
          1.2522462667365526,
          1.2236297190839083,
          1.2343098667084937,
          1.241670343718461,
          1.2568267711018752,
          1.226613667679723,
          1.2254880541159963,
          1.2699693526116331,
          1.2646075759793194
         ],
         "y": {
          "bdata": "VVVVa8N04j8AAAAAAADwPwAAAAAAAPA/chzHuR067D8AAAAEP2/qPwAAAAAAAPA/AACAaOYP7D+3bdu+32DkPwAAAMRCN+8/MzMzm0OK7D8zMzMzMzPvPxdddNFFF+0/AAAAvHdR7z8AAABWxrvnP1VVVVVVVeU/AAAAAAAA2D8=",
          "dtype": "f8"
         }
        }
       ],
       "layout": {
        "barmode": "group",
        "height": 600,
        "template": {
         "data": {
          "bar": [
           {
            "error_x": {
             "color": "#f2f5fa"
            },
            "error_y": {
             "color": "#f2f5fa"
            },
            "marker": {
             "line": {
              "color": "rgb(17,17,17)",
              "width": 0.5
             },
             "pattern": {
              "fillmode": "overlay",
              "size": 10,
              "solidity": 0.2
             }
            },
            "type": "bar"
           }
          ],
          "barpolar": [
           {
            "marker": {
             "line": {
              "color": "rgb(17,17,17)",
              "width": 0.5
             },
             "pattern": {
              "fillmode": "overlay",
              "size": 10,
              "solidity": 0.2
             }
            },
            "type": "barpolar"
           }
          ],
          "carpet": [
           {
            "aaxis": {
             "endlinecolor": "#A2B1C6",
             "gridcolor": "#506784",
             "linecolor": "#506784",
             "minorgridcolor": "#506784",
             "startlinecolor": "#A2B1C6"
            },
            "baxis": {
             "endlinecolor": "#A2B1C6",
             "gridcolor": "#506784",
             "linecolor": "#506784",
             "minorgridcolor": "#506784",
             "startlinecolor": "#A2B1C6"
            },
            "type": "carpet"
           }
          ],
          "choropleth": [
           {
            "colorbar": {
             "outlinewidth": 0,
             "ticks": ""
            },
            "type": "choropleth"
           }
          ],
          "contour": [
           {
            "colorbar": {
             "outlinewidth": 0,
             "ticks": ""
            },
            "colorscale": [
             [
              0,
              "#0d0887"
             ],
             [
              0.1111111111111111,
              "#46039f"
             ],
             [
              0.2222222222222222,
              "#7201a8"
             ],
             [
              0.3333333333333333,
              "#9c179e"
             ],
             [
              0.4444444444444444,
              "#bd3786"
             ],
             [
              0.5555555555555556,
              "#d8576b"
             ],
             [
              0.6666666666666666,
              "#ed7953"
             ],
             [
              0.7777777777777778,
              "#fb9f3a"
             ],
             [
              0.8888888888888888,
              "#fdca26"
             ],
             [
              1,
              "#f0f921"
             ]
            ],
            "type": "contour"
           }
          ],
          "contourcarpet": [
           {
            "colorbar": {
             "outlinewidth": 0,
             "ticks": ""
            },
            "type": "contourcarpet"
           }
          ],
          "heatmap": [
           {
            "colorbar": {
             "outlinewidth": 0,
             "ticks": ""
            },
            "colorscale": [
             [
              0,
              "#0d0887"
             ],
             [
              0.1111111111111111,
              "#46039f"
             ],
             [
              0.2222222222222222,
              "#7201a8"
             ],
             [
              0.3333333333333333,
              "#9c179e"
             ],
             [
              0.4444444444444444,
              "#bd3786"
             ],
             [
              0.5555555555555556,
              "#d8576b"
             ],
             [
              0.6666666666666666,
              "#ed7953"
             ],
             [
              0.7777777777777778,
              "#fb9f3a"
             ],
             [
              0.8888888888888888,
              "#fdca26"
             ],
             [
              1,
              "#f0f921"
             ]
            ],
            "type": "heatmap"
           }
          ],
          "histogram": [
           {
            "marker": {
             "pattern": {
              "fillmode": "overlay",
              "size": 10,
              "solidity": 0.2
             }
            },
            "type": "histogram"
           }
          ],
          "histogram2d": [
           {
            "colorbar": {
             "outlinewidth": 0,
             "ticks": ""
            },
            "colorscale": [
             [
              0,
              "#0d0887"
             ],
             [
              0.1111111111111111,
              "#46039f"
             ],
             [
              0.2222222222222222,
              "#7201a8"
             ],
             [
              0.3333333333333333,
              "#9c179e"
             ],
             [
              0.4444444444444444,
              "#bd3786"
             ],
             [
              0.5555555555555556,
              "#d8576b"
             ],
             [
              0.6666666666666666,
              "#ed7953"
             ],
             [
              0.7777777777777778,
              "#fb9f3a"
             ],
             [
              0.8888888888888888,
              "#fdca26"
             ],
             [
              1,
              "#f0f921"
             ]
            ],
            "type": "histogram2d"
           }
          ],
          "histogram2dcontour": [
           {
            "colorbar": {
             "outlinewidth": 0,
             "ticks": ""
            },
            "colorscale": [
             [
              0,
              "#0d0887"
             ],
             [
              0.1111111111111111,
              "#46039f"
             ],
             [
              0.2222222222222222,
              "#7201a8"
             ],
             [
              0.3333333333333333,
              "#9c179e"
             ],
             [
              0.4444444444444444,
              "#bd3786"
             ],
             [
              0.5555555555555556,
              "#d8576b"
             ],
             [
              0.6666666666666666,
              "#ed7953"
             ],
             [
              0.7777777777777778,
              "#fb9f3a"
             ],
             [
              0.8888888888888888,
              "#fdca26"
             ],
             [
              1,
              "#f0f921"
             ]
            ],
            "type": "histogram2dcontour"
           }
          ],
          "mesh3d": [
           {
            "colorbar": {
             "outlinewidth": 0,
             "ticks": ""
            },
            "type": "mesh3d"
           }
          ],
          "parcoords": [
           {
            "line": {
             "colorbar": {
              "outlinewidth": 0,
              "ticks": ""
             }
            },
            "type": "parcoords"
           }
          ],
          "pie": [
           {
            "automargin": true,
            "type": "pie"
           }
          ],
          "scatter": [
           {
            "marker": {
             "line": {
              "color": "#283442"
             }
            },
            "type": "scatter"
           }
          ],
          "scatter3d": [
           {
            "line": {
             "colorbar": {
              "outlinewidth": 0,
              "ticks": ""
             }
            },
            "marker": {
             "colorbar": {
              "outlinewidth": 0,
              "ticks": ""
             }
            },
            "type": "scatter3d"
           }
          ],
          "scattercarpet": [
           {
            "marker": {
             "colorbar": {
              "outlinewidth": 0,
              "ticks": ""
             }
            },
            "type": "scattercarpet"
           }
          ],
          "scattergeo": [
           {
            "marker": {
             "colorbar": {
              "outlinewidth": 0,
              "ticks": ""
             }
            },
            "type": "scattergeo"
           }
          ],
          "scattergl": [
           {
            "marker": {
             "line": {
              "color": "#283442"
             }
            },
            "type": "scattergl"
           }
          ],
          "scattermap": [
           {
            "marker": {
             "colorbar": {
              "outlinewidth": 0,
              "ticks": ""
             }
            },
            "type": "scattermap"
           }
          ],
          "scattermapbox": [
           {
            "marker": {
             "colorbar": {
              "outlinewidth": 0,
              "ticks": ""
             }
            },
            "type": "scattermapbox"
           }
          ],
          "scatterpolar": [
           {
            "marker": {
             "colorbar": {
              "outlinewidth": 0,
              "ticks": ""
             }
            },
            "type": "scatterpolar"
           }
          ],
          "scatterpolargl": [
           {
            "marker": {
             "colorbar": {
              "outlinewidth": 0,
              "ticks": ""
             }
            },
            "type": "scatterpolargl"
           }
          ],
          "scatterternary": [
           {
            "marker": {
             "colorbar": {
              "outlinewidth": 0,
              "ticks": ""
             }
            },
            "type": "scatterternary"
           }
          ],
          "surface": [
           {
            "colorbar": {
             "outlinewidth": 0,
             "ticks": ""
            },
            "colorscale": [
             [
              0,
              "#0d0887"
             ],
             [
              0.1111111111111111,
              "#46039f"
             ],
             [
              0.2222222222222222,
              "#7201a8"
             ],
             [
              0.3333333333333333,
              "#9c179e"
             ],
             [
              0.4444444444444444,
              "#bd3786"
             ],
             [
              0.5555555555555556,
              "#d8576b"
             ],
             [
              0.6666666666666666,
              "#ed7953"
             ],
             [
              0.7777777777777778,
              "#fb9f3a"
             ],
             [
              0.8888888888888888,
              "#fdca26"
             ],
             [
              1,
              "#f0f921"
             ]
            ],
            "type": "surface"
           }
          ],
          "table": [
           {
            "cells": {
             "fill": {
              "color": "#506784"
             },
             "line": {
              "color": "rgb(17,17,17)"
             }
            },
            "header": {
             "fill": {
              "color": "#2a3f5f"
             },
             "line": {
              "color": "rgb(17,17,17)"
             }
            },
            "type": "table"
           }
          ]
         },
         "layout": {
          "annotationdefaults": {
           "arrowcolor": "#f2f5fa",
           "arrowhead": 0,
           "arrowwidth": 1
          },
          "autotypenumbers": "strict",
          "coloraxis": {
           "colorbar": {
            "outlinewidth": 0,
            "ticks": ""
           }
          },
          "colorscale": {
           "diverging": [
            [
             0,
             "#8e0152"
            ],
            [
             0.1,
             "#c51b7d"
            ],
            [
             0.2,
             "#de77ae"
            ],
            [
             0.3,
             "#f1b6da"
            ],
            [
             0.4,
             "#fde0ef"
            ],
            [
             0.5,
             "#f7f7f7"
            ],
            [
             0.6,
             "#e6f5d0"
            ],
            [
             0.7,
             "#b8e186"
            ],
            [
             0.8,
             "#7fbc41"
            ],
            [
             0.9,
             "#4d9221"
            ],
            [
             1,
             "#276419"
            ]
           ],
           "sequential": [
            [
             0,
             "#0d0887"
            ],
            [
             0.1111111111111111,
             "#46039f"
            ],
            [
             0.2222222222222222,
             "#7201a8"
            ],
            [
             0.3333333333333333,
             "#9c179e"
            ],
            [
             0.4444444444444444,
             "#bd3786"
            ],
            [
             0.5555555555555556,
             "#d8576b"
            ],
            [
             0.6666666666666666,
             "#ed7953"
            ],
            [
             0.7777777777777778,
             "#fb9f3a"
            ],
            [
             0.8888888888888888,
             "#fdca26"
            ],
            [
             1,
             "#f0f921"
            ]
           ],
           "sequentialminus": [
            [
             0,
             "#0d0887"
            ],
            [
             0.1111111111111111,
             "#46039f"
            ],
            [
             0.2222222222222222,
             "#7201a8"
            ],
            [
             0.3333333333333333,
             "#9c179e"
            ],
            [
             0.4444444444444444,
             "#bd3786"
            ],
            [
             0.5555555555555556,
             "#d8576b"
            ],
            [
             0.6666666666666666,
             "#ed7953"
            ],
            [
             0.7777777777777778,
             "#fb9f3a"
            ],
            [
             0.8888888888888888,
             "#fdca26"
            ],
            [
             1,
             "#f0f921"
            ]
           ]
          },
          "colorway": [
           "#636efa",
           "#EF553B",
           "#00cc96",
           "#ab63fa",
           "#FFA15A",
           "#19d3f3",
           "#FF6692",
           "#B6E880",
           "#FF97FF",
           "#FECB52"
          ],
          "font": {
           "color": "#f2f5fa"
          },
          "geo": {
           "bgcolor": "rgb(17,17,17)",
           "lakecolor": "rgb(17,17,17)",
           "landcolor": "rgb(17,17,17)",
           "showlakes": true,
           "showland": true,
           "subunitcolor": "#506784"
          },
          "hoverlabel": {
           "align": "left"
          },
          "hovermode": "closest",
          "mapbox": {
           "style": "dark"
          },
          "paper_bgcolor": "rgb(17,17,17)",
          "plot_bgcolor": "rgb(17,17,17)",
          "polar": {
           "angularaxis": {
            "gridcolor": "#506784",
            "linecolor": "#506784",
            "ticks": ""
           },
           "bgcolor": "rgb(17,17,17)",
           "radialaxis": {
            "gridcolor": "#506784",
            "linecolor": "#506784",
            "ticks": ""
           }
          },
          "scene": {
           "xaxis": {
            "backgroundcolor": "rgb(17,17,17)",
            "gridcolor": "#506784",
            "gridwidth": 2,
            "linecolor": "#506784",
            "showbackground": true,
            "ticks": "",
            "zerolinecolor": "#C8D4E3"
           },
           "yaxis": {
            "backgroundcolor": "rgb(17,17,17)",
            "gridcolor": "#506784",
            "gridwidth": 2,
            "linecolor": "#506784",
            "showbackground": true,
            "ticks": "",
            "zerolinecolor": "#C8D4E3"
           },
           "zaxis": {
            "backgroundcolor": "rgb(17,17,17)",
            "gridcolor": "#506784",
            "gridwidth": 2,
            "linecolor": "#506784",
            "showbackground": true,
            "ticks": "",
            "zerolinecolor": "#C8D4E3"
           }
          },
          "shapedefaults": {
           "line": {
            "color": "#f2f5fa"
           }
          },
          "sliderdefaults": {
           "bgcolor": "#C8D4E3",
           "bordercolor": "rgb(17,17,17)",
           "borderwidth": 1,
           "tickwidth": 0
          },
          "ternary": {
           "aaxis": {
            "gridcolor": "#506784",
            "linecolor": "#506784",
            "ticks": ""
           },
           "baxis": {
            "gridcolor": "#506784",
            "linecolor": "#506784",
            "ticks": ""
           },
           "bgcolor": "rgb(17,17,17)",
           "caxis": {
            "gridcolor": "#506784",
            "linecolor": "#506784",
            "ticks": ""
           }
          },
          "title": {
           "x": 0.05
          },
          "updatemenudefaults": {
           "bgcolor": "#506784",
           "borderwidth": 0
          },
          "xaxis": {
           "automargin": true,
           "gridcolor": "#283442",
           "linecolor": "#506784",
           "ticks": "",
           "title": {
            "standoff": 15
           },
           "zerolinecolor": "#283442",
           "zerolinewidth": 2
          },
          "yaxis": {
           "automargin": true,
           "gridcolor": "#283442",
           "linecolor": "#506784",
           "ticks": "",
           "title": {
            "standoff": 15
           },
           "zerolinecolor": "#283442",
           "zerolinewidth": 2
          }
         }
        },
        "title": {
         "font": {
          "size": 24
         },
         "text": "Benchmarking of \"Fig-Checklist\"<br><span style=\"font-size: 0.5em; color: #888;\">Comparing values with semantic similarity</span><br><span style=\"font-size: 0.5em; color: #888;\">Model: gpt-4o-2024-08-06</span>",
         "x": 0.5,
         "y": 0.95
        },
        "width": 1000,
        "xaxis": {
         "range": [
          -0.5,
          1.5
         ],
         "tickangle": 45,
         "ticktext": [
          "individual-data-points",
          "replicates-defined"
         ],
         "tickvals": [
          0,
          1
         ],
         "title": {
          "text": "Check"
         }
        },
        "yaxis": {
         "range": [
          0,
          1.1
         ],
         "title": {
          "text": "Score"
         }
        }
       }
      }
     },
     "metadata": {},
     "output_type": "display_data"
    }
   ],
   "source": [
    "fig, df = checklist_visualization(\n",
    "    \"fig-checklist\",\n",
    "    metric=\"semantic_similarity\",\n",
    "    model=MODEL,\n",
    "    aggregation_level=0\n",
    ")\n",
    "fig.show()"
   ]
  },
  {
   "cell_type": "code",
   "execution_count": 69,
   "metadata": {},
   "outputs": [
    {
     "name": "stderr",
     "output_type": "stream",
     "text": [
      "2025-07-25 11:24:24 - INFO - Creating plot (prompt.1, semantic_similarity), plotting score for individual-data-points...\n",
      "2025-07-25 11:24:24 - INFO - Plotting data: 504 rows\n",
      "2025-07-25 11:24:24 - INFO - Creating plot (prompt.2, semantic_similarity), plotting score for individual-data-points...\n",
      "2025-07-25 11:24:24 - INFO - Plotting data: 504 rows\n"
     ]
    },
    {
     "data": {
      "application/vnd.plotly.v1+json": {
       "config": {
        "plotlyServerURL": "https://plot.ly"
       },
       "data": [
        {
         "hovertext": [
          "10.1038_emboj.2009.312/match_0_0",
          "10.1038_emboj.2009.312/match_0_0",
          "10.1038_emboj.2009.312/match_0_0",
          "10.1038_emboj.2009.312/match_0_0",
          "10.1038_emboj.2009.312/match_1_1",
          "10.1038_emboj.2009.312/match_1_1",
          "10.1038_emboj.2009.312/match_1_1",
          "10.1038_emboj.2009.312/match_1_1",
          "10.1038_emboj.2009.312/match_2_2",
          "10.1038_emboj.2009.312/match_2_2",
          "10.1038_emboj.2009.312/match_2_2",
          "10.1038_emboj.2009.312/match_2_2",
          "10.1038_emboj.2009.312/match_3_3",
          "10.1038_emboj.2009.312/match_3_3",
          "10.1038_emboj.2009.312/match_3_3",
          "10.1038_emboj.2009.312/match_3_3",
          "10.1038_emboj.2009.312/match_4_4",
          "10.1038_emboj.2009.312/match_4_4",
          "10.1038_emboj.2009.312/match_4_4",
          "10.1038_emboj.2009.312/match_4_4",
          "10.1038_emboj.2009.312/match_5_5",
          "10.1038_emboj.2009.312/match_5_5",
          "10.1038_emboj.2009.312/match_5_5",
          "10.1038_emboj.2009.312/match_5_5",
          "10.1038_emboj.2009.312/match_6_6",
          "10.1038_emboj.2009.312/match_6_6",
          "10.1038_emboj.2009.312/match_6_6",
          "10.1038_emboj.2009.312/match_6_6",
          "10.1038_emboj.2009.312/match_7_7",
          "10.1038_emboj.2009.312/match_7_7",
          "10.1038_emboj.2009.312/match_7_7",
          "10.1038_emboj.2009.312/match_7_7",
          "10.1038_emboj.2009.312/match_8_8",
          "10.1038_emboj.2009.312/match_8_8",
          "10.1038_emboj.2009.312/match_8_8",
          "10.1038_emboj.2009.312/match_8_8",
          "10.1038_emboj.2009.312/match_9_9",
          "10.1038_emboj.2009.312/match_9_9",
          "10.1038_emboj.2009.312/match_9_9",
          "10.1038_emboj.2009.312/match_9_9",
          "10.1038_emboj.2009.312/match_10_10",
          "10.1038_emboj.2009.312/match_10_10",
          "10.1038_emboj.2009.312/match_10_10",
          "10.1038_emboj.2009.312/match_10_10",
          "10.1038_emboj.2009.312/match_11_11",
          "10.1038_emboj.2009.312/match_11_11",
          "10.1038_emboj.2009.312/match_11_11",
          "10.1038_emboj.2009.312/match_11_11",
          "10.1038_s44319-025-00432-6/match_0_0",
          "10.1038_s44319-025-00432-6/match_0_0",
          "10.1038_s44319-025-00432-6/match_0_0",
          "10.1038_s44319-025-00432-6/match_0_0",
          "10.1038_s44319-025-00432-6/match_1_1",
          "10.1038_s44319-025-00432-6/match_1_1",
          "10.1038_s44319-025-00432-6/match_1_1",
          "10.1038_s44319-025-00432-6/match_1_1",
          "10.1038_s44319-025-00432-6/match_2_2",
          "10.1038_s44319-025-00432-6/match_2_2",
          "10.1038_s44319-025-00432-6/match_2_2",
          "10.1038_s44319-025-00432-6/match_2_2",
          "10.1038_s44319-025-00432-6/match_3_3",
          "10.1038_s44319-025-00432-6/match_3_3",
          "10.1038_s44319-025-00432-6/match_3_3",
          "10.1038_s44319-025-00432-6/match_3_3",
          "10.1038_s44319-025-00432-6/match_4_4",
          "10.1038_s44319-025-00432-6/match_4_4",
          "10.1038_s44319-025-00432-6/match_4_4",
          "10.1038_s44319-025-00432-6/match_4_4",
          "10.1038_emboj.2009.340/match_0_0",
          "10.1038_emboj.2009.340/match_0_0",
          "10.1038_emboj.2009.340/match_0_0",
          "10.1038_emboj.2009.340/match_0_0",
          "10.1038_emboj.2009.340/match_1_1",
          "10.1038_emboj.2009.340/match_1_1",
          "10.1038_emboj.2009.340/match_1_1",
          "10.1038_emboj.2009.340/match_1_1",
          "10.1038_s44319-025-00438-0/match_0_0",
          "10.1038_s44319-025-00438-0/match_0_0",
          "10.1038_s44319-025-00438-0/match_0_0",
          "10.1038_s44319-025-00438-0/match_0_0",
          "10.1038_s44319-025-00438-0/match_1_1",
          "10.1038_s44319-025-00438-0/match_1_1",
          "10.1038_s44319-025-00438-0/match_1_1",
          "10.1038_s44319-025-00438-0/match_1_1",
          "10.1038_s44319-025-00438-0/match_2_2",
          "10.1038_s44319-025-00438-0/match_2_2",
          "10.1038_s44319-025-00438-0/match_2_2",
          "10.1038_s44319-025-00438-0/match_2_2",
          "10.1038_s44319-025-00438-0/match_3_3",
          "10.1038_s44319-025-00438-0/match_3_3",
          "10.1038_s44319-025-00438-0/match_3_3",
          "10.1038_s44319-025-00438-0/match_3_3",
          "10.1038_s44319-025-00438-0/match_4_4",
          "10.1038_s44319-025-00438-0/match_4_4",
          "10.1038_s44319-025-00438-0/match_4_4",
          "10.1038_s44319-025-00438-0/match_4_4",
          "10.1038_s44319-025-00438-0/match_5_5",
          "10.1038_s44319-025-00438-0/match_5_5",
          "10.1038_s44319-025-00438-0/match_5_5",
          "10.1038_s44319-025-00438-0/match_5_5",
          "10.1038_s44319-025-00438-0/match_6_6",
          "10.1038_s44319-025-00438-0/match_6_6",
          "10.1038_s44319-025-00438-0/match_6_6",
          "10.1038_s44319-025-00438-0/match_6_6",
          "10.1038_s44319-025-00438-0/match_7_7",
          "10.1038_s44319-025-00438-0/match_7_7",
          "10.1038_s44319-025-00438-0/match_7_7",
          "10.1038_s44319-025-00438-0/match_7_7",
          "10.1038_s44319-025-00438-0/match_8_8",
          "10.1038_s44319-025-00438-0/match_8_8",
          "10.1038_s44319-025-00438-0/match_8_8",
          "10.1038_s44319-025-00438-0/match_8_8",
          "10.1038_s44319-025-00438-0/match_9_9",
          "10.1038_s44319-025-00438-0/match_9_9",
          "10.1038_s44319-025-00438-0/match_9_9",
          "10.1038_s44319-025-00438-0/match_9_9",
          "10.1038_s44319-025-00438-0/match_10_10",
          "10.1038_s44319-025-00438-0/match_10_10",
          "10.1038_s44319-025-00438-0/match_10_10",
          "10.1038_s44319-025-00438-0/match_10_10",
          "10.1038_s44319-025-00438-0/match_11_11",
          "10.1038_s44319-025-00438-0/match_11_11",
          "10.1038_s44319-025-00438-0/match_11_11",
          "10.1038_s44319-025-00438-0/match_11_11",
          "10.1038_s44319-025-00438-0/match_12_12",
          "10.1038_s44319-025-00438-0/match_12_12",
          "10.1038_s44319-025-00438-0/match_12_12",
          "10.1038_s44319-025-00438-0/match_12_12",
          "10.1038_s44319-025-00438-0/match_13_13",
          "10.1038_s44319-025-00438-0/match_13_13",
          "10.1038_s44319-025-00438-0/match_13_13",
          "10.1038_s44319-025-00438-0/match_13_13",
          "10.1038_s44319-025-00438-0/match_14_14",
          "10.1038_s44319-025-00438-0/match_14_14",
          "10.1038_s44319-025-00438-0/match_14_14",
          "10.1038_s44319-025-00438-0/match_14_14",
          "10.1038_s44319-025-00438-0/match_15_15",
          "10.1038_s44319-025-00438-0/match_15_15",
          "10.1038_s44319-025-00438-0/match_15_15",
          "10.1038_s44319-025-00438-0/match_15_15",
          "10.1038_s44319-025-00438-0/match_16_16",
          "10.1038_s44319-025-00438-0/match_16_16",
          "10.1038_s44319-025-00438-0/match_16_16",
          "10.1038_s44319-025-00438-0/match_16_16",
          "10.1038_s44319-025-00438-0/match_17_17",
          "10.1038_s44319-025-00438-0/match_17_17",
          "10.1038_s44319-025-00438-0/match_17_17",
          "10.1038_s44319-025-00438-0/match_17_17",
          "10.1038_embor.2009.217/match_0_0",
          "10.1038_embor.2009.217/match_0_0",
          "10.1038_embor.2009.217/match_0_0",
          "10.1038_embor.2009.217/match_0_0",
          "10.1038_embor.2009.217/match_1_1",
          "10.1038_embor.2009.217/match_1_1",
          "10.1038_embor.2009.217/match_1_1",
          "10.1038_embor.2009.217/match_1_1",
          "10.1038_embor.2009.217/match_2_2",
          "10.1038_embor.2009.217/match_2_2",
          "10.1038_embor.2009.217/match_2_2",
          "10.1038_embor.2009.217/match_2_2",
          "10.1038_embor.2009.217/match_3_3",
          "10.1038_embor.2009.217/match_3_3",
          "10.1038_embor.2009.217/match_3_3",
          "10.1038_embor.2009.217/match_3_3",
          "10.1038_s44320-025-00092-7/match_0_0",
          "10.1038_s44320-025-00092-7/match_0_0",
          "10.1038_s44320-025-00092-7/match_0_0",
          "10.1038_s44320-025-00092-7/match_0_0",
          "10.1038_s44320-025-00092-7/match_1_1",
          "10.1038_s44320-025-00092-7/match_1_1",
          "10.1038_s44320-025-00092-7/match_1_1",
          "10.1038_s44320-025-00092-7/match_1_1",
          "10.1038_s44320-025-00092-7/match_2_2",
          "10.1038_s44320-025-00092-7/match_2_2",
          "10.1038_s44320-025-00092-7/match_2_2",
          "10.1038_s44320-025-00092-7/match_2_2",
          "10.1038_s44320-025-00092-7/match_3_3",
          "10.1038_s44320-025-00092-7/match_3_3",
          "10.1038_s44320-025-00092-7/match_3_3",
          "10.1038_s44320-025-00092-7/match_3_3",
          "10.1038_s44320-025-00092-7/match_4_4",
          "10.1038_s44320-025-00092-7/match_4_4",
          "10.1038_s44320-025-00092-7/match_4_4",
          "10.1038_s44320-025-00092-7/match_4_4",
          "10.1038_s44320-025-00092-7/match_5_5",
          "10.1038_s44320-025-00092-7/match_5_5",
          "10.1038_s44320-025-00092-7/match_5_5",
          "10.1038_s44320-025-00092-7/match_5_5",
          "10.1038_s44320-025-00092-7/match_6_6",
          "10.1038_s44320-025-00092-7/match_6_6",
          "10.1038_s44320-025-00092-7/match_6_6",
          "10.1038_s44320-025-00092-7/match_6_6",
          "10.1038_s44320-025-00092-7/match_7_7",
          "10.1038_s44320-025-00092-7/match_7_7",
          "10.1038_s44320-025-00092-7/match_7_7",
          "10.1038_s44320-025-00092-7/match_7_7",
          "10.1038_s44320-025-00092-7/match_8_8",
          "10.1038_s44320-025-00092-7/match_8_8",
          "10.1038_s44320-025-00092-7/match_8_8",
          "10.1038_s44320-025-00092-7/match_8_8",
          "10.1038_s44320-025-00092-7/match_0_0",
          "10.1038_s44320-025-00092-7/match_0_0",
          "10.1038_s44320-025-00092-7/match_0_0",
          "10.1038_s44320-025-00092-7/match_0_0",
          "10.1038_s44320-025-00092-7/match_1_1",
          "10.1038_s44320-025-00092-7/match_1_1",
          "10.1038_s44320-025-00092-7/match_1_1",
          "10.1038_s44320-025-00092-7/match_1_1",
          "10.1038_s44320-025-00092-7/match_2_2",
          "10.1038_s44320-025-00092-7/match_2_2",
          "10.1038_s44320-025-00092-7/match_2_2",
          "10.1038_s44320-025-00092-7/match_2_2",
          "10.1038_s44320-025-00092-7/match_3_3",
          "10.1038_s44320-025-00092-7/match_3_3",
          "10.1038_s44320-025-00092-7/match_3_3",
          "10.1038_s44320-025-00092-7/match_3_3",
          "10.1038_s44320-025-00092-7/match_4_4",
          "10.1038_s44320-025-00092-7/match_4_4",
          "10.1038_s44320-025-00092-7/match_4_4",
          "10.1038_s44320-025-00092-7/match_4_4",
          "10.1038_s44320-025-00092-7/match_5_5",
          "10.1038_s44320-025-00092-7/match_5_5",
          "10.1038_s44320-025-00092-7/match_5_5",
          "10.1038_s44320-025-00092-7/match_5_5",
          "10.1038_s44320-025-00092-7/match_6_6",
          "10.1038_s44320-025-00092-7/match_6_6",
          "10.1038_s44320-025-00092-7/match_6_6",
          "10.1038_s44320-025-00092-7/match_6_6",
          "10.1038_s44320-025-00092-7/match_7_7",
          "10.1038_s44320-025-00092-7/match_7_7",
          "10.1038_s44320-025-00092-7/match_7_7",
          "10.1038_s44320-025-00092-7/match_7_7",
          "10.1038_embor.2009.233/match_0_0",
          "10.1038_embor.2009.233/match_0_0",
          "10.1038_embor.2009.233/match_0_0",
          "10.1038_embor.2009.233/match_0_0",
          "10.1038_embor.2009.233/match_1_1",
          "10.1038_embor.2009.233/match_1_1",
          "10.1038_embor.2009.233/match_1_1",
          "10.1038_embor.2009.233/match_1_1",
          "10.1038_embor.2009.233/match_2_2",
          "10.1038_embor.2009.233/match_2_2",
          "10.1038_embor.2009.233/match_2_2",
          "10.1038_embor.2009.233/match_2_2",
          "10.1038_embor.2009.233/match_3_6",
          "10.1038_embor.2009.233/match_3_6",
          "10.1038_embor.2009.233/match_3_6",
          "10.1038_embor.2009.233/match_3_6",
          "10.1038_embor.2009.233/match_4_4",
          "10.1038_embor.2009.233/match_4_4",
          "10.1038_embor.2009.233/match_4_4",
          "10.1038_embor.2009.233/match_4_4",
          "10.1038_embor.2009.233/match_5_5",
          "10.1038_embor.2009.233/match_5_5",
          "10.1038_embor.2009.233/match_5_5",
          "10.1038_embor.2009.233/match_5_5",
          "10.1038_embor.2009.233/match_6_3",
          "10.1038_embor.2009.233/match_6_3",
          "10.1038_embor.2009.233/match_6_3",
          "10.1038_embor.2009.233/match_6_3",
          "10.1038_s44320-025-00094-5/match_0_0",
          "10.1038_s44320-025-00094-5/match_0_0",
          "10.1038_s44320-025-00094-5/match_0_0",
          "10.1038_s44320-025-00094-5/match_0_0",
          "10.1038_s44320-025-00094-5/match_1_1",
          "10.1038_s44320-025-00094-5/match_1_1",
          "10.1038_s44320-025-00094-5/match_1_1",
          "10.1038_s44320-025-00094-5/match_1_1",
          "10.1038_s44320-025-00094-5/match_2_2",
          "10.1038_s44320-025-00094-5/match_2_2",
          "10.1038_s44320-025-00094-5/match_2_2",
          "10.1038_s44320-025-00094-5/match_2_2",
          "10.1038_s44320-025-00094-5/match_3_3",
          "10.1038_s44320-025-00094-5/match_3_3",
          "10.1038_s44320-025-00094-5/match_3_3",
          "10.1038_s44320-025-00094-5/match_3_3",
          "10.1038_s44320-025-00094-5/match_4_4",
          "10.1038_s44320-025-00094-5/match_4_4",
          "10.1038_s44320-025-00094-5/match_4_4",
          "10.1038_s44320-025-00094-5/match_4_4",
          "10.1038_s44320-025-00094-5/match_5_5",
          "10.1038_s44320-025-00094-5/match_5_5",
          "10.1038_s44320-025-00094-5/match_5_5",
          "10.1038_s44320-025-00094-5/match_5_5",
          "10.1038_s44318-025-00409-0/match_0_0",
          "10.1038_s44318-025-00409-0/match_0_0",
          "10.1038_s44318-025-00409-0/match_0_0",
          "10.1038_s44318-025-00409-0/match_0_0",
          "10.1038_s44318-025-00409-0/match_1_1",
          "10.1038_s44318-025-00409-0/match_1_1",
          "10.1038_s44318-025-00409-0/match_1_1",
          "10.1038_s44318-025-00409-0/match_1_1",
          "10.1038_s44318-025-00409-0/match_2_2",
          "10.1038_s44318-025-00409-0/match_2_2",
          "10.1038_s44318-025-00409-0/match_2_2",
          "10.1038_s44318-025-00409-0/match_2_2",
          "10.1038_s44318-025-00409-0/match_3_3",
          "10.1038_s44318-025-00409-0/match_3_3",
          "10.1038_s44318-025-00409-0/match_3_3",
          "10.1038_s44318-025-00409-0/match_3_3",
          "10.1038_s44318-025-00409-0/match_4_4",
          "10.1038_s44318-025-00409-0/match_4_4",
          "10.1038_s44318-025-00409-0/match_4_4",
          "10.1038_s44318-025-00409-0/match_4_4",
          "10.1038_s44318-025-00409-0/match_5_5",
          "10.1038_s44318-025-00409-0/match_5_5",
          "10.1038_s44318-025-00409-0/match_5_5",
          "10.1038_s44318-025-00409-0/match_5_5",
          "10.1038_s44318-025-00409-0/match_6_6",
          "10.1038_s44318-025-00409-0/match_6_6",
          "10.1038_s44318-025-00409-0/match_6_6",
          "10.1038_s44318-025-00409-0/match_6_6",
          "10.1038_s44318-025-00409-0/match_7_7",
          "10.1038_s44318-025-00409-0/match_7_7",
          "10.1038_s44318-025-00409-0/match_7_7",
          "10.1038_s44318-025-00409-0/match_7_7",
          "10.1038_s44318-025-00409-0/match_8_8",
          "10.1038_s44318-025-00409-0/match_8_8",
          "10.1038_s44318-025-00409-0/match_8_8",
          "10.1038_s44318-025-00409-0/match_8_8",
          "10.1038_s44318-025-00409-0/match_9_9",
          "10.1038_s44318-025-00409-0/match_9_9",
          "10.1038_s44318-025-00409-0/match_9_9",
          "10.1038_s44318-025-00409-0/match_9_9",
          "10.1038_s44320-025-00096-3/match_0_0",
          "10.1038_s44320-025-00096-3/match_0_0",
          "10.1038_s44320-025-00096-3/match_0_0",
          "10.1038_s44320-025-00096-3/match_0_0",
          "10.1038_s44320-025-00096-3/match_1_1",
          "10.1038_s44320-025-00096-3/match_1_1",
          "10.1038_s44320-025-00096-3/match_1_1",
          "10.1038_s44320-025-00096-3/match_1_1",
          "10.1038_s44320-025-00096-3/match_2_2",
          "10.1038_s44320-025-00096-3/match_2_2",
          "10.1038_s44320-025-00096-3/match_2_2",
          "10.1038_s44320-025-00096-3/match_2_2",
          "10.1038_s44320-025-00096-3/match_3_3",
          "10.1038_s44320-025-00096-3/match_3_3",
          "10.1038_s44320-025-00096-3/match_3_3",
          "10.1038_s44320-025-00096-3/match_3_3",
          "10.1038_s44320-025-00096-3/match_4_4",
          "10.1038_s44320-025-00096-3/match_4_4",
          "10.1038_s44320-025-00096-3/match_4_4",
          "10.1038_s44320-025-00096-3/match_4_4",
          "10.1038_s44320-025-00096-3/match_5_5",
          "10.1038_s44320-025-00096-3/match_5_5",
          "10.1038_s44320-025-00096-3/match_5_5",
          "10.1038_s44320-025-00096-3/match_5_5",
          "10.1038_s44320-025-00096-3/match_6_6",
          "10.1038_s44320-025-00096-3/match_6_6",
          "10.1038_s44320-025-00096-3/match_6_6",
          "10.1038_s44320-025-00096-3/match_6_6",
          "10.1038_s44320-025-00096-3/match_7_7",
          "10.1038_s44320-025-00096-3/match_7_7",
          "10.1038_s44320-025-00096-3/match_7_7",
          "10.1038_s44320-025-00096-3/match_7_7",
          "10.1038_s44320-025-00096-3/match_8_8",
          "10.1038_s44320-025-00096-3/match_8_8",
          "10.1038_s44320-025-00096-3/match_8_8",
          "10.1038_s44320-025-00096-3/match_8_8",
          "10.1038_s44320-025-00096-3/match_9_9",
          "10.1038_s44320-025-00096-3/match_9_9",
          "10.1038_s44320-025-00096-3/match_9_9",
          "10.1038_s44320-025-00096-3/match_9_9",
          "10.1038_s44318-025-00412-5/match_0_0",
          "10.1038_s44318-025-00412-5/match_0_0",
          "10.1038_s44318-025-00412-5/match_0_0",
          "10.1038_s44318-025-00412-5/match_0_0",
          "10.1038_s44318-025-00412-5/match_1_1",
          "10.1038_s44318-025-00412-5/match_1_1",
          "10.1038_s44318-025-00412-5/match_1_1",
          "10.1038_s44318-025-00412-5/match_1_1",
          "10.1038_s44318-025-00412-5/match_2_2",
          "10.1038_s44318-025-00412-5/match_2_2",
          "10.1038_s44318-025-00412-5/match_2_2",
          "10.1038_s44318-025-00412-5/match_2_2",
          "10.1038_s44318-025-00412-5/match_3_3",
          "10.1038_s44318-025-00412-5/match_3_3",
          "10.1038_s44318-025-00412-5/match_3_3",
          "10.1038_s44318-025-00412-5/match_3_3",
          "10.1038_s44318-025-00412-5/match_4_4",
          "10.1038_s44318-025-00412-5/match_4_4",
          "10.1038_s44318-025-00412-5/match_4_4",
          "10.1038_s44318-025-00412-5/match_4_4",
          "10.1038_s44318-025-00412-5/match_5_5",
          "10.1038_s44318-025-00412-5/match_5_5",
          "10.1038_s44318-025-00412-5/match_5_5",
          "10.1038_s44318-025-00412-5/match_5_5",
          "10.1038_s44318-025-00412-5/match_6_6",
          "10.1038_s44318-025-00412-5/match_6_6",
          "10.1038_s44318-025-00412-5/match_6_6",
          "10.1038_s44318-025-00412-5/match_6_6",
          "10.1038_s44318-025-00412-5/match_7_7",
          "10.1038_s44318-025-00412-5/match_7_7",
          "10.1038_s44318-025-00412-5/match_7_7",
          "10.1038_s44318-025-00412-5/match_7_7",
          "10.1038_s44318-025-00412-5/match_8_8",
          "10.1038_s44318-025-00412-5/match_8_8",
          "10.1038_s44318-025-00412-5/match_8_8",
          "10.1038_s44318-025-00412-5/match_8_8",
          "10.1038_s44318-025-00412-5/match_9_9",
          "10.1038_s44318-025-00412-5/match_9_9",
          "10.1038_s44318-025-00412-5/match_9_9",
          "10.1038_s44318-025-00412-5/match_9_9",
          "10.1038_s44318-025-00412-5/match_10_10",
          "10.1038_s44318-025-00412-5/match_10_10",
          "10.1038_s44318-025-00412-5/match_10_10",
          "10.1038_s44318-025-00412-5/match_10_10",
          "10.1038_s44321-025-00219-1/match_0_0",
          "10.1038_s44321-025-00219-1/match_0_0",
          "10.1038_s44321-025-00219-1/match_0_0",
          "10.1038_s44321-025-00219-1/match_0_0",
          "10.1038_s44321-025-00219-1/match_1_1",
          "10.1038_s44321-025-00219-1/match_1_1",
          "10.1038_s44321-025-00219-1/match_1_1",
          "10.1038_s44321-025-00219-1/match_1_1",
          "10.1038_s44321-025-00219-1/match_2_2",
          "10.1038_s44321-025-00219-1/match_2_2",
          "10.1038_s44321-025-00219-1/match_2_2",
          "10.1038_s44321-025-00219-1/match_2_2",
          "10.1038_s44321-025-00219-1/match_3_3",
          "10.1038_s44321-025-00219-1/match_3_3",
          "10.1038_s44321-025-00219-1/match_3_3",
          "10.1038_s44321-025-00219-1/match_3_3",
          "10.1038_s44318-025-00416-1/match_0_0",
          "10.1038_s44318-025-00416-1/match_0_0",
          "10.1038_s44318-025-00416-1/match_0_0",
          "10.1038_s44318-025-00416-1/match_0_0",
          "10.1038_s44318-025-00416-1/match_1_1",
          "10.1038_s44318-025-00416-1/match_1_1",
          "10.1038_s44318-025-00416-1/match_1_1",
          "10.1038_s44318-025-00416-1/match_1_1",
          "10.1038_s44318-025-00416-1/match_2_2",
          "10.1038_s44318-025-00416-1/match_2_2",
          "10.1038_s44318-025-00416-1/match_2_2",
          "10.1038_s44318-025-00416-1/match_2_2",
          "10.1038_s44318-025-00416-1/match_3_3",
          "10.1038_s44318-025-00416-1/match_3_3",
          "10.1038_s44318-025-00416-1/match_3_3",
          "10.1038_s44318-025-00416-1/match_3_3",
          "10.1038_s44318-025-00416-1/match_4_4",
          "10.1038_s44318-025-00416-1/match_4_4",
          "10.1038_s44318-025-00416-1/match_4_4",
          "10.1038_s44318-025-00416-1/match_4_4",
          "10.1038_s44318-025-00416-1/match_5_5",
          "10.1038_s44318-025-00416-1/match_5_5",
          "10.1038_s44318-025-00416-1/match_5_5",
          "10.1038_s44318-025-00416-1/match_5_5",
          "10.1038_s44318-025-00416-1/match_6_6",
          "10.1038_s44318-025-00416-1/match_6_6",
          "10.1038_s44318-025-00416-1/match_6_6",
          "10.1038_s44318-025-00416-1/match_6_6",
          "10.1038_s44318-025-00416-1/match_7_7",
          "10.1038_s44318-025-00416-1/match_7_7",
          "10.1038_s44318-025-00416-1/match_7_7",
          "10.1038_s44318-025-00416-1/match_7_7",
          "10.1038_s44319-025-00415-7/match_0_0",
          "10.1038_s44319-025-00415-7/match_0_0",
          "10.1038_s44319-025-00415-7/match_0_0",
          "10.1038_s44319-025-00415-7/match_0_0",
          "10.1038_s44319-025-00415-7/match_1_1",
          "10.1038_s44319-025-00415-7/match_1_1",
          "10.1038_s44319-025-00415-7/match_1_1",
          "10.1038_s44319-025-00415-7/match_1_1",
          "10.1038_s44319-025-00415-7/match_2_2",
          "10.1038_s44319-025-00415-7/match_2_2",
          "10.1038_s44319-025-00415-7/match_2_2",
          "10.1038_s44319-025-00415-7/match_2_2",
          "10.1038_s44319-025-00415-7/match_3_3",
          "10.1038_s44319-025-00415-7/match_3_3",
          "10.1038_s44319-025-00415-7/match_3_3",
          "10.1038_s44319-025-00415-7/match_3_3",
          "10.1038_s44319-025-00415-7/match_4_4",
          "10.1038_s44319-025-00415-7/match_4_4",
          "10.1038_s44319-025-00415-7/match_4_4",
          "10.1038_s44319-025-00415-7/match_4_4",
          "10.1038_s44319-025-00415-7/match_5_5",
          "10.1038_s44319-025-00415-7/match_5_5",
          "10.1038_s44319-025-00415-7/match_5_5",
          "10.1038_s44319-025-00415-7/match_5_5",
          "10.1038_s44321-025-00224-4/match_0_0",
          "10.1038_s44321-025-00224-4/match_0_0",
          "10.1038_s44321-025-00224-4/match_0_0",
          "10.1038_s44321-025-00224-4/match_0_0",
          "10.1038_s44321-025-00224-4/match_1_1",
          "10.1038_s44321-025-00224-4/match_1_1",
          "10.1038_s44321-025-00224-4/match_1_1",
          "10.1038_s44321-025-00224-4/match_1_1",
          "10.1038_s44321-025-00224-4/match_2_2",
          "10.1038_s44321-025-00224-4/match_2_2",
          "10.1038_s44321-025-00224-4/match_2_2",
          "10.1038_s44321-025-00224-4/match_2_2",
          "10.1038_s44321-025-00224-4/match_3_3",
          "10.1038_s44321-025-00224-4/match_3_3",
          "10.1038_s44321-025-00224-4/match_3_3",
          "10.1038_s44321-025-00224-4/match_3_3",
          "10.1038_s44321-025-00224-4/match_4_4",
          "10.1038_s44321-025-00224-4/match_4_4",
          "10.1038_s44321-025-00224-4/match_4_4",
          "10.1038_s44321-025-00224-4/match_4_4",
          "10.1038_s44321-025-00224-4/match_5_5",
          "10.1038_s44321-025-00224-4/match_5_5",
          "10.1038_s44321-025-00224-4/match_5_5",
          "10.1038_s44321-025-00224-4/match_5_5"
         ],
         "marker": {
          "color": "white",
          "line": {
           "color": "white",
           "width": 0
          },
          "opacity": 0.4,
          "size": 5
         },
         "mode": "markers",
         "name": "prompt.1",
         "showlegend": true,
         "type": "scatter",
         "x": [
          -0.22968487290681255,
          0.8369666742255427,
          1.7245108746330482,
          2.851254230069147,
          -0.24154662640998603,
          0.8369806726341755,
          1.7677903944391917,
          2.8755459537659283,
          -0.0794854914105826,
          0.7935193612009082,
          1.8499057763309705,
          2.832945078212703,
          -0.17108292881449022,
          0.905149284373677,
          1.8600640141154408,
          2.87059309943461,
          -0.2029933095045327,
          0.8069205384580073,
          1.7674409211561148,
          2.860404529914407,
          -0.18609605351642197,
          0.7940934687377766,
          1.8477428236804998,
          2.8769817590699764,
          -0.2358589022552255,
          0.861843054044992,
          1.9034448182371542,
          2.8537212207831644,
          -0.1112001880497352,
          0.7425296491262594,
          1.8592213868651861,
          2.821061806732049,
          -0.17557092991117923,
          0.8540538313125999,
          1.8538579752863598,
          2.8342837320840095,
          -0.13397138412673112,
          0.839098856793947,
          1.859599473824628,
          2.860471166851804,
          -0.1517430640876367,
          0.8314998177083471,
          1.7867363113789434,
          2.8346300562169513,
          -0.23662665858869036,
          0.8399545709115529,
          1.8148273565777053,
          2.8011558499449407,
          -0.17551916714377105,
          0.7810186216947402,
          1.8473892801171292,
          2.8191822753119955,
          -0.21449199856440285,
          0.7074413450208703,
          1.8511795735932435,
          2.867021846498008,
          -0.1314942866869539,
          0.8163816022380946,
          1.7708178736305937,
          2.8673967914859673,
          -0.18391893097184966,
          0.8020127709028161,
          1.8270750707893793,
          2.880356071101668,
          -0.08376612649815415,
          0.8470884413684825,
          1.8485565143564122,
          2.8576900036402755,
          -0.10750402388716904,
          0.8165947952790275,
          1.8819162213340612,
          2.8098648045993055,
          -0.14624944294998105,
          0.8779780354191846,
          1.860761045959901,
          2.8237432751732814,
          -0.160726574065565,
          0.7549161246949002,
          1.7938158239832702,
          2.8052221317988133,
          -0.1315501817531275,
          0.7950522742272548,
          1.8733132517020192,
          2.8087075229215257,
          -0.16271556516113858,
          0.8609673928696283,
          1.887506708628998,
          2.8262333849340795,
          -0.14632063752486216,
          0.8283925178961885,
          1.8424808420578669,
          2.8437003132181986,
          -0.23046636759588862,
          0.8259635102583044,
          1.8498318076422604,
          2.8583070123733916,
          -0.1852005921892673,
          0.8255468700160052,
          1.831473281411615,
          2.8050350619467035,
          -0.11871888913179929,
          0.8176470944578561,
          1.8220782709687846,
          2.9209115581462357,
          -0.19514183352315592,
          0.815908616420422,
          1.8308070613569778,
          2.7828777649813143,
          -0.1638446834195155,
          0.7752489219784844,
          1.8445663247036952,
          2.8369400867176773,
          -0.20394480026486295,
          0.7796266227172399,
          1.8532032067586581,
          2.919531090352305,
          -0.1675625916748691,
          0.8449674670619783,
          1.7633388365826579,
          2.8011855448877343,
          -0.1692673335161077,
          0.8716541436213906,
          1.8451696206669297,
          2.8478137270623467,
          -0.09593890435496069,
          0.8396113876966286,
          1.839531644031492,
          2.850795317186448,
          -0.1397251519075825,
          0.8930072289374548,
          1.773381549399635,
          2.8062153523312063,
          -0.18053888561917675,
          0.7935596317043689,
          1.8794736323042112,
          2.7919614526052334,
          -0.22586496355735056,
          0.8139560514471904,
          1.829348947965232,
          2.8183390192073534,
          -0.16627704149775335,
          0.7894094273033923,
          1.8583385293313568,
          2.7946821388639864,
          -0.19655914058905327,
          0.8973536669987763,
          1.8164642125918162,
          2.8345986369064042,
          -0.17073245204470028,
          0.8073021546366513,
          1.8027334797377763,
          2.878570616943965,
          -0.10862607563081272,
          0.8455989890005281,
          1.8342852400483636,
          2.892540432893033,
          -0.16121145293035458,
          0.8923004606414463,
          1.7429380711568716,
          2.835809483101315,
          -0.17681992309580324,
          0.8094903818540814,
          1.8590290480885585,
          2.8104920587197664,
          -0.20192193616098475,
          0.8336052264455395,
          1.8684496676347562,
          2.7995582232839893,
          -0.22862423602322463,
          0.8093381605167467,
          1.804367090101198,
          2.775371498087797,
          -0.1993755127088392,
          0.8420722975780267,
          1.8021355277102387,
          2.884119323554664,
          -0.1413414271316813,
          0.8230288066536371,
          1.8546045552602475,
          2.7921671118275557,
          -0.2267681001022468,
          0.7976285813626981,
          1.7817202414736717,
          2.915503980460021,
          -0.19910984372037369,
          0.8566167032228617,
          1.783590518143419,
          2.840490098184591,
          -0.18407696508609153,
          0.8240572217770862,
          1.855131376800247,
          2.7999470898662486,
          -0.17609843385941346,
          0.8107909449557247,
          1.872234504668618,
          2.816554832944739,
          -0.16219015201682788,
          0.8858463455887451,
          1.7507475022208425,
          2.895034500968717,
          -0.15437894841626587,
          0.791029230428639,
          1.826908290833608,
          2.7907115600441585,
          -0.14567103669430698,
          0.783600904452897,
          1.8277777894111498,
          2.7542392281004653,
          -0.14195662535544581,
          0.8085209028791357,
          1.8624856302256254,
          2.773978185090773,
          -0.1516060655055893,
          0.8793192144611024,
          1.84870186508877,
          2.8391292368221546,
          -0.14394865593214187,
          0.7877555053022854,
          1.83771345851124,
          2.811174222675526,
          -0.170670448051989,
          0.8289263612476697,
          1.833011360888867,
          2.7739208080441333,
          -0.11067127375827693,
          0.760980852711895,
          1.821067837187026,
          2.8537194819162286,
          -0.12162678506660352,
          0.803625097857995,
          1.8543127224460896,
          2.7644004447321513,
          -0.2639074083058397,
          0.8130039724693567,
          1.7960861467289018,
          2.8710170009823393,
          -0.1654283924786677,
          0.7660187485077541,
          1.913164987265006,
          2.83178974687278,
          -0.17586339740354742,
          0.8690082769274441,
          1.756685950207899,
          2.826917787824921,
          -0.14205991335945917,
          0.8014240254597549,
          1.781188083286588,
          2.8768547594350924,
          -0.1575229308423362,
          0.8466688094794472,
          1.8764106698158403,
          2.8100362744866163,
          -0.25370847496536025,
          0.9345446748693088,
          1.8291680970432562,
          2.906447318313346,
          -0.1879377384117898,
          0.7620427170205,
          1.780445818629319,
          2.8473915229934637,
          -0.14011983643450612,
          0.8118810850430777,
          1.838937168925014,
          2.8971118737902506,
          -0.2438466158775745,
          0.7350567967566181,
          1.9453428610263985,
          2.808936394380503,
          -0.10787199653512135,
          0.7716529278504654,
          1.8894503184905995,
          2.843069873695382,
          -0.1902538858657041,
          0.8948798311249653,
          1.8141955026068928,
          2.882188870806117,
          -0.17371439159818933,
          0.8329572388226887,
          1.8429098392331742,
          2.8598816930839974,
          -0.17380938111908015,
          0.8129206180386226,
          1.814994226176416,
          2.8323458772136525,
          -0.1863909956854115,
          0.8210829135561991,
          1.7731944390471632,
          2.856195288765559,
          -0.10277196100293104,
          0.8031488008202524,
          1.7869262504738184,
          2.8489811273689716,
          -0.18127656104184903,
          0.8276806230991641,
          1.871418357981009,
          2.9416838355467925,
          -0.18621112052458494,
          0.858279675505108,
          1.7745123245614367,
          2.8618413404393372,
          -0.13692119757628915,
          0.8265028429305956,
          1.843304666497252,
          2.7652073240541903,
          -0.1932618392831384,
          0.7918000843731772,
          1.8223736441862632,
          2.8273796934963005,
          -0.14947602729409495,
          0.7862173052012446,
          1.8425800360542928,
          2.893532543431984,
          -0.21141455677846155,
          0.8363448883730104,
          1.9068051989443815,
          2.8412462004822534,
          -0.289795748295165,
          0.7935792700610121,
          1.780701790723096,
          2.862931312522377,
          -0.14490039476526223,
          0.8029458333553768,
          1.7161874335660054,
          2.8399124024802767,
          -0.1845364393741101,
          0.8086898672049412,
          1.8176654219277752,
          2.7717085860762696,
          -0.2498171985817536,
          0.8817352195322824,
          1.8178833884938883,
          2.869893863153458,
          -0.16998805923995386,
          0.8510824341184574,
          1.79836757518664,
          2.8125808296107686,
          -0.17920068203816691,
          0.7971012567875679,
          1.8075847772527303,
          2.839816597594358,
          -0.17170128255754966,
          0.81548471055704,
          1.8780988420421998,
          2.81103284727218,
          -0.16856420122150031,
          0.7940447340223273,
          1.7925735972207795,
          2.847564257194206,
          -0.18728233703332003,
          0.7618408694520082,
          1.7919366064280684,
          2.848406289585091,
          -0.17044203019199827,
          0.8221224922465283,
          1.8101723949863378,
          2.8743611543964454,
          -0.13393017843400679,
          0.7783997644167971,
          1.8803576107167541,
          2.8242249918905475,
          -0.13708883377744582,
          0.8060669573241942,
          1.871121952488367,
          2.798481734609148,
          -0.20090886386941814,
          0.7761965950295221,
          1.8012038644234614,
          2.7837900305218075,
          -0.14308368680539818,
          0.9217502954404684,
          1.9301480587275175,
          2.8175695177977467,
          -0.16930859655089084,
          0.8197159404788429,
          1.7941744943879605,
          2.8699878982893883,
          -0.17519799267071687,
          0.8138528885405852,
          1.8009860224476297,
          2.929604146909755,
          -0.1389286874059769,
          0.7995927231917559,
          1.7516414075042066,
          2.8386935332005,
          -0.16705803992810475,
          0.8174058056055009,
          1.805514600491,
          2.8548380077738966,
          -0.18681364249255059,
          0.7053841376861724,
          1.835511298325442,
          2.8082323934601483,
          -0.17943873548279027,
          0.8686542215149937,
          1.8633312360822534,
          2.848491340477853,
          -0.19164665184280247,
          0.7668500721284611,
          1.848647234728511,
          2.8154347734584073,
          -0.06116985856625057,
          0.8879006958656356,
          1.8436465499466328,
          2.8321762080567727,
          -0.17307757085367473,
          0.8380186787343801,
          1.9323926294578149,
          2.839592976945246,
          -0.15670091107621315,
          0.8334433116783233,
          1.849347583150615,
          2.857106665396888,
          -0.16705926675320573,
          0.754748403644884,
          1.8316514261215076,
          2.8489006300900983,
          -0.1851211400114059,
          0.7711929614246693,
          1.8103335723155933,
          2.8004764543299254,
          -0.09351101287299383,
          0.8353635334758835,
          1.8262958808667886,
          2.795056525882834,
          -0.17457166352751588,
          0.8432604604785875,
          1.7965769602054287,
          2.8066996333191154,
          -0.16778056908486047,
          0.8546720516467156,
          1.7974395768362768,
          2.7694638892169112,
          -0.13602721761826406,
          0.8158822353993522,
          1.7666300764339888,
          2.7649084865871907,
          -0.17639681401604335,
          0.8492562642246195,
          1.7852710259862823,
          2.8487472970350862,
          -0.13315742303241393,
          0.8048531261800428,
          1.8709058262995633,
          2.802107348634581,
          -0.2621939300924223,
          0.9261665512457331,
          1.7948059577909,
          2.8624883332524123,
          -0.23698205787340754,
          0.8163789780376781,
          1.8692064753785538,
          2.784610201163468,
          -0.13693719587354472,
          0.8573515019834907,
          1.838426326342344,
          2.8613338390342977,
          -0.22391267423548442,
          0.8205464498493694,
          1.7813981234709213,
          2.849775450900188,
          -0.0867359277293706,
          0.8922791051653637,
          1.7637157576557725,
          2.7941768945162617,
          -0.12793184749114964,
          0.8189968968575234,
          1.8523969906119948,
          2.814585594768531,
          -0.22696604179715918,
          0.8460410546454264,
          1.9024808583016302,
          2.9394794534198065,
          -0.10772151875361928,
          0.9052849656712634,
          1.8206673262934439,
          2.848479867027198,
          -0.17470389920682294,
          0.7867397801088545,
          1.893287496646713,
          2.828152913945692,
          -0.17226169098714092,
          0.8317473823871613,
          1.828624284560614,
          2.821978741580503,
          -0.2064445615197994,
          0.8490625827855603,
          1.8511778321634638,
          2.80365340428758,
          -0.18994242232581562,
          0.8891097624051251,
          1.8332106284497263,
          2.8390528746119377,
          -0.15940502500231124,
          0.7604024246510469,
          1.8569548550992785,
          2.828232195804208,
          -0.1830912534894623,
          0.8533058419365644,
          1.9165429977918036,
          2.843747660760064,
          -0.1411204162307892,
          0.8355656318856836,
          1.8506681433124275,
          2.798716020916795
         ],
         "y": {
          "bdata": "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",
          "dtype": "f8"
         }
        },
        {
         "error_y": {
          "array": {
           "bdata": "KLX1FO9Rzz+hL03PYmzJP2qI3f9lELA/ND90XPODsj8=",
           "dtype": "f8"
          },
          "color": "grey",
          "thickness": 1,
          "type": "data",
          "visible": true,
          "width": 3
         },
         "hovertext": [
          "Field: average_values<br>0.8998525968146702: 0.900<br>Prompt: prompt.1",
          "Field: individual_values<br>0.9350733406960018: 0.935<br>Prompt: prompt.1",
          "Field: panel_label<br>0.9920624012038821: 0.992<br>Prompt: prompt.1",
          "Field: plot<br>0.9788488187487163: 0.979<br>Prompt: prompt.1"
         ],
         "marker": {
          "color": "rgb(228,26,28)"
         },
         "name": "prompt.1",
         "showlegend": true,
         "type": "bar",
         "width": 0.3333333333333333,
         "x": [
          -0.16666666666666666,
          0.8333333333333334,
          1.8333333333333333,
          2.8333333333333335
         ],
         "y": {
          "bdata": "FEVRrJfL7D9N0zTtHuztP4ZhGKb5vu8/giAIwrpS7z8=",
          "dtype": "f8"
         }
        },
        {
         "hovertext": [
          "10.1038_emboj.2009.312/match_0_0",
          "10.1038_emboj.2009.312/match_0_0",
          "10.1038_emboj.2009.312/match_0_0",
          "10.1038_emboj.2009.312/match_0_0",
          "10.1038_emboj.2009.312/match_1_1",
          "10.1038_emboj.2009.312/match_1_1",
          "10.1038_emboj.2009.312/match_1_1",
          "10.1038_emboj.2009.312/match_1_1",
          "10.1038_emboj.2009.312/match_2_2",
          "10.1038_emboj.2009.312/match_2_2",
          "10.1038_emboj.2009.312/match_2_2",
          "10.1038_emboj.2009.312/match_2_2",
          "10.1038_emboj.2009.312/match_3_3",
          "10.1038_emboj.2009.312/match_3_3",
          "10.1038_emboj.2009.312/match_3_3",
          "10.1038_emboj.2009.312/match_3_3",
          "10.1038_emboj.2009.312/match_4_4",
          "10.1038_emboj.2009.312/match_4_4",
          "10.1038_emboj.2009.312/match_4_4",
          "10.1038_emboj.2009.312/match_4_4",
          "10.1038_emboj.2009.312/match_5_5",
          "10.1038_emboj.2009.312/match_5_5",
          "10.1038_emboj.2009.312/match_5_5",
          "10.1038_emboj.2009.312/match_5_5",
          "10.1038_emboj.2009.312/match_6_6",
          "10.1038_emboj.2009.312/match_6_6",
          "10.1038_emboj.2009.312/match_6_6",
          "10.1038_emboj.2009.312/match_6_6",
          "10.1038_emboj.2009.312/match_7_7",
          "10.1038_emboj.2009.312/match_7_7",
          "10.1038_emboj.2009.312/match_7_7",
          "10.1038_emboj.2009.312/match_7_7",
          "10.1038_emboj.2009.312/match_8_8",
          "10.1038_emboj.2009.312/match_8_8",
          "10.1038_emboj.2009.312/match_8_8",
          "10.1038_emboj.2009.312/match_8_8",
          "10.1038_emboj.2009.312/match_9_9",
          "10.1038_emboj.2009.312/match_9_9",
          "10.1038_emboj.2009.312/match_9_9",
          "10.1038_emboj.2009.312/match_9_9",
          "10.1038_emboj.2009.312/match_10_10",
          "10.1038_emboj.2009.312/match_10_10",
          "10.1038_emboj.2009.312/match_10_10",
          "10.1038_emboj.2009.312/match_10_10",
          "10.1038_emboj.2009.312/match_11_11",
          "10.1038_emboj.2009.312/match_11_11",
          "10.1038_emboj.2009.312/match_11_11",
          "10.1038_emboj.2009.312/match_11_11",
          "10.1038_s44319-025-00432-6/match_0_0",
          "10.1038_s44319-025-00432-6/match_0_0",
          "10.1038_s44319-025-00432-6/match_0_0",
          "10.1038_s44319-025-00432-6/match_0_0",
          "10.1038_s44319-025-00432-6/match_1_1",
          "10.1038_s44319-025-00432-6/match_1_1",
          "10.1038_s44319-025-00432-6/match_1_1",
          "10.1038_s44319-025-00432-6/match_1_1",
          "10.1038_s44319-025-00432-6/match_2_2",
          "10.1038_s44319-025-00432-6/match_2_2",
          "10.1038_s44319-025-00432-6/match_2_2",
          "10.1038_s44319-025-00432-6/match_2_2",
          "10.1038_s44319-025-00432-6/match_3_3",
          "10.1038_s44319-025-00432-6/match_3_3",
          "10.1038_s44319-025-00432-6/match_3_3",
          "10.1038_s44319-025-00432-6/match_3_3",
          "10.1038_s44319-025-00432-6/match_4_4",
          "10.1038_s44319-025-00432-6/match_4_4",
          "10.1038_s44319-025-00432-6/match_4_4",
          "10.1038_s44319-025-00432-6/match_4_4",
          "10.1038_emboj.2009.340/match_0_0",
          "10.1038_emboj.2009.340/match_0_0",
          "10.1038_emboj.2009.340/match_0_0",
          "10.1038_emboj.2009.340/match_0_0",
          "10.1038_emboj.2009.340/match_1_1",
          "10.1038_emboj.2009.340/match_1_1",
          "10.1038_emboj.2009.340/match_1_1",
          "10.1038_emboj.2009.340/match_1_1",
          "10.1038_s44319-025-00438-0/match_0_0",
          "10.1038_s44319-025-00438-0/match_0_0",
          "10.1038_s44319-025-00438-0/match_0_0",
          "10.1038_s44319-025-00438-0/match_0_0",
          "10.1038_s44319-025-00438-0/match_1_1",
          "10.1038_s44319-025-00438-0/match_1_1",
          "10.1038_s44319-025-00438-0/match_1_1",
          "10.1038_s44319-025-00438-0/match_1_1",
          "10.1038_s44319-025-00438-0/match_2_2",
          "10.1038_s44319-025-00438-0/match_2_2",
          "10.1038_s44319-025-00438-0/match_2_2",
          "10.1038_s44319-025-00438-0/match_2_2",
          "10.1038_s44319-025-00438-0/match_3_3",
          "10.1038_s44319-025-00438-0/match_3_3",
          "10.1038_s44319-025-00438-0/match_3_3",
          "10.1038_s44319-025-00438-0/match_3_3",
          "10.1038_s44319-025-00438-0/match_4_4",
          "10.1038_s44319-025-00438-0/match_4_4",
          "10.1038_s44319-025-00438-0/match_4_4",
          "10.1038_s44319-025-00438-0/match_4_4",
          "10.1038_s44319-025-00438-0/match_5_5",
          "10.1038_s44319-025-00438-0/match_5_5",
          "10.1038_s44319-025-00438-0/match_5_5",
          "10.1038_s44319-025-00438-0/match_5_5",
          "10.1038_s44319-025-00438-0/match_6_6",
          "10.1038_s44319-025-00438-0/match_6_6",
          "10.1038_s44319-025-00438-0/match_6_6",
          "10.1038_s44319-025-00438-0/match_6_6",
          "10.1038_s44319-025-00438-0/match_7_7",
          "10.1038_s44319-025-00438-0/match_7_7",
          "10.1038_s44319-025-00438-0/match_7_7",
          "10.1038_s44319-025-00438-0/match_7_7",
          "10.1038_s44319-025-00438-0/match_8_8",
          "10.1038_s44319-025-00438-0/match_8_8",
          "10.1038_s44319-025-00438-0/match_8_8",
          "10.1038_s44319-025-00438-0/match_8_8",
          "10.1038_s44319-025-00438-0/match_9_9",
          "10.1038_s44319-025-00438-0/match_9_9",
          "10.1038_s44319-025-00438-0/match_9_9",
          "10.1038_s44319-025-00438-0/match_9_9",
          "10.1038_s44319-025-00438-0/match_10_10",
          "10.1038_s44319-025-00438-0/match_10_10",
          "10.1038_s44319-025-00438-0/match_10_10",
          "10.1038_s44319-025-00438-0/match_10_10",
          "10.1038_s44319-025-00438-0/match_11_11",
          "10.1038_s44319-025-00438-0/match_11_11",
          "10.1038_s44319-025-00438-0/match_11_11",
          "10.1038_s44319-025-00438-0/match_11_11",
          "10.1038_s44319-025-00438-0/match_12_12",
          "10.1038_s44319-025-00438-0/match_12_12",
          "10.1038_s44319-025-00438-0/match_12_12",
          "10.1038_s44319-025-00438-0/match_12_12",
          "10.1038_s44319-025-00438-0/match_13_13",
          "10.1038_s44319-025-00438-0/match_13_13",
          "10.1038_s44319-025-00438-0/match_13_13",
          "10.1038_s44319-025-00438-0/match_13_13",
          "10.1038_s44319-025-00438-0/match_14_14",
          "10.1038_s44319-025-00438-0/match_14_14",
          "10.1038_s44319-025-00438-0/match_14_14",
          "10.1038_s44319-025-00438-0/match_14_14",
          "10.1038_s44319-025-00438-0/match_15_15",
          "10.1038_s44319-025-00438-0/match_15_15",
          "10.1038_s44319-025-00438-0/match_15_15",
          "10.1038_s44319-025-00438-0/match_15_15",
          "10.1038_s44319-025-00438-0/match_16_16",
          "10.1038_s44319-025-00438-0/match_16_16",
          "10.1038_s44319-025-00438-0/match_16_16",
          "10.1038_s44319-025-00438-0/match_16_16",
          "10.1038_s44319-025-00438-0/match_17_17",
          "10.1038_s44319-025-00438-0/match_17_17",
          "10.1038_s44319-025-00438-0/match_17_17",
          "10.1038_s44319-025-00438-0/match_17_17",
          "10.1038_embor.2009.217/match_0_0",
          "10.1038_embor.2009.217/match_0_0",
          "10.1038_embor.2009.217/match_0_0",
          "10.1038_embor.2009.217/match_0_0",
          "10.1038_embor.2009.217/match_1_1",
          "10.1038_embor.2009.217/match_1_1",
          "10.1038_embor.2009.217/match_1_1",
          "10.1038_embor.2009.217/match_1_1",
          "10.1038_embor.2009.217/match_2_2",
          "10.1038_embor.2009.217/match_2_2",
          "10.1038_embor.2009.217/match_2_2",
          "10.1038_embor.2009.217/match_2_2",
          "10.1038_embor.2009.217/match_3_3",
          "10.1038_embor.2009.217/match_3_3",
          "10.1038_embor.2009.217/match_3_3",
          "10.1038_embor.2009.217/match_3_3",
          "10.1038_s44320-025-00092-7/match_0_0",
          "10.1038_s44320-025-00092-7/match_0_0",
          "10.1038_s44320-025-00092-7/match_0_0",
          "10.1038_s44320-025-00092-7/match_0_0",
          "10.1038_s44320-025-00092-7/match_1_1",
          "10.1038_s44320-025-00092-7/match_1_1",
          "10.1038_s44320-025-00092-7/match_1_1",
          "10.1038_s44320-025-00092-7/match_1_1",
          "10.1038_s44320-025-00092-7/match_2_2",
          "10.1038_s44320-025-00092-7/match_2_2",
          "10.1038_s44320-025-00092-7/match_2_2",
          "10.1038_s44320-025-00092-7/match_2_2",
          "10.1038_s44320-025-00092-7/match_3_3",
          "10.1038_s44320-025-00092-7/match_3_3",
          "10.1038_s44320-025-00092-7/match_3_3",
          "10.1038_s44320-025-00092-7/match_3_3",
          "10.1038_s44320-025-00092-7/match_4_4",
          "10.1038_s44320-025-00092-7/match_4_4",
          "10.1038_s44320-025-00092-7/match_4_4",
          "10.1038_s44320-025-00092-7/match_4_4",
          "10.1038_s44320-025-00092-7/match_5_5",
          "10.1038_s44320-025-00092-7/match_5_5",
          "10.1038_s44320-025-00092-7/match_5_5",
          "10.1038_s44320-025-00092-7/match_5_5",
          "10.1038_s44320-025-00092-7/match_6_6",
          "10.1038_s44320-025-00092-7/match_6_6",
          "10.1038_s44320-025-00092-7/match_6_6",
          "10.1038_s44320-025-00092-7/match_6_6",
          "10.1038_s44320-025-00092-7/match_7_7",
          "10.1038_s44320-025-00092-7/match_7_7",
          "10.1038_s44320-025-00092-7/match_7_7",
          "10.1038_s44320-025-00092-7/match_7_7",
          "10.1038_s44320-025-00092-7/match_8_8",
          "10.1038_s44320-025-00092-7/match_8_8",
          "10.1038_s44320-025-00092-7/match_8_8",
          "10.1038_s44320-025-00092-7/match_8_8",
          "10.1038_s44320-025-00092-7/match_0_0",
          "10.1038_s44320-025-00092-7/match_0_0",
          "10.1038_s44320-025-00092-7/match_0_0",
          "10.1038_s44320-025-00092-7/match_0_0",
          "10.1038_s44320-025-00092-7/match_1_1",
          "10.1038_s44320-025-00092-7/match_1_1",
          "10.1038_s44320-025-00092-7/match_1_1",
          "10.1038_s44320-025-00092-7/match_1_1",
          "10.1038_s44320-025-00092-7/match_2_2",
          "10.1038_s44320-025-00092-7/match_2_2",
          "10.1038_s44320-025-00092-7/match_2_2",
          "10.1038_s44320-025-00092-7/match_2_2",
          "10.1038_s44320-025-00092-7/match_3_3",
          "10.1038_s44320-025-00092-7/match_3_3",
          "10.1038_s44320-025-00092-7/match_3_3",
          "10.1038_s44320-025-00092-7/match_3_3",
          "10.1038_s44320-025-00092-7/match_4_4",
          "10.1038_s44320-025-00092-7/match_4_4",
          "10.1038_s44320-025-00092-7/match_4_4",
          "10.1038_s44320-025-00092-7/match_4_4",
          "10.1038_s44320-025-00092-7/match_5_5",
          "10.1038_s44320-025-00092-7/match_5_5",
          "10.1038_s44320-025-00092-7/match_5_5",
          "10.1038_s44320-025-00092-7/match_5_5",
          "10.1038_s44320-025-00092-7/match_6_6",
          "10.1038_s44320-025-00092-7/match_6_6",
          "10.1038_s44320-025-00092-7/match_6_6",
          "10.1038_s44320-025-00092-7/match_6_6",
          "10.1038_s44320-025-00092-7/match_7_7",
          "10.1038_s44320-025-00092-7/match_7_7",
          "10.1038_s44320-025-00092-7/match_7_7",
          "10.1038_s44320-025-00092-7/match_7_7",
          "10.1038_embor.2009.233/match_0_0",
          "10.1038_embor.2009.233/match_0_0",
          "10.1038_embor.2009.233/match_0_0",
          "10.1038_embor.2009.233/match_0_0",
          "10.1038_embor.2009.233/match_1_1",
          "10.1038_embor.2009.233/match_1_1",
          "10.1038_embor.2009.233/match_1_1",
          "10.1038_embor.2009.233/match_1_1",
          "10.1038_embor.2009.233/match_2_2",
          "10.1038_embor.2009.233/match_2_2",
          "10.1038_embor.2009.233/match_2_2",
          "10.1038_embor.2009.233/match_2_2",
          "10.1038_embor.2009.233/match_3_3",
          "10.1038_embor.2009.233/match_3_3",
          "10.1038_embor.2009.233/match_3_3",
          "10.1038_embor.2009.233/match_3_3",
          "10.1038_embor.2009.233/match_4_4",
          "10.1038_embor.2009.233/match_4_4",
          "10.1038_embor.2009.233/match_4_4",
          "10.1038_embor.2009.233/match_4_4",
          "10.1038_embor.2009.233/match_5_5",
          "10.1038_embor.2009.233/match_5_5",
          "10.1038_embor.2009.233/match_5_5",
          "10.1038_embor.2009.233/match_5_5",
          "10.1038_embor.2009.233/match_6_6",
          "10.1038_embor.2009.233/match_6_6",
          "10.1038_embor.2009.233/match_6_6",
          "10.1038_embor.2009.233/match_6_6",
          "10.1038_s44320-025-00094-5/match_0_0",
          "10.1038_s44320-025-00094-5/match_0_0",
          "10.1038_s44320-025-00094-5/match_0_0",
          "10.1038_s44320-025-00094-5/match_0_0",
          "10.1038_s44320-025-00094-5/match_1_1",
          "10.1038_s44320-025-00094-5/match_1_1",
          "10.1038_s44320-025-00094-5/match_1_1",
          "10.1038_s44320-025-00094-5/match_1_1",
          "10.1038_s44320-025-00094-5/match_2_2",
          "10.1038_s44320-025-00094-5/match_2_2",
          "10.1038_s44320-025-00094-5/match_2_2",
          "10.1038_s44320-025-00094-5/match_2_2",
          "10.1038_s44320-025-00094-5/match_3_3",
          "10.1038_s44320-025-00094-5/match_3_3",
          "10.1038_s44320-025-00094-5/match_3_3",
          "10.1038_s44320-025-00094-5/match_3_3",
          "10.1038_s44320-025-00094-5/match_4_4",
          "10.1038_s44320-025-00094-5/match_4_4",
          "10.1038_s44320-025-00094-5/match_4_4",
          "10.1038_s44320-025-00094-5/match_4_4",
          "10.1038_s44320-025-00094-5/match_5_5",
          "10.1038_s44320-025-00094-5/match_5_5",
          "10.1038_s44320-025-00094-5/match_5_5",
          "10.1038_s44320-025-00094-5/match_5_5",
          "10.1038_s44318-025-00409-0/match_0_0",
          "10.1038_s44318-025-00409-0/match_0_0",
          "10.1038_s44318-025-00409-0/match_0_0",
          "10.1038_s44318-025-00409-0/match_0_0",
          "10.1038_s44318-025-00409-0/match_1_1",
          "10.1038_s44318-025-00409-0/match_1_1",
          "10.1038_s44318-025-00409-0/match_1_1",
          "10.1038_s44318-025-00409-0/match_1_1",
          "10.1038_s44318-025-00409-0/match_2_2",
          "10.1038_s44318-025-00409-0/match_2_2",
          "10.1038_s44318-025-00409-0/match_2_2",
          "10.1038_s44318-025-00409-0/match_2_2",
          "10.1038_s44318-025-00409-0/match_3_3",
          "10.1038_s44318-025-00409-0/match_3_3",
          "10.1038_s44318-025-00409-0/match_3_3",
          "10.1038_s44318-025-00409-0/match_3_3",
          "10.1038_s44318-025-00409-0/match_4_4",
          "10.1038_s44318-025-00409-0/match_4_4",
          "10.1038_s44318-025-00409-0/match_4_4",
          "10.1038_s44318-025-00409-0/match_4_4",
          "10.1038_s44318-025-00409-0/match_5_5",
          "10.1038_s44318-025-00409-0/match_5_5",
          "10.1038_s44318-025-00409-0/match_5_5",
          "10.1038_s44318-025-00409-0/match_5_5",
          "10.1038_s44318-025-00409-0/match_6_6",
          "10.1038_s44318-025-00409-0/match_6_6",
          "10.1038_s44318-025-00409-0/match_6_6",
          "10.1038_s44318-025-00409-0/match_6_6",
          "10.1038_s44318-025-00409-0/match_7_7",
          "10.1038_s44318-025-00409-0/match_7_7",
          "10.1038_s44318-025-00409-0/match_7_7",
          "10.1038_s44318-025-00409-0/match_7_7",
          "10.1038_s44318-025-00409-0/match_8_8",
          "10.1038_s44318-025-00409-0/match_8_8",
          "10.1038_s44318-025-00409-0/match_8_8",
          "10.1038_s44318-025-00409-0/match_8_8",
          "10.1038_s44318-025-00409-0/match_9_9",
          "10.1038_s44318-025-00409-0/match_9_9",
          "10.1038_s44318-025-00409-0/match_9_9",
          "10.1038_s44318-025-00409-0/match_9_9",
          "10.1038_s44320-025-00096-3/match_0_0",
          "10.1038_s44320-025-00096-3/match_0_0",
          "10.1038_s44320-025-00096-3/match_0_0",
          "10.1038_s44320-025-00096-3/match_0_0",
          "10.1038_s44320-025-00096-3/match_1_1",
          "10.1038_s44320-025-00096-3/match_1_1",
          "10.1038_s44320-025-00096-3/match_1_1",
          "10.1038_s44320-025-00096-3/match_1_1",
          "10.1038_s44320-025-00096-3/match_2_2",
          "10.1038_s44320-025-00096-3/match_2_2",
          "10.1038_s44320-025-00096-3/match_2_2",
          "10.1038_s44320-025-00096-3/match_2_2",
          "10.1038_s44320-025-00096-3/match_3_3",
          "10.1038_s44320-025-00096-3/match_3_3",
          "10.1038_s44320-025-00096-3/match_3_3",
          "10.1038_s44320-025-00096-3/match_3_3",
          "10.1038_s44320-025-00096-3/match_4_4",
          "10.1038_s44320-025-00096-3/match_4_4",
          "10.1038_s44320-025-00096-3/match_4_4",
          "10.1038_s44320-025-00096-3/match_4_4",
          "10.1038_s44320-025-00096-3/match_5_5",
          "10.1038_s44320-025-00096-3/match_5_5",
          "10.1038_s44320-025-00096-3/match_5_5",
          "10.1038_s44320-025-00096-3/match_5_5",
          "10.1038_s44320-025-00096-3/match_6_6",
          "10.1038_s44320-025-00096-3/match_6_6",
          "10.1038_s44320-025-00096-3/match_6_6",
          "10.1038_s44320-025-00096-3/match_6_6",
          "10.1038_s44320-025-00096-3/match_7_7",
          "10.1038_s44320-025-00096-3/match_7_7",
          "10.1038_s44320-025-00096-3/match_7_7",
          "10.1038_s44320-025-00096-3/match_7_7",
          "10.1038_s44320-025-00096-3/match_8_8",
          "10.1038_s44320-025-00096-3/match_8_8",
          "10.1038_s44320-025-00096-3/match_8_8",
          "10.1038_s44320-025-00096-3/match_8_8",
          "10.1038_s44320-025-00096-3/match_9_9",
          "10.1038_s44320-025-00096-3/match_9_9",
          "10.1038_s44320-025-00096-3/match_9_9",
          "10.1038_s44320-025-00096-3/match_9_9",
          "10.1038_s44318-025-00412-5/match_0_0",
          "10.1038_s44318-025-00412-5/match_0_0",
          "10.1038_s44318-025-00412-5/match_0_0",
          "10.1038_s44318-025-00412-5/match_0_0",
          "10.1038_s44318-025-00412-5/match_1_1",
          "10.1038_s44318-025-00412-5/match_1_1",
          "10.1038_s44318-025-00412-5/match_1_1",
          "10.1038_s44318-025-00412-5/match_1_1",
          "10.1038_s44318-025-00412-5/match_2_2",
          "10.1038_s44318-025-00412-5/match_2_2",
          "10.1038_s44318-025-00412-5/match_2_2",
          "10.1038_s44318-025-00412-5/match_2_2",
          "10.1038_s44318-025-00412-5/match_3_3",
          "10.1038_s44318-025-00412-5/match_3_3",
          "10.1038_s44318-025-00412-5/match_3_3",
          "10.1038_s44318-025-00412-5/match_3_3",
          "10.1038_s44318-025-00412-5/match_4_4",
          "10.1038_s44318-025-00412-5/match_4_4",
          "10.1038_s44318-025-00412-5/match_4_4",
          "10.1038_s44318-025-00412-5/match_4_4",
          "10.1038_s44318-025-00412-5/match_5_5",
          "10.1038_s44318-025-00412-5/match_5_5",
          "10.1038_s44318-025-00412-5/match_5_5",
          "10.1038_s44318-025-00412-5/match_5_5",
          "10.1038_s44318-025-00412-5/match_6_6",
          "10.1038_s44318-025-00412-5/match_6_6",
          "10.1038_s44318-025-00412-5/match_6_6",
          "10.1038_s44318-025-00412-5/match_6_6",
          "10.1038_s44318-025-00412-5/match_7_7",
          "10.1038_s44318-025-00412-5/match_7_7",
          "10.1038_s44318-025-00412-5/match_7_7",
          "10.1038_s44318-025-00412-5/match_7_7",
          "10.1038_s44318-025-00412-5/match_8_8",
          "10.1038_s44318-025-00412-5/match_8_8",
          "10.1038_s44318-025-00412-5/match_8_8",
          "10.1038_s44318-025-00412-5/match_8_8",
          "10.1038_s44318-025-00412-5/match_9_9",
          "10.1038_s44318-025-00412-5/match_9_9",
          "10.1038_s44318-025-00412-5/match_9_9",
          "10.1038_s44318-025-00412-5/match_9_9",
          "10.1038_s44318-025-00412-5/match_10_10",
          "10.1038_s44318-025-00412-5/match_10_10",
          "10.1038_s44318-025-00412-5/match_10_10",
          "10.1038_s44318-025-00412-5/match_10_10",
          "10.1038_s44321-025-00219-1/match_0_0",
          "10.1038_s44321-025-00219-1/match_0_0",
          "10.1038_s44321-025-00219-1/match_0_0",
          "10.1038_s44321-025-00219-1/match_0_0",
          "10.1038_s44321-025-00219-1/match_1_1",
          "10.1038_s44321-025-00219-1/match_1_1",
          "10.1038_s44321-025-00219-1/match_1_1",
          "10.1038_s44321-025-00219-1/match_1_1",
          "10.1038_s44321-025-00219-1/match_2_2",
          "10.1038_s44321-025-00219-1/match_2_2",
          "10.1038_s44321-025-00219-1/match_2_2",
          "10.1038_s44321-025-00219-1/match_2_2",
          "10.1038_s44321-025-00219-1/match_3_3",
          "10.1038_s44321-025-00219-1/match_3_3",
          "10.1038_s44321-025-00219-1/match_3_3",
          "10.1038_s44321-025-00219-1/match_3_3",
          "10.1038_s44318-025-00416-1/match_0_0",
          "10.1038_s44318-025-00416-1/match_0_0",
          "10.1038_s44318-025-00416-1/match_0_0",
          "10.1038_s44318-025-00416-1/match_0_0",
          "10.1038_s44318-025-00416-1/match_1_1",
          "10.1038_s44318-025-00416-1/match_1_1",
          "10.1038_s44318-025-00416-1/match_1_1",
          "10.1038_s44318-025-00416-1/match_1_1",
          "10.1038_s44318-025-00416-1/match_2_2",
          "10.1038_s44318-025-00416-1/match_2_2",
          "10.1038_s44318-025-00416-1/match_2_2",
          "10.1038_s44318-025-00416-1/match_2_2",
          "10.1038_s44318-025-00416-1/match_3_3",
          "10.1038_s44318-025-00416-1/match_3_3",
          "10.1038_s44318-025-00416-1/match_3_3",
          "10.1038_s44318-025-00416-1/match_3_3",
          "10.1038_s44318-025-00416-1/match_4_4",
          "10.1038_s44318-025-00416-1/match_4_4",
          "10.1038_s44318-025-00416-1/match_4_4",
          "10.1038_s44318-025-00416-1/match_4_4",
          "10.1038_s44318-025-00416-1/match_5_5",
          "10.1038_s44318-025-00416-1/match_5_5",
          "10.1038_s44318-025-00416-1/match_5_5",
          "10.1038_s44318-025-00416-1/match_5_5",
          "10.1038_s44318-025-00416-1/match_6_6",
          "10.1038_s44318-025-00416-1/match_6_6",
          "10.1038_s44318-025-00416-1/match_6_6",
          "10.1038_s44318-025-00416-1/match_6_6",
          "10.1038_s44318-025-00416-1/match_7_7",
          "10.1038_s44318-025-00416-1/match_7_7",
          "10.1038_s44318-025-00416-1/match_7_7",
          "10.1038_s44318-025-00416-1/match_7_7",
          "10.1038_s44319-025-00415-7/match_0_0",
          "10.1038_s44319-025-00415-7/match_0_0",
          "10.1038_s44319-025-00415-7/match_0_0",
          "10.1038_s44319-025-00415-7/match_0_0",
          "10.1038_s44319-025-00415-7/match_1_1",
          "10.1038_s44319-025-00415-7/match_1_1",
          "10.1038_s44319-025-00415-7/match_1_1",
          "10.1038_s44319-025-00415-7/match_1_1",
          "10.1038_s44319-025-00415-7/match_2_2",
          "10.1038_s44319-025-00415-7/match_2_2",
          "10.1038_s44319-025-00415-7/match_2_2",
          "10.1038_s44319-025-00415-7/match_2_2",
          "10.1038_s44319-025-00415-7/match_3_3",
          "10.1038_s44319-025-00415-7/match_3_3",
          "10.1038_s44319-025-00415-7/match_3_3",
          "10.1038_s44319-025-00415-7/match_3_3",
          "10.1038_s44319-025-00415-7/match_4_4",
          "10.1038_s44319-025-00415-7/match_4_4",
          "10.1038_s44319-025-00415-7/match_4_4",
          "10.1038_s44319-025-00415-7/match_4_4",
          "10.1038_s44319-025-00415-7/match_5_5",
          "10.1038_s44319-025-00415-7/match_5_5",
          "10.1038_s44319-025-00415-7/match_5_5",
          "10.1038_s44319-025-00415-7/match_5_5",
          "10.1038_s44321-025-00224-4/match_0_0",
          "10.1038_s44321-025-00224-4/match_0_0",
          "10.1038_s44321-025-00224-4/match_0_0",
          "10.1038_s44321-025-00224-4/match_0_0",
          "10.1038_s44321-025-00224-4/match_1_1",
          "10.1038_s44321-025-00224-4/match_1_1",
          "10.1038_s44321-025-00224-4/match_1_1",
          "10.1038_s44321-025-00224-4/match_1_1",
          "10.1038_s44321-025-00224-4/match_2_2",
          "10.1038_s44321-025-00224-4/match_2_2",
          "10.1038_s44321-025-00224-4/match_2_2",
          "10.1038_s44321-025-00224-4/match_2_2",
          "10.1038_s44321-025-00224-4/match_3_3",
          "10.1038_s44321-025-00224-4/match_3_3",
          "10.1038_s44321-025-00224-4/match_3_3",
          "10.1038_s44321-025-00224-4/match_3_3",
          "10.1038_s44321-025-00224-4/match_4_4",
          "10.1038_s44321-025-00224-4/match_4_4",
          "10.1038_s44321-025-00224-4/match_4_4",
          "10.1038_s44321-025-00224-4/match_4_4",
          "10.1038_s44321-025-00224-4/match_5_5",
          "10.1038_s44321-025-00224-4/match_5_5",
          "10.1038_s44321-025-00224-4/match_5_5",
          "10.1038_s44321-025-00224-4/match_5_5"
         ],
         "marker": {
          "color": "white",
          "line": {
           "color": "white",
           "width": 0
          },
          "opacity": 0.4,
          "size": 5
         },
         "mode": "markers",
         "name": "prompt.2",
         "showlegend": true,
         "type": "scatter",
         "x": [
          0.13159302092219427,
          1.2126074491321155,
          2.100974237098353,
          3.178177487440476,
          0.15900817096048467,
          1.1575344840275235,
          2.1796229197184607,
          3.251993676047128,
          0.20442358704988645,
          1.1890472175193796,
          2.2315266010517023,
          3.174039749909828,
          0.09349259757047391,
          1.21361713010051,
          2.096810052102658,
          3.2134102761026293,
          0.2161461257265721,
          1.1545782069996688,
          2.2195101189222175,
          3.1608567970673724,
          0.18392225766947504,
          1.1137211891443772,
          2.237033686251803,
          3.1494965803790973,
          0.16921819209596325,
          1.211700547354298,
          2.1585781023915165,
          3.1554886174259473,
          0.14031629049025224,
          1.152479970303981,
          2.131297846828036,
          3.1779151000606416,
          0.1365787512695324,
          1.153190871217334,
          2.16293258473073,
          3.1098850742899815,
          0.1971221885680054,
          1.2308078348087899,
          2.154627968548975,
          3.040508581078835,
          0.15105222999553114,
          1.1603943292861876,
          2.1947959890610145,
          3.1964323537698314,
          0.21067756922924707,
          1.1335050260909156,
          2.133635338244637,
          3.180925867872073,
          0.2328405982249095,
          1.1707406055429617,
          2.233205504261701,
          3.1801938634589355,
          0.2316023521365188,
          1.1549245793508496,
          2.2219786671706583,
          3.1474455492022058,
          0.17284198936180079,
          1.2032975269542912,
          2.19647041843585,
          3.137503142075871,
          0.11987572858396858,
          1.1440535996504384,
          2.18684284296993,
          3.106172569514224,
          0.2117237710402325,
          1.1483184194139104,
          2.188956348592563,
          3.1836431321050576,
          0.15051315282429445,
          1.0954533134598918,
          2.1704435429363214,
          3.1852770147642637,
          0.12028873518605157,
          1.1743278513885567,
          2.161793530779599,
          3.08038564926776,
          0.14852604028072053,
          1.2047453550466818,
          2.2800708417864306,
          3.1309706976462284,
          0.19454891804125699,
          1.1837446446263784,
          2.2115717430014454,
          3.1402314369112823,
          0.09949882721366832,
          1.1885600937035379,
          2.171624323547846,
          3.03058114080748,
          0.15182916059550972,
          1.1978775356694344,
          2.1475821871496237,
          3.11616810081128,
          0.18048663251498792,
          1.1878681675621126,
          2.1279735834508138,
          3.2084883356056806,
          0.1724657942626624,
          1.1384034154365192,
          2.1309778970571247,
          3.1434384935537185,
          0.10353994891573008,
          1.1610996067037602,
          2.1762782423122435,
          3.177969115077649,
          0.15100709016330294,
          1.1922834832950766,
          2.1573333578103404,
          3.157787409636851,
          0.20452484588813788,
          1.2161511618855847,
          2.1368624543716686,
          3.179369761021706,
          0.13416444657789278,
          1.16611328650219,
          2.167838591950718,
          3.1990560116883238,
          0.13994460077249588,
          1.1723510412067877,
          2.177481294282357,
          3.2393757927245392,
          0.22879063207535164,
          1.2138788930200253,
          2.1593031192835057,
          3.1662977644158263,
          0.1771171611703844,
          1.127400078342072,
          2.1848734713407123,
          3.18789539155616,
          0.1672664936021572,
          1.1524447285707362,
          2.174134649890965,
          3.141174464648173,
          0.18604782982612106,
          1.1236817759181061,
          2.2218689791987636,
          3.152115547649201,
          0.1563197620592289,
          1.1696594954050967,
          2.1327021434399125,
          3.159463216526486,
          0.17181851664520667,
          1.1594549162977195,
          2.1835367240436208,
          3.166792529093608,
          0.15766229320063282,
          1.1754483024244833,
          2.1236912678788493,
          3.1095929383488636,
          0.15441195913746697,
          1.2373900964882767,
          2.1360223460879335,
          3.1620477023694917,
          0.15158483584288576,
          1.2307371363939195,
          2.144673823015915,
          3.2032099930408173,
          0.14834516099469458,
          1.1210140595809364,
          2.227329122364536,
          3.2155508407653137,
          0.10419524939431044,
          1.1614540121215928,
          2.0884989798781506,
          3.182482832971362,
          0.17906527397309854,
          1.0900822270548987,
          2.188856362449252,
          3.195218136849999,
          0.2711442869453642,
          1.156073853743369,
          2.1597010694930376,
          3.179768989300424,
          0.17132497612048497,
          1.1892105918998888,
          2.1664424149878703,
          3.186076255973601,
          0.14337928510729742,
          1.0936221887859252,
          2.158985433345048,
          3.191402455535163,
          0.07551051993174365,
          1.144423731788507,
          2.1165480493412776,
          3.1912061754727654,
          0.12676151354860468,
          1.1695997263345306,
          2.047625110445792,
          3.1597444500102636,
          0.15907735706369083,
          1.1060088052148451,
          2.1579382843771087,
          3.134375699258032,
          0.17469855293463504,
          1.207208178732425,
          2.128855636883895,
          3.1915927914496316,
          0.22344547828759959,
          1.1897850274836415,
          2.121581019979566,
          3.1452812154386254,
          0.14307136809768667,
          1.1692631725928428,
          2.2488403536271457,
          3.1936953364307357,
          0.1983931760664282,
          1.1401237136691782,
          2.1503698369134185,
          3.2176674310374764,
          0.12495640183377779,
          1.1169315756291254,
          2.179376403201277,
          3.092437597240314,
          0.17601808471536395,
          1.187364186402031,
          2.1938471603764587,
          3.1734001581895708,
          0.1818642954468934,
          1.1832390598286229,
          2.1305815275735402,
          3.1827104298331887,
          0.19383465735874167,
          1.2410195408766913,
          2.173316610837237,
          3.15886772265952,
          0.21767549509085013,
          1.1431765047289915,
          2.1658762516286743,
          3.1565284947046384,
          0.15238623737387655,
          1.1866938133337945,
          2.148485389285954,
          3.1196086657187023,
          0.20572033454576066,
          1.2096740351654067,
          2.219372176688044,
          3.118385567971478,
          0.1735130518488919,
          1.1686540296688779,
          2.19251105860838,
          3.1806289362736297,
          0.18812188530055052,
          1.2044644407229461,
          2.198203566650601,
          3.1742700340297803,
          0.18757195777396285,
          1.2352948447561758,
          2.2062172124100536,
          3.1091998698255106,
          0.2033923120292864,
          1.1318643820215835,
          2.2074962938273845,
          3.1342458118096825,
          0.17243632625120775,
          1.2014387839579503,
          2.1451303372074118,
          3.0952853502316353,
          0.09122096964642826,
          1.1235441391840277,
          2.154782616631722,
          3.1504498921186506,
          0.18463297463032413,
          1.2341676916465871,
          2.1129873224393,
          3.1952219096702215,
          0.1371848467208996,
          1.1305863910833425,
          2.114998883763841,
          3.119655132272347,
          0.20681414969214998,
          1.1236236788872052,
          2.1700025462407315,
          3.115227800885323,
          0.1916362232740359,
          1.1404878139993275,
          2.191455521601968,
          3.1696149513285956,
          0.20317340409778362,
          1.1584181925767583,
          2.182395737638171,
          3.080295821189028,
          0.20842909847102317,
          1.1207586569538002,
          2.2190181234258697,
          3.159625172543837,
          0.17067976517412745,
          1.2308619494781237,
          2.0784140665758444,
          3.151409707458017,
          0.15239712978587092,
          1.2153156025647616,
          2.1823603116576202,
          3.2334406154639344,
          0.11724560122351602,
          1.1659493441919273,
          2.2263984314812606,
          3.260411055000599,
          0.16952116534744852,
          1.1291191941678969,
          2.154749294421596,
          3.162985343892305,
          0.1726452327355436,
          1.2001671542832193,
          2.1411276757114748,
          3.1336511500049666,
          0.1930750358378048,
          1.1727526549335225,
          2.220849167138602,
          3.176916806427565,
          0.21640517117959576,
          1.207509196244924,
          2.2290934408444736,
          3.1778828019343592,
          0.17228093618675128,
          1.1600603614957417,
          2.1372901275614544,
          3.2051341496386208,
          0.15821177798379277,
          1.2006209574978277,
          2.126618654083485,
          3.2037632312650675,
          0.15263350165592834,
          1.178877071318855,
          2.221203376046696,
          3.199555671643889,
          0.06066079203552012,
          1.1473130793044277,
          2.1771533104689214,
          3.101260859162342,
          0.11755893148560247,
          1.1927082627695527,
          2.230909989440249,
          3.1109040033279656,
          0.20317479318450962,
          1.1887267952176888,
          2.2413313909170505,
          3.1469796837374067,
          0.13909258622971293,
          1.1506881391009092,
          2.1324086265702786,
          3.097564732358631,
          0.17520145222895936,
          1.1474405728793697,
          2.0863240252926047,
          3.0786031154342735,
          0.19229211383500378,
          1.1138599697757916,
          2.162867523168613,
          3.193175805861185,
          0.06324770123950985,
          1.1576462161739485,
          2.1438210491848917,
          3.2280356368614163,
          0.12658876535935273,
          1.18864228830435,
          2.186024797581608,
          3.0337128436421126,
          0.17365804005951627,
          1.1350293702825105,
          2.1700848527099867,
          3.121823866639941,
          0.17100568598030394,
          1.1683759078428422,
          2.0557566021258276,
          3.1840323224130955,
          0.1826830667864029,
          1.1397792407074874,
          2.2296781680067634,
          3.1371085106169097,
          0.21237963332733403,
          1.1254981745631345,
          2.1578197359729416,
          3.119348674181012,
          0.1649631909392756,
          1.1648444870316015,
          2.1040684617949763,
          3.145649195112043,
          0.16110426806030279,
          1.2101422886241286,
          2.2009123855220665,
          3.1999424882044933,
          0.16927626243389876,
          1.1388253282799252,
          2.1600107331609246,
          3.123267051723862,
          0.14856704270129115,
          1.0960732985006687,
          2.185135229619429,
          3.168201734483536,
          0.16251274772147647,
          1.0956241643108466,
          2.1250066299350885,
          3.109972130477267,
          0.1253035901340262,
          1.1629329234439696,
          2.0996844138674176,
          3.147459332914,
          0.17226033947380562,
          1.1743934415852764,
          2.140119979552744,
          3.164785446929087,
          0.1697547553896827,
          1.217479014525584,
          2.160517475460272,
          3.160792429567838,
          0.13746636472068274,
          1.1557122207482102,
          2.291433852611863,
          3.1933943981205495,
          0.25737763130409946,
          1.2223217626498222,
          2.1464138066720064,
          3.162188315969127,
          0.18976909158247696,
          1.1589644411508133,
          2.198116132245603,
          3.073789871690175,
          0.1708735061965528,
          1.1748508485553528,
          2.1623982782068683,
          3.18781963164974,
          0.14743225894098924,
          1.129606611374614,
          2.125704722638495,
          3.172173094823243,
          0.1769055253221758,
          1.1838992696843909,
          2.1406525773363345,
          3.1421897989317036,
          0.18458013291563008,
          1.1986903767532127,
          2.16537384771741,
          3.1456129737253473,
          0.18780330745821183,
          1.2026391644683638,
          2.115801379423533,
          3.0955556826347976,
          0.12233022218331055,
          1.2270045676151153,
          2.1975567805954834,
          3.170443780835593,
          0.23961336598190047,
          1.1769681888351484,
          2.1398573810084653,
          3.1611070688882643,
          0.14150355447570995,
          1.1986719730077904,
          2.154032894160054,
          3.1376731860402027,
          0.14714295992051019,
          1.1625508980616879,
          2.104013711089947,
          3.1409097850005,
          0.14447331592584928,
          1.1250229264164673,
          2.1965083183140792,
          3.1874882049220754,
          0.14806651967828907,
          1.1000878283391429,
          2.17135161139462,
          3.176104434666986,
          0.17386428275467566,
          1.1874260331518398,
          2.1713164105739864,
          3.1368601244819683,
          0.11734218671528474,
          1.2335783736793304,
          2.207481416106243,
          3.160895980694358,
          0.18616585441105238,
          1.1475861903392326,
          2.12194711664958,
          3.173331688190978,
          0.17066311830848716,
          1.1501969919050206,
          2.145062929348112,
          3.1561609532533104,
          0.21534355072810632,
          1.1671098861923217,
          2.1894843767673255,
          3.1364515962844624,
          0.1752622863037347,
          1.1825443000650164,
          2.183085411458229,
          3.1809726985476066,
          0.20815243489719681,
          1.1053534446247966,
          2.1897657970741458,
          3.2029421431071734,
          0.13683026848903945,
          1.0794171416121638,
          2.1708198491111603,
          3.116899230906199,
          0.21517315737344567,
          1.1275531374529197,
          2.2074707550654686,
          3.1186362739728617,
          0.12441969664132888,
          1.1738061542222216,
          2.104792049450339,
          3.1931825281559783,
          0.11002906946458413,
          1.1871090151334334,
          2.1808408206955776,
          3.1273620773904356
         ],
         "y": {
          "bdata": "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",
          "dtype": "f8"
         }
        },
        {
         "error_y": {
          "array": {
           "bdata": "ef06kzpN0z8132ERFynNPwAAAAAAAAAA82mT59NVsz8=",
           "dtype": "f8"
          },
          "color": "grey",
          "thickness": 1,
          "type": "data",
          "visible": true,
          "width": 3
         },
         "hovertext": [
          "Field: average_values<br>0.814746018203478: 0.815<br>Prompt: prompt.2",
          "Field: individual_values<br>0.912046526159559: 0.912<br>Prompt: prompt.2",
          "Field: panel_label<br>1.0: 1.000<br>Prompt: prompt.2",
          "Field: plot<br>0.976733700623588: 0.977<br>Prompt: prompt.2"
         ],
         "marker": {
          "color": "rgb(55,126,184)"
         },
         "name": "prompt.2",
         "showlegend": true,
         "type": "bar",
         "width": 0.3333333333333333,
         "x": [
          0.16666666666666666,
          1.1666666666666667,
          2.1666666666666665,
          3.1666666666666665
         ],
         "y": {
          "bdata": "dl3XPWYS6j+SJEkyfC/tPwAAAAAAAPA/KYqiCGdB7z8=",
          "dtype": "f8"
         }
        }
       ],
       "layout": {
        "boxmode": "group",
        "height": 600,
        "showlegend": true,
        "template": {
         "data": {
          "bar": [
           {
            "error_x": {
             "color": "#f2f5fa"
            },
            "error_y": {
             "color": "#f2f5fa"
            },
            "marker": {
             "line": {
              "color": "rgb(17,17,17)",
              "width": 0.5
             },
             "pattern": {
              "fillmode": "overlay",
              "size": 10,
              "solidity": 0.2
             }
            },
            "type": "bar"
           }
          ],
          "barpolar": [
           {
            "marker": {
             "line": {
              "color": "rgb(17,17,17)",
              "width": 0.5
             },
             "pattern": {
              "fillmode": "overlay",
              "size": 10,
              "solidity": 0.2
             }
            },
            "type": "barpolar"
           }
          ],
          "carpet": [
           {
            "aaxis": {
             "endlinecolor": "#A2B1C6",
             "gridcolor": "#506784",
             "linecolor": "#506784",
             "minorgridcolor": "#506784",
             "startlinecolor": "#A2B1C6"
            },
            "baxis": {
             "endlinecolor": "#A2B1C6",
             "gridcolor": "#506784",
             "linecolor": "#506784",
             "minorgridcolor": "#506784",
             "startlinecolor": "#A2B1C6"
            },
            "type": "carpet"
           }
          ],
          "choropleth": [
           {
            "colorbar": {
             "outlinewidth": 0,
             "ticks": ""
            },
            "type": "choropleth"
           }
          ],
          "contour": [
           {
            "colorbar": {
             "outlinewidth": 0,
             "ticks": ""
            },
            "colorscale": [
             [
              0,
              "#0d0887"
             ],
             [
              0.1111111111111111,
              "#46039f"
             ],
             [
              0.2222222222222222,
              "#7201a8"
             ],
             [
              0.3333333333333333,
              "#9c179e"
             ],
             [
              0.4444444444444444,
              "#bd3786"
             ],
             [
              0.5555555555555556,
              "#d8576b"
             ],
             [
              0.6666666666666666,
              "#ed7953"
             ],
             [
              0.7777777777777778,
              "#fb9f3a"
             ],
             [
              0.8888888888888888,
              "#fdca26"
             ],
             [
              1,
              "#f0f921"
             ]
            ],
            "type": "contour"
           }
          ],
          "contourcarpet": [
           {
            "colorbar": {
             "outlinewidth": 0,
             "ticks": ""
            },
            "type": "contourcarpet"
           }
          ],
          "heatmap": [
           {
            "colorbar": {
             "outlinewidth": 0,
             "ticks": ""
            },
            "colorscale": [
             [
              0,
              "#0d0887"
             ],
             [
              0.1111111111111111,
              "#46039f"
             ],
             [
              0.2222222222222222,
              "#7201a8"
             ],
             [
              0.3333333333333333,
              "#9c179e"
             ],
             [
              0.4444444444444444,
              "#bd3786"
             ],
             [
              0.5555555555555556,
              "#d8576b"
             ],
             [
              0.6666666666666666,
              "#ed7953"
             ],
             [
              0.7777777777777778,
              "#fb9f3a"
             ],
             [
              0.8888888888888888,
              "#fdca26"
             ],
             [
              1,
              "#f0f921"
             ]
            ],
            "type": "heatmap"
           }
          ],
          "histogram": [
           {
            "marker": {
             "pattern": {
              "fillmode": "overlay",
              "size": 10,
              "solidity": 0.2
             }
            },
            "type": "histogram"
           }
          ],
          "histogram2d": [
           {
            "colorbar": {
             "outlinewidth": 0,
             "ticks": ""
            },
            "colorscale": [
             [
              0,
              "#0d0887"
             ],
             [
              0.1111111111111111,
              "#46039f"
             ],
             [
              0.2222222222222222,
              "#7201a8"
             ],
             [
              0.3333333333333333,
              "#9c179e"
             ],
             [
              0.4444444444444444,
              "#bd3786"
             ],
             [
              0.5555555555555556,
              "#d8576b"
             ],
             [
              0.6666666666666666,
              "#ed7953"
             ],
             [
              0.7777777777777778,
              "#fb9f3a"
             ],
             [
              0.8888888888888888,
              "#fdca26"
             ],
             [
              1,
              "#f0f921"
             ]
            ],
            "type": "histogram2d"
           }
          ],
          "histogram2dcontour": [
           {
            "colorbar": {
             "outlinewidth": 0,
             "ticks": ""
            },
            "colorscale": [
             [
              0,
              "#0d0887"
             ],
             [
              0.1111111111111111,
              "#46039f"
             ],
             [
              0.2222222222222222,
              "#7201a8"
             ],
             [
              0.3333333333333333,
              "#9c179e"
             ],
             [
              0.4444444444444444,
              "#bd3786"
             ],
             [
              0.5555555555555556,
              "#d8576b"
             ],
             [
              0.6666666666666666,
              "#ed7953"
             ],
             [
              0.7777777777777778,
              "#fb9f3a"
             ],
             [
              0.8888888888888888,
              "#fdca26"
             ],
             [
              1,
              "#f0f921"
             ]
            ],
            "type": "histogram2dcontour"
           }
          ],
          "mesh3d": [
           {
            "colorbar": {
             "outlinewidth": 0,
             "ticks": ""
            },
            "type": "mesh3d"
           }
          ],
          "parcoords": [
           {
            "line": {
             "colorbar": {
              "outlinewidth": 0,
              "ticks": ""
             }
            },
            "type": "parcoords"
           }
          ],
          "pie": [
           {
            "automargin": true,
            "type": "pie"
           }
          ],
          "scatter": [
           {
            "marker": {
             "line": {
              "color": "#283442"
             }
            },
            "type": "scatter"
           }
          ],
          "scatter3d": [
           {
            "line": {
             "colorbar": {
              "outlinewidth": 0,
              "ticks": ""
             }
            },
            "marker": {
             "colorbar": {
              "outlinewidth": 0,
              "ticks": ""
             }
            },
            "type": "scatter3d"
           }
          ],
          "scattercarpet": [
           {
            "marker": {
             "colorbar": {
              "outlinewidth": 0,
              "ticks": ""
             }
            },
            "type": "scattercarpet"
           }
          ],
          "scattergeo": [
           {
            "marker": {
             "colorbar": {
              "outlinewidth": 0,
              "ticks": ""
             }
            },
            "type": "scattergeo"
           }
          ],
          "scattergl": [
           {
            "marker": {
             "line": {
              "color": "#283442"
             }
            },
            "type": "scattergl"
           }
          ],
          "scattermap": [
           {
            "marker": {
             "colorbar": {
              "outlinewidth": 0,
              "ticks": ""
             }
            },
            "type": "scattermap"
           }
          ],
          "scattermapbox": [
           {
            "marker": {
             "colorbar": {
              "outlinewidth": 0,
              "ticks": ""
             }
            },
            "type": "scattermapbox"
           }
          ],
          "scatterpolar": [
           {
            "marker": {
             "colorbar": {
              "outlinewidth": 0,
              "ticks": ""
             }
            },
            "type": "scatterpolar"
           }
          ],
          "scatterpolargl": [
           {
            "marker": {
             "colorbar": {
              "outlinewidth": 0,
              "ticks": ""
             }
            },
            "type": "scatterpolargl"
           }
          ],
          "scatterternary": [
           {
            "marker": {
             "colorbar": {
              "outlinewidth": 0,
              "ticks": ""
             }
            },
            "type": "scatterternary"
           }
          ],
          "surface": [
           {
            "colorbar": {
             "outlinewidth": 0,
             "ticks": ""
            },
            "colorscale": [
             [
              0,
              "#0d0887"
             ],
             [
              0.1111111111111111,
              "#46039f"
             ],
             [
              0.2222222222222222,
              "#7201a8"
             ],
             [
              0.3333333333333333,
              "#9c179e"
             ],
             [
              0.4444444444444444,
              "#bd3786"
             ],
             [
              0.5555555555555556,
              "#d8576b"
             ],
             [
              0.6666666666666666,
              "#ed7953"
             ],
             [
              0.7777777777777778,
              "#fb9f3a"
             ],
             [
              0.8888888888888888,
              "#fdca26"
             ],
             [
              1,
              "#f0f921"
             ]
            ],
            "type": "surface"
           }
          ],
          "table": [
           {
            "cells": {
             "fill": {
              "color": "#506784"
             },
             "line": {
              "color": "rgb(17,17,17)"
             }
            },
            "header": {
             "fill": {
              "color": "#2a3f5f"
             },
             "line": {
              "color": "rgb(17,17,17)"
             }
            },
            "type": "table"
           }
          ]
         },
         "layout": {
          "annotationdefaults": {
           "arrowcolor": "#f2f5fa",
           "arrowhead": 0,
           "arrowwidth": 1
          },
          "autotypenumbers": "strict",
          "coloraxis": {
           "colorbar": {
            "outlinewidth": 0,
            "ticks": ""
           }
          },
          "colorscale": {
           "diverging": [
            [
             0,
             "#8e0152"
            ],
            [
             0.1,
             "#c51b7d"
            ],
            [
             0.2,
             "#de77ae"
            ],
            [
             0.3,
             "#f1b6da"
            ],
            [
             0.4,
             "#fde0ef"
            ],
            [
             0.5,
             "#f7f7f7"
            ],
            [
             0.6,
             "#e6f5d0"
            ],
            [
             0.7,
             "#b8e186"
            ],
            [
             0.8,
             "#7fbc41"
            ],
            [
             0.9,
             "#4d9221"
            ],
            [
             1,
             "#276419"
            ]
           ],
           "sequential": [
            [
             0,
             "#0d0887"
            ],
            [
             0.1111111111111111,
             "#46039f"
            ],
            [
             0.2222222222222222,
             "#7201a8"
            ],
            [
             0.3333333333333333,
             "#9c179e"
            ],
            [
             0.4444444444444444,
             "#bd3786"
            ],
            [
             0.5555555555555556,
             "#d8576b"
            ],
            [
             0.6666666666666666,
             "#ed7953"
            ],
            [
             0.7777777777777778,
             "#fb9f3a"
            ],
            [
             0.8888888888888888,
             "#fdca26"
            ],
            [
             1,
             "#f0f921"
            ]
           ],
           "sequentialminus": [
            [
             0,
             "#0d0887"
            ],
            [
             0.1111111111111111,
             "#46039f"
            ],
            [
             0.2222222222222222,
             "#7201a8"
            ],
            [
             0.3333333333333333,
             "#9c179e"
            ],
            [
             0.4444444444444444,
             "#bd3786"
            ],
            [
             0.5555555555555556,
             "#d8576b"
            ],
            [
             0.6666666666666666,
             "#ed7953"
            ],
            [
             0.7777777777777778,
             "#fb9f3a"
            ],
            [
             0.8888888888888888,
             "#fdca26"
            ],
            [
             1,
             "#f0f921"
            ]
           ]
          },
          "colorway": [
           "#636efa",
           "#EF553B",
           "#00cc96",
           "#ab63fa",
           "#FFA15A",
           "#19d3f3",
           "#FF6692",
           "#B6E880",
           "#FF97FF",
           "#FECB52"
          ],
          "font": {
           "color": "#f2f5fa"
          },
          "geo": {
           "bgcolor": "rgb(17,17,17)",
           "lakecolor": "rgb(17,17,17)",
           "landcolor": "rgb(17,17,17)",
           "showlakes": true,
           "showland": true,
           "subunitcolor": "#506784"
          },
          "hoverlabel": {
           "align": "left"
          },
          "hovermode": "closest",
          "mapbox": {
           "style": "dark"
          },
          "paper_bgcolor": "rgb(17,17,17)",
          "plot_bgcolor": "rgb(17,17,17)",
          "polar": {
           "angularaxis": {
            "gridcolor": "#506784",
            "linecolor": "#506784",
            "ticks": ""
           },
           "bgcolor": "rgb(17,17,17)",
           "radialaxis": {
            "gridcolor": "#506784",
            "linecolor": "#506784",
            "ticks": ""
           }
          },
          "scene": {
           "xaxis": {
            "backgroundcolor": "rgb(17,17,17)",
            "gridcolor": "#506784",
            "gridwidth": 2,
            "linecolor": "#506784",
            "showbackground": true,
            "ticks": "",
            "zerolinecolor": "#C8D4E3"
           },
           "yaxis": {
            "backgroundcolor": "rgb(17,17,17)",
            "gridcolor": "#506784",
            "gridwidth": 2,
            "linecolor": "#506784",
            "showbackground": true,
            "ticks": "",
            "zerolinecolor": "#C8D4E3"
           },
           "zaxis": {
            "backgroundcolor": "rgb(17,17,17)",
            "gridcolor": "#506784",
            "gridwidth": 2,
            "linecolor": "#506784",
            "showbackground": true,
            "ticks": "",
            "zerolinecolor": "#C8D4E3"
           }
          },
          "shapedefaults": {
           "line": {
            "color": "#f2f5fa"
           }
          },
          "sliderdefaults": {
           "bgcolor": "#C8D4E3",
           "bordercolor": "rgb(17,17,17)",
           "borderwidth": 1,
           "tickwidth": 0
          },
          "ternary": {
           "aaxis": {
            "gridcolor": "#506784",
            "linecolor": "#506784",
            "ticks": ""
           },
           "baxis": {
            "gridcolor": "#506784",
            "linecolor": "#506784",
            "ticks": ""
           },
           "bgcolor": "rgb(17,17,17)",
           "caxis": {
            "gridcolor": "#506784",
            "linecolor": "#506784",
            "ticks": ""
           }
          },
          "title": {
           "x": 0.05
          },
          "updatemenudefaults": {
           "bgcolor": "#506784",
           "borderwidth": 0
          },
          "xaxis": {
           "automargin": true,
           "gridcolor": "#283442",
           "linecolor": "#506784",
           "ticks": "",
           "title": {
            "standoff": 15
           },
           "zerolinecolor": "#283442",
           "zerolinewidth": 2
          },
          "yaxis": {
           "automargin": true,
           "gridcolor": "#283442",
           "linecolor": "#506784",
           "ticks": "",
           "title": {
            "standoff": 15
           },
           "zerolinecolor": "#283442",
           "zerolinewidth": 2
          }
         }
        },
        "title": {
         "text": "score for individual-data-points (n=126)<br><span style=\"font-size: 0.8em; color: #888;\">Comparing values with semantic similarity</span><br><span style=\"font-size: 0.8em; color: #888;\">Model: gpt-4o-2024-08-06</span>"
        },
        "width": 800,
        "xaxis": {
         "range": [
          -0.5,
          3.5
         ],
         "tickangle": 45,
         "ticktext": [
          "panel_label",
          "plot",
          "average_values",
          "individual_values"
         ],
         "tickvals": [
          0,
          1,
          2,
          3
         ],
         "title": {
          "text": "Fields"
         }
        },
        "yaxis": {
         "title": {
          "text": "score"
         }
        }
       }
      }
     },
     "metadata": {},
     "output_type": "display_data"
    }
   ],
   "source": [
    "fig, df_data, df_metadata = check_visualization(\n",
    "    \"fig-checklist\",\n",
    "    \"individual-data-points\",\n",
    "    metric=\"semantic_similarity\",\n",
    "    score=\"score\",\n",
    "    model=MODEL\n",
    ")\n",
    "fig.show()"
   ]
  },
  {
   "cell_type": "code",
   "execution_count": 67,
   "metadata": {},
   "outputs": [],
   "source": [
    "\n",
    "html, worst_items, fields_data = check_report(\n",
    "    \"fig-checklist\",\n",
    "    \"replicates-defined\",\n",
    "    prompt=\"prompt.1\",\n",
    "    # search_id=\"2009.312\",\n",
    "    model=MODEL,\n",
    "    metric=\"semantic_similarity\",\n",
    "    score=\"f1_score\",\n",
    "    aggregation_level=0\n",
    ")"
   ]
  },
  {
   "cell_type": "code",
   "execution_count": 64,
   "metadata": {},
   "outputs": [
    {
     "data": {
      "text/html": [
       "\n",
       "            <h3>Paper: 10.1038_s44320-025-00094-5 - Element: 10.1038_s44320-025-00094-5 with score 0.592</h3>\n",
       "            <div style='display:flex; flex-direction:row; align-items:flex-start;'>\n",
       "                \n",
       "            <table style='border-collapse: collapse; width: 80%; margin: 20px;'>\n",
       "                <tr><th>Field</th><th>Score</th><th>F1 Score</th></tr>\n",
       "                <tr><td>panel_label</td><td>0.667</td><td>0.667</td></tr><tr><td>involves_replicates</td><td>0.667</td><td>0.667</td></tr><tr><td>number_of_replicates</td><td>0.667</td><td>0.667</td></tr><tr><td>type_of_replicates</td><td>0.368</td><td>0.667</td></tr>\n",
       "            </table>\n",
       "            \n",
       "            </div>\n",
       "            \n",
       "            <h3>Paper: 10.1038_s44320-025-00094-5 - Element: 10.1038_s44320-025-00094-5 with score 0.592</h3>\n",
       "            <div style='display:flex; flex-direction:row; align-items:flex-start;'>\n",
       "                \n",
       "            <table style='border-collapse: collapse; width: 80%; margin: 20px;'>\n",
       "                <tr><th>Field</th><th>Score</th><th>F1 Score</th></tr>\n",
       "                <tr><td>panel_label</td><td>0.667</td><td>0.667</td></tr><tr><td>involves_replicates</td><td>0.667</td><td>0.667</td></tr><tr><td>number_of_replicates</td><td>0.667</td><td>0.667</td></tr><tr><td>type_of_replicates</td><td>0.368</td><td>0.667</td></tr>\n",
       "            </table>\n",
       "            \n",
       "            </div>\n",
       "            \n",
       "            <h3>Paper: 10.1038_s44320-025-00094-5 - Element: 10.1038_s44320-025-00094-5 with score 0.592</h3>\n",
       "            <div style='display:flex; flex-direction:row; align-items:flex-start;'>\n",
       "                \n",
       "            <table style='border-collapse: collapse; width: 80%; margin: 20px;'>\n",
       "                <tr><th>Field</th><th>Score</th><th>F1 Score</th></tr>\n",
       "                <tr><td>panel_label</td><td>0.667</td><td>0.667</td></tr><tr><td>involves_replicates</td><td>0.667</td><td>0.667</td></tr><tr><td>number_of_replicates</td><td>0.667</td><td>0.667</td></tr><tr><td>type_of_replicates</td><td>0.368</td><td>0.667</td></tr>\n",
       "            </table>\n",
       "            \n",
       "            </div>\n",
       "            \n",
       "            <h3>Paper: 10.1038_s44319-025-00415-7 - Element: 10.1038_s44319-025-00415-7 with score 0.667</h3>\n",
       "            <div style='display:flex; flex-direction:row; align-items:flex-start;'>\n",
       "                \n",
       "            <table style='border-collapse: collapse; width: 80%; margin: 20px;'>\n",
       "                <tr><th>Field</th><th>Score</th><th>F1 Score</th></tr>\n",
       "                <tr><td>panel_label</td><td>0.667</td><td>0.667</td></tr><tr><td>involves_replicates</td><td>0.667</td><td>0.667</td></tr><tr><td>number_of_replicates</td><td>0.667</td><td>0.667</td></tr><tr><td>type_of_replicates</td><td>0.667</td><td>0.667</td></tr>\n",
       "            </table>\n",
       "            \n",
       "            </div>\n",
       "            \n",
       "            <h3>Paper: 10.1038_s44319-025-00415-7 - Element: 10.1038_s44319-025-00415-7 with score 0.667</h3>\n",
       "            <div style='display:flex; flex-direction:row; align-items:flex-start;'>\n",
       "                \n",
       "            <table style='border-collapse: collapse; width: 80%; margin: 20px;'>\n",
       "                <tr><th>Field</th><th>Score</th><th>F1 Score</th></tr>\n",
       "                <tr><td>panel_label</td><td>0.667</td><td>0.667</td></tr><tr><td>involves_replicates</td><td>0.667</td><td>0.667</td></tr><tr><td>number_of_replicates</td><td>0.667</td><td>0.667</td></tr><tr><td>type_of_replicates</td><td>0.667</td><td>0.667</td></tr>\n",
       "            </table>\n",
       "            \n",
       "            </div>\n",
       "            \n",
       "            <h3>Paper: 10.1038_s44319-025-00415-7 - Element: 10.1038_s44319-025-00415-7 with score 0.667</h3>\n",
       "            <div style='display:flex; flex-direction:row; align-items:flex-start;'>\n",
       "                \n",
       "            <table style='border-collapse: collapse; width: 80%; margin: 20px;'>\n",
       "                <tr><th>Field</th><th>Score</th><th>F1 Score</th></tr>\n",
       "                <tr><td>panel_label</td><td>0.667</td><td>0.667</td></tr><tr><td>involves_replicates</td><td>0.667</td><td>0.667</td></tr><tr><td>number_of_replicates</td><td>0.667</td><td>0.667</td></tr><tr><td>type_of_replicates</td><td>0.667</td><td>0.667</td></tr>\n",
       "            </table>\n",
       "            \n",
       "            </div>\n",
       "            \n",
       "            <h3>Paper: 10.1038_embor.2009.233 - Element: 10.1038_embor.2009.233 with score 0.637</h3>\n",
       "            <div style='display:flex; flex-direction:row; align-items:flex-start;'>\n",
       "                \n",
       "            <table style='border-collapse: collapse; width: 80%; margin: 20px;'>\n",
       "                <tr><th>Field</th><th>Score</th><th>F1 Score</th></tr>\n",
       "                <tr><td>panel_label</td><td>0.714</td><td>0.714</td></tr><tr><td>involves_replicates</td><td>0.714</td><td>0.714</td></tr><tr><td>number_of_replicates</td><td>0.690</td><td>0.714</td></tr><tr><td>type_of_replicates</td><td>0.429</td><td>0.714</td></tr>\n",
       "            </table>\n",
       "            \n",
       "            </div>\n",
       "            \n",
       "            <h3>Paper: 10.1038_embor.2009.233 - Element: 10.1038_embor.2009.233 with score 0.637</h3>\n",
       "            <div style='display:flex; flex-direction:row; align-items:flex-start;'>\n",
       "                \n",
       "            <table style='border-collapse: collapse; width: 80%; margin: 20px;'>\n",
       "                <tr><th>Field</th><th>Score</th><th>F1 Score</th></tr>\n",
       "                <tr><td>panel_label</td><td>0.714</td><td>0.714</td></tr><tr><td>involves_replicates</td><td>0.714</td><td>0.714</td></tr><tr><td>number_of_replicates</td><td>0.690</td><td>0.714</td></tr><tr><td>type_of_replicates</td><td>0.429</td><td>0.714</td></tr>\n",
       "            </table>\n",
       "            \n",
       "            </div>\n",
       "            \n",
       "            <h3>Paper: 10.1038_embor.2009.233 - Element: 10.1038_embor.2009.233 with score 0.637</h3>\n",
       "            <div style='display:flex; flex-direction:row; align-items:flex-start;'>\n",
       "                \n",
       "            <table style='border-collapse: collapse; width: 80%; margin: 20px;'>\n",
       "                <tr><th>Field</th><th>Score</th><th>F1 Score</th></tr>\n",
       "                <tr><td>panel_label</td><td>0.714</td><td>0.714</td></tr><tr><td>involves_replicates</td><td>0.714</td><td>0.714</td></tr><tr><td>number_of_replicates</td><td>0.690</td><td>0.714</td></tr><tr><td>type_of_replicates</td><td>0.429</td><td>0.714</td></tr>\n",
       "            </table>\n",
       "            \n",
       "            </div>\n",
       "            "
      ],
      "text/plain": [
       "<IPython.core.display.HTML object>"
      ]
     },
     "metadata": {},
     "output_type": "display_data"
    }
   ],
   "source": [
    "display(HTML(html))"
   ]
  },
  {
   "cell_type": "code",
   "execution_count": null,
   "metadata": {},
   "outputs": [],
   "source": []
  }
 ],
 "metadata": {
  "kernelspec": {
   "display_name": ".venv",
   "language": "python",
   "name": "python3"
  },
  "language_info": {
   "codemirror_mode": {
    "name": "ipython",
    "version": 3
   },
   "file_extension": ".py",
   "mimetype": "text/x-python",
   "name": "python",
   "nbconvert_exporter": "python",
   "pygments_lexer": "ipython3",
   "version": "3.12.1"
  }
 },
 "nbformat": 4,
 "nbformat_minor": 2
}
