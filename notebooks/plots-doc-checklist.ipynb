{
 "cells": [
  {
   "cell_type": "code",
   "execution_count": 1,
   "metadata": {},
   "outputs": [
    {
     "name": "stdout",
     "output_type": "stream",
     "text": [
      "Exception reporting mode: Verbose\n"
     ]
    }
   ],
   "source": [
    "# magic command to update modules\n",
    "%load_ext autoreload\n",
    "%autoreload 2\n",
    "%xmode verbose"
   ]
  },
  {
   "cell_type": "code",
   "execution_count": 2,
   "metadata": {},
   "outputs": [],
   "source": [
    "# import visualize from tools\n",
    "from soda_mmqc.scripts.visualize import *"
   ]
  },
  {
   "cell_type": "code",
   "execution_count": 3,
   "metadata": {},
   "outputs": [],
   "source": [
    "MODEL = \"gpt-4o-2024-08-06\" #\"gpt-4o-2024-08-06\"  #o3-mini-2025-01-31  # o4-mini-2025-04-16"
   ]
  },
  {
   "cell_type": "code",
   "execution_count": 4,
   "metadata": {},
   "outputs": [
    {
     "name": "stderr",
     "output_type": "stream",
     "text": [
      "2025-08-03 18:49:50 - INFO - Creating global visualization for 2 checks\n",
      "2025-08-03 18:49:50 - INFO - Creating plot for prompt: prompt.1...\n",
      "2025-08-03 18:49:50 - INFO - Creating plot for prompt: prompt.2...\n"
     ]
    },
    {
     "data": {
      "application/vnd.plotly.v1+json": {
       "config": {
        "plotlyServerURL": "https://plot.ly"
       },
       "data": [
        {
         "error_y": {
          "array": [
           0.020424941609082224,
           0.29895818367998644
          ],
          "color": "grey",
          "thickness": 1,
          "type": "data",
          "visible": true,
          "width": 3
         },
         "hoverinfo": "text",
         "hovertext": [
          "Check: section-order-alt<br>Average Score: 0.962<br>Prompt: prompt.1<br>Num Points: 5",
          "Check: section-order<br>Average Score: 0.472<br>Prompt: prompt.1<br>Num Points: 5"
         ],
         "marker": {
          "color": "rgb(228,26,28)"
         },
         "name": "prompt.1",
         "showlegend": true,
         "type": "bar",
         "width": 0.3333333333333333,
         "x": [
          -0.16666666666666666,
          0.8333333333333334
         ],
         "y": [
          0.9622854735900697,
          0.47171468500173186
         ]
        },
        {
         "hovertext": [
          "10.1038_embor.2009.217",
          "EMBOJ-2024-119734R",
          "EMBOR-2025-61250V2",
          "EMM-2025-21341",
          "EMM-2025-21532",
          "10.1038_embor.2009.217",
          "EMBOJ-2024-119734R",
          "EMBOR-2025-61250V2",
          "EMM-2025-21341",
          "EMM-2025-21532"
         ],
         "marker": {
          "color": "white",
          "line": {
           "color": "white",
           "width": 0
          },
          "opacity": 0.4,
          "size": 10
         },
         "mode": "markers",
         "name": "prompt.1",
         "showlegend": true,
         "type": "scatter",
         "x": [
          -0.21548866643492826,
          -0.13569351646098038,
          -0.15881290170741796,
          -0.12129381852367416,
          -0.22142253209048907,
          0.7700938066316304,
          0.8798874895534128,
          0.8101825514018869,
          0.8420221218568971,
          0.8277975267050548
         ],
         "y": {
          "bdata": "11prrbXW7j+qqqqqqqruP6iffvrpp+8/m0ScDhPW7T/iuNwl2ffuP8CJvwWc+OM/G/PzsW4O2z+m8mABAmDgP5qZmZmZmek/AAAAAAAAAAA=",
          "dtype": "f8"
         }
        },
        {
         "error_y": {
          "array": [
           0.09566556156850156
          ],
          "color": "grey",
          "thickness": 1,
          "type": "data",
          "visible": true,
          "width": 3
         },
         "hoverinfo": "text",
         "hovertext": [
          "Check: section-order<br>Average Score: 0.620<br>Prompt: prompt.2<br>Num Points: 5"
         ],
         "marker": {
          "color": "rgb(55,126,184)"
         },
         "name": "prompt.2",
         "showlegend": true,
         "type": "bar",
         "width": 0.3333333333333333,
         "x": [
          1.1666666666666667
         ],
         "y": [
          0.6200599884676963
         ]
        },
        {
         "hovertext": [
          "10.1038_embor.2009.217",
          "EMBOJ-2024-119734R",
          "EMBOR-2025-61250V2",
          "EMM-2025-21341",
          "EMM-2025-21532"
         ],
         "marker": {
          "color": "white",
          "line": {
           "color": "white",
           "width": 0
          },
          "opacity": 0.4,
          "size": 10
         },
         "mode": "markers",
         "name": "prompt.2",
         "showlegend": true,
         "type": "scatter",
         "x": [
          1.1821276213368526,
          1.1987951651282411,
          1.1885233294728246,
          1.1853846716152798,
          1.1707187261101952
         ],
         "y": {
          "bdata": "MzMzMzMz4z8WgoLhvw/mP6KF6vpzVOc/MzMzMzMz4z/WvmHtG9bePw==",
          "dtype": "f8"
         }
        }
       ],
       "layout": {
        "barmode": "group",
        "height": 600,
        "template": {
         "data": {
          "bar": [
           {
            "error_x": {
             "color": "#f2f5fa"
            },
            "error_y": {
             "color": "#f2f5fa"
            },
            "marker": {
             "line": {
              "color": "rgb(17,17,17)",
              "width": 0.5
             },
             "pattern": {
              "fillmode": "overlay",
              "size": 10,
              "solidity": 0.2
             }
            },
            "type": "bar"
           }
          ],
          "barpolar": [
           {
            "marker": {
             "line": {
              "color": "rgb(17,17,17)",
              "width": 0.5
             },
             "pattern": {
              "fillmode": "overlay",
              "size": 10,
              "solidity": 0.2
             }
            },
            "type": "barpolar"
           }
          ],
          "carpet": [
           {
            "aaxis": {
             "endlinecolor": "#A2B1C6",
             "gridcolor": "#506784",
             "linecolor": "#506784",
             "minorgridcolor": "#506784",
             "startlinecolor": "#A2B1C6"
            },
            "baxis": {
             "endlinecolor": "#A2B1C6",
             "gridcolor": "#506784",
             "linecolor": "#506784",
             "minorgridcolor": "#506784",
             "startlinecolor": "#A2B1C6"
            },
            "type": "carpet"
           }
          ],
          "choropleth": [
           {
            "colorbar": {
             "outlinewidth": 0,
             "ticks": ""
            },
            "type": "choropleth"
           }
          ],
          "contour": [
           {
            "colorbar": {
             "outlinewidth": 0,
             "ticks": ""
            },
            "colorscale": [
             [
              0,
              "#0d0887"
             ],
             [
              0.1111111111111111,
              "#46039f"
             ],
             [
              0.2222222222222222,
              "#7201a8"
             ],
             [
              0.3333333333333333,
              "#9c179e"
             ],
             [
              0.4444444444444444,
              "#bd3786"
             ],
             [
              0.5555555555555556,
              "#d8576b"
             ],
             [
              0.6666666666666666,
              "#ed7953"
             ],
             [
              0.7777777777777778,
              "#fb9f3a"
             ],
             [
              0.8888888888888888,
              "#fdca26"
             ],
             [
              1,
              "#f0f921"
             ]
            ],
            "type": "contour"
           }
          ],
          "contourcarpet": [
           {
            "colorbar": {
             "outlinewidth": 0,
             "ticks": ""
            },
            "type": "contourcarpet"
           }
          ],
          "heatmap": [
           {
            "colorbar": {
             "outlinewidth": 0,
             "ticks": ""
            },
            "colorscale": [
             [
              0,
              "#0d0887"
             ],
             [
              0.1111111111111111,
              "#46039f"
             ],
             [
              0.2222222222222222,
              "#7201a8"
             ],
             [
              0.3333333333333333,
              "#9c179e"
             ],
             [
              0.4444444444444444,
              "#bd3786"
             ],
             [
              0.5555555555555556,
              "#d8576b"
             ],
             [
              0.6666666666666666,
              "#ed7953"
             ],
             [
              0.7777777777777778,
              "#fb9f3a"
             ],
             [
              0.8888888888888888,
              "#fdca26"
             ],
             [
              1,
              "#f0f921"
             ]
            ],
            "type": "heatmap"
           }
          ],
          "histogram": [
           {
            "marker": {
             "pattern": {
              "fillmode": "overlay",
              "size": 10,
              "solidity": 0.2
             }
            },
            "type": "histogram"
           }
          ],
          "histogram2d": [
           {
            "colorbar": {
             "outlinewidth": 0,
             "ticks": ""
            },
            "colorscale": [
             [
              0,
              "#0d0887"
             ],
             [
              0.1111111111111111,
              "#46039f"
             ],
             [
              0.2222222222222222,
              "#7201a8"
             ],
             [
              0.3333333333333333,
              "#9c179e"
             ],
             [
              0.4444444444444444,
              "#bd3786"
             ],
             [
              0.5555555555555556,
              "#d8576b"
             ],
             [
              0.6666666666666666,
              "#ed7953"
             ],
             [
              0.7777777777777778,
              "#fb9f3a"
             ],
             [
              0.8888888888888888,
              "#fdca26"
             ],
             [
              1,
              "#f0f921"
             ]
            ],
            "type": "histogram2d"
           }
          ],
          "histogram2dcontour": [
           {
            "colorbar": {
             "outlinewidth": 0,
             "ticks": ""
            },
            "colorscale": [
             [
              0,
              "#0d0887"
             ],
             [
              0.1111111111111111,
              "#46039f"
             ],
             [
              0.2222222222222222,
              "#7201a8"
             ],
             [
              0.3333333333333333,
              "#9c179e"
             ],
             [
              0.4444444444444444,
              "#bd3786"
             ],
             [
              0.5555555555555556,
              "#d8576b"
             ],
             [
              0.6666666666666666,
              "#ed7953"
             ],
             [
              0.7777777777777778,
              "#fb9f3a"
             ],
             [
              0.8888888888888888,
              "#fdca26"
             ],
             [
              1,
              "#f0f921"
             ]
            ],
            "type": "histogram2dcontour"
           }
          ],
          "mesh3d": [
           {
            "colorbar": {
             "outlinewidth": 0,
             "ticks": ""
            },
            "type": "mesh3d"
           }
          ],
          "parcoords": [
           {
            "line": {
             "colorbar": {
              "outlinewidth": 0,
              "ticks": ""
             }
            },
            "type": "parcoords"
           }
          ],
          "pie": [
           {
            "automargin": true,
            "type": "pie"
           }
          ],
          "scatter": [
           {
            "marker": {
             "line": {
              "color": "#283442"
             }
            },
            "type": "scatter"
           }
          ],
          "scatter3d": [
           {
            "line": {
             "colorbar": {
              "outlinewidth": 0,
              "ticks": ""
             }
            },
            "marker": {
             "colorbar": {
              "outlinewidth": 0,
              "ticks": ""
             }
            },
            "type": "scatter3d"
           }
          ],
          "scattercarpet": [
           {
            "marker": {
             "colorbar": {
              "outlinewidth": 0,
              "ticks": ""
             }
            },
            "type": "scattercarpet"
           }
          ],
          "scattergeo": [
           {
            "marker": {
             "colorbar": {
              "outlinewidth": 0,
              "ticks": ""
             }
            },
            "type": "scattergeo"
           }
          ],
          "scattergl": [
           {
            "marker": {
             "line": {
              "color": "#283442"
             }
            },
            "type": "scattergl"
           }
          ],
          "scattermap": [
           {
            "marker": {
             "colorbar": {
              "outlinewidth": 0,
              "ticks": ""
             }
            },
            "type": "scattermap"
           }
          ],
          "scattermapbox": [
           {
            "marker": {
             "colorbar": {
              "outlinewidth": 0,
              "ticks": ""
             }
            },
            "type": "scattermapbox"
           }
          ],
          "scatterpolar": [
           {
            "marker": {
             "colorbar": {
              "outlinewidth": 0,
              "ticks": ""
             }
            },
            "type": "scatterpolar"
           }
          ],
          "scatterpolargl": [
           {
            "marker": {
             "colorbar": {
              "outlinewidth": 0,
              "ticks": ""
             }
            },
            "type": "scatterpolargl"
           }
          ],
          "scatterternary": [
           {
            "marker": {
             "colorbar": {
              "outlinewidth": 0,
              "ticks": ""
             }
            },
            "type": "scatterternary"
           }
          ],
          "surface": [
           {
            "colorbar": {
             "outlinewidth": 0,
             "ticks": ""
            },
            "colorscale": [
             [
              0,
              "#0d0887"
             ],
             [
              0.1111111111111111,
              "#46039f"
             ],
             [
              0.2222222222222222,
              "#7201a8"
             ],
             [
              0.3333333333333333,
              "#9c179e"
             ],
             [
              0.4444444444444444,
              "#bd3786"
             ],
             [
              0.5555555555555556,
              "#d8576b"
             ],
             [
              0.6666666666666666,
              "#ed7953"
             ],
             [
              0.7777777777777778,
              "#fb9f3a"
             ],
             [
              0.8888888888888888,
              "#fdca26"
             ],
             [
              1,
              "#f0f921"
             ]
            ],
            "type": "surface"
           }
          ],
          "table": [
           {
            "cells": {
             "fill": {
              "color": "#506784"
             },
             "line": {
              "color": "rgb(17,17,17)"
             }
            },
            "header": {
             "fill": {
              "color": "#2a3f5f"
             },
             "line": {
              "color": "rgb(17,17,17)"
             }
            },
            "type": "table"
           }
          ]
         },
         "layout": {
          "annotationdefaults": {
           "arrowcolor": "#f2f5fa",
           "arrowhead": 0,
           "arrowwidth": 1
          },
          "autotypenumbers": "strict",
          "coloraxis": {
           "colorbar": {
            "outlinewidth": 0,
            "ticks": ""
           }
          },
          "colorscale": {
           "diverging": [
            [
             0,
             "#8e0152"
            ],
            [
             0.1,
             "#c51b7d"
            ],
            [
             0.2,
             "#de77ae"
            ],
            [
             0.3,
             "#f1b6da"
            ],
            [
             0.4,
             "#fde0ef"
            ],
            [
             0.5,
             "#f7f7f7"
            ],
            [
             0.6,
             "#e6f5d0"
            ],
            [
             0.7,
             "#b8e186"
            ],
            [
             0.8,
             "#7fbc41"
            ],
            [
             0.9,
             "#4d9221"
            ],
            [
             1,
             "#276419"
            ]
           ],
           "sequential": [
            [
             0,
             "#0d0887"
            ],
            [
             0.1111111111111111,
             "#46039f"
            ],
            [
             0.2222222222222222,
             "#7201a8"
            ],
            [
             0.3333333333333333,
             "#9c179e"
            ],
            [
             0.4444444444444444,
             "#bd3786"
            ],
            [
             0.5555555555555556,
             "#d8576b"
            ],
            [
             0.6666666666666666,
             "#ed7953"
            ],
            [
             0.7777777777777778,
             "#fb9f3a"
            ],
            [
             0.8888888888888888,
             "#fdca26"
            ],
            [
             1,
             "#f0f921"
            ]
           ],
           "sequentialminus": [
            [
             0,
             "#0d0887"
            ],
            [
             0.1111111111111111,
             "#46039f"
            ],
            [
             0.2222222222222222,
             "#7201a8"
            ],
            [
             0.3333333333333333,
             "#9c179e"
            ],
            [
             0.4444444444444444,
             "#bd3786"
            ],
            [
             0.5555555555555556,
             "#d8576b"
            ],
            [
             0.6666666666666666,
             "#ed7953"
            ],
            [
             0.7777777777777778,
             "#fb9f3a"
            ],
            [
             0.8888888888888888,
             "#fdca26"
            ],
            [
             1,
             "#f0f921"
            ]
           ]
          },
          "colorway": [
           "#636efa",
           "#EF553B",
           "#00cc96",
           "#ab63fa",
           "#FFA15A",
           "#19d3f3",
           "#FF6692",
           "#B6E880",
           "#FF97FF",
           "#FECB52"
          ],
          "font": {
           "color": "#f2f5fa"
          },
          "geo": {
           "bgcolor": "rgb(17,17,17)",
           "lakecolor": "rgb(17,17,17)",
           "landcolor": "rgb(17,17,17)",
           "showlakes": true,
           "showland": true,
           "subunitcolor": "#506784"
          },
          "hoverlabel": {
           "align": "left"
          },
          "hovermode": "closest",
          "mapbox": {
           "style": "dark"
          },
          "paper_bgcolor": "rgb(17,17,17)",
          "plot_bgcolor": "rgb(17,17,17)",
          "polar": {
           "angularaxis": {
            "gridcolor": "#506784",
            "linecolor": "#506784",
            "ticks": ""
           },
           "bgcolor": "rgb(17,17,17)",
           "radialaxis": {
            "gridcolor": "#506784",
            "linecolor": "#506784",
            "ticks": ""
           }
          },
          "scene": {
           "xaxis": {
            "backgroundcolor": "rgb(17,17,17)",
            "gridcolor": "#506784",
            "gridwidth": 2,
            "linecolor": "#506784",
            "showbackground": true,
            "ticks": "",
            "zerolinecolor": "#C8D4E3"
           },
           "yaxis": {
            "backgroundcolor": "rgb(17,17,17)",
            "gridcolor": "#506784",
            "gridwidth": 2,
            "linecolor": "#506784",
            "showbackground": true,
            "ticks": "",
            "zerolinecolor": "#C8D4E3"
           },
           "zaxis": {
            "backgroundcolor": "rgb(17,17,17)",
            "gridcolor": "#506784",
            "gridwidth": 2,
            "linecolor": "#506784",
            "showbackground": true,
            "ticks": "",
            "zerolinecolor": "#C8D4E3"
           }
          },
          "shapedefaults": {
           "line": {
            "color": "#f2f5fa"
           }
          },
          "sliderdefaults": {
           "bgcolor": "#C8D4E3",
           "bordercolor": "rgb(17,17,17)",
           "borderwidth": 1,
           "tickwidth": 0
          },
          "ternary": {
           "aaxis": {
            "gridcolor": "#506784",
            "linecolor": "#506784",
            "ticks": ""
           },
           "baxis": {
            "gridcolor": "#506784",
            "linecolor": "#506784",
            "ticks": ""
           },
           "bgcolor": "rgb(17,17,17)",
           "caxis": {
            "gridcolor": "#506784",
            "linecolor": "#506784",
            "ticks": ""
           }
          },
          "title": {
           "x": 0.05
          },
          "updatemenudefaults": {
           "bgcolor": "#506784",
           "borderwidth": 0
          },
          "xaxis": {
           "automargin": true,
           "gridcolor": "#283442",
           "linecolor": "#506784",
           "ticks": "",
           "title": {
            "standoff": 15
           },
           "zerolinecolor": "#283442",
           "zerolinewidth": 2
          },
          "yaxis": {
           "automargin": true,
           "gridcolor": "#283442",
           "linecolor": "#506784",
           "ticks": "",
           "title": {
            "standoff": 15
           },
           "zerolinecolor": "#283442",
           "zerolinewidth": 2
          }
         }
        },
        "title": {
         "font": {
          "size": 24
         },
         "text": "Benchmarking of \"Doc-Checklist\"<br><span style=\"font-size: 0.5em; color: #888;\">Comparing values with longest common subsequence</span><br><span style=\"font-size: 0.5em; color: #888;\">Model: gpt-4o-2024-08-06</span>",
         "x": 0.5,
         "y": 0.95
        },
        "width": 1000,
        "xaxis": {
         "range": [
          -0.5,
          1.5
         ],
         "tickangle": 45,
         "ticktext": [
          "section-order-alt",
          "section-order"
         ],
         "tickvals": [
          0,
          1
         ],
         "title": {
          "text": "Check"
         }
        },
        "yaxis": {
         "range": [
          0,
          1.1
         ],
         "title": {
          "text": "Score"
         }
        }
       }
      }
     },
     "metadata": {},
     "output_type": "display_data"
    }
   ],
   "source": [
    "fig, df_data = checklist_visualization(\n",
    "    \"doc-checklist\",\n",
    "    metric=\"longest_common_subsequence\",  # \"semantic_similarity\", \"perfect_match\"\n",
    "    model=MODEL,\n",
    "    aggregation_level=0\n",
    ")\n",
    "fig.show()"
   ]
  },
  {
   "cell_type": "code",
   "execution_count": 5,
   "metadata": {},
   "outputs": [
    {
     "name": "stderr",
     "output_type": "stream",
     "text": [
      "2025-08-03 18:49:59 - INFO - Creating plot (prompt.1, longest_common_subsequence), plotting score for section-order-alt...\n",
      "2025-08-03 18:49:59 - INFO - Plotting data: 10 rows\n"
     ]
    },
    {
     "data": {
      "application/vnd.plotly.v1+json": {
       "config": {
        "plotlyServerURL": "https://plot.ly"
       },
       "data": [
        {
         "hovertext": [
          "10.1038_embor.2009.217",
          "10.1038_embor.2009.217",
          "EMBOJ-2024-119734R",
          "EMBOJ-2024-119734R",
          "EMBOR-2025-61250V2",
          "EMBOR-2025-61250V2",
          "EMM-2025-21341",
          "EMM-2025-21341",
          "EMM-2025-21532",
          "EMM-2025-21532"
         ],
         "marker": {
          "color": "white",
          "line": {
           "color": "white",
           "width": 0
          },
          "opacity": 0.4,
          "size": 5
         },
         "mode": "markers",
         "name": "prompt.1",
         "showlegend": true,
         "type": "scatter",
         "x": [
          -0.02135796853570457,
          1.0420188012639615,
          -0.0007601756929374985,
          0.9779470512405911,
          0.020747261073628964,
          1.0078005893369106,
          0.02215355097822122,
          1.0087095802613175,
          0.0035334831659604954,
          0.987411169899283
         ],
         "y": {
          "bdata": "rrXWWmut7T8AAAAAAADwP1VVVVVVVe0/AAAAAAAA8D9QP/3000/vPwAAAAAAAPA/Nok4HSas6z8AAAAAAADwP8NxuUuy7+0/AAAAAAAA8D8=",
          "dtype": "f8"
         }
        },
        {
         "error_y": {
          "array": {
           "bdata": "AAAAAAAAAAC2U++gRuqkPw==",
           "dtype": "f8"
          },
          "color": "grey",
          "thickness": 1,
          "type": "data",
          "visible": true,
          "width": 3
         },
         "hovertext": [
          "Field: missing_sections<br>1.0: 1.000<br>Prompt: prompt.1",
          "Field: sections_as_in_manuscript<br>0.9245709471801394: 0.925<br>Prompt: prompt.1"
         ],
         "marker": {
          "color": "rgb(228,26,28)"
         },
         "name": "prompt.1",
         "showlegend": true,
         "type": "bar",
         "width": 0.5,
         "x": [
          1,
          0
         ],
         "y": {
          "bdata": "AAAAAAAA8D/dDZ/PFZbtPw==",
          "dtype": "f8"
         }
        }
       ],
       "layout": {
        "boxmode": "group",
        "height": 600,
        "showlegend": true,
        "template": {
         "data": {
          "bar": [
           {
            "error_x": {
             "color": "#f2f5fa"
            },
            "error_y": {
             "color": "#f2f5fa"
            },
            "marker": {
             "line": {
              "color": "rgb(17,17,17)",
              "width": 0.5
             },
             "pattern": {
              "fillmode": "overlay",
              "size": 10,
              "solidity": 0.2
             }
            },
            "type": "bar"
           }
          ],
          "barpolar": [
           {
            "marker": {
             "line": {
              "color": "rgb(17,17,17)",
              "width": 0.5
             },
             "pattern": {
              "fillmode": "overlay",
              "size": 10,
              "solidity": 0.2
             }
            },
            "type": "barpolar"
           }
          ],
          "carpet": [
           {
            "aaxis": {
             "endlinecolor": "#A2B1C6",
             "gridcolor": "#506784",
             "linecolor": "#506784",
             "minorgridcolor": "#506784",
             "startlinecolor": "#A2B1C6"
            },
            "baxis": {
             "endlinecolor": "#A2B1C6",
             "gridcolor": "#506784",
             "linecolor": "#506784",
             "minorgridcolor": "#506784",
             "startlinecolor": "#A2B1C6"
            },
            "type": "carpet"
           }
          ],
          "choropleth": [
           {
            "colorbar": {
             "outlinewidth": 0,
             "ticks": ""
            },
            "type": "choropleth"
           }
          ],
          "contour": [
           {
            "colorbar": {
             "outlinewidth": 0,
             "ticks": ""
            },
            "colorscale": [
             [
              0,
              "#0d0887"
             ],
             [
              0.1111111111111111,
              "#46039f"
             ],
             [
              0.2222222222222222,
              "#7201a8"
             ],
             [
              0.3333333333333333,
              "#9c179e"
             ],
             [
              0.4444444444444444,
              "#bd3786"
             ],
             [
              0.5555555555555556,
              "#d8576b"
             ],
             [
              0.6666666666666666,
              "#ed7953"
             ],
             [
              0.7777777777777778,
              "#fb9f3a"
             ],
             [
              0.8888888888888888,
              "#fdca26"
             ],
             [
              1,
              "#f0f921"
             ]
            ],
            "type": "contour"
           }
          ],
          "contourcarpet": [
           {
            "colorbar": {
             "outlinewidth": 0,
             "ticks": ""
            },
            "type": "contourcarpet"
           }
          ],
          "heatmap": [
           {
            "colorbar": {
             "outlinewidth": 0,
             "ticks": ""
            },
            "colorscale": [
             [
              0,
              "#0d0887"
             ],
             [
              0.1111111111111111,
              "#46039f"
             ],
             [
              0.2222222222222222,
              "#7201a8"
             ],
             [
              0.3333333333333333,
              "#9c179e"
             ],
             [
              0.4444444444444444,
              "#bd3786"
             ],
             [
              0.5555555555555556,
              "#d8576b"
             ],
             [
              0.6666666666666666,
              "#ed7953"
             ],
             [
              0.7777777777777778,
              "#fb9f3a"
             ],
             [
              0.8888888888888888,
              "#fdca26"
             ],
             [
              1,
              "#f0f921"
             ]
            ],
            "type": "heatmap"
           }
          ],
          "histogram": [
           {
            "marker": {
             "pattern": {
              "fillmode": "overlay",
              "size": 10,
              "solidity": 0.2
             }
            },
            "type": "histogram"
           }
          ],
          "histogram2d": [
           {
            "colorbar": {
             "outlinewidth": 0,
             "ticks": ""
            },
            "colorscale": [
             [
              0,
              "#0d0887"
             ],
             [
              0.1111111111111111,
              "#46039f"
             ],
             [
              0.2222222222222222,
              "#7201a8"
             ],
             [
              0.3333333333333333,
              "#9c179e"
             ],
             [
              0.4444444444444444,
              "#bd3786"
             ],
             [
              0.5555555555555556,
              "#d8576b"
             ],
             [
              0.6666666666666666,
              "#ed7953"
             ],
             [
              0.7777777777777778,
              "#fb9f3a"
             ],
             [
              0.8888888888888888,
              "#fdca26"
             ],
             [
              1,
              "#f0f921"
             ]
            ],
            "type": "histogram2d"
           }
          ],
          "histogram2dcontour": [
           {
            "colorbar": {
             "outlinewidth": 0,
             "ticks": ""
            },
            "colorscale": [
             [
              0,
              "#0d0887"
             ],
             [
              0.1111111111111111,
              "#46039f"
             ],
             [
              0.2222222222222222,
              "#7201a8"
             ],
             [
              0.3333333333333333,
              "#9c179e"
             ],
             [
              0.4444444444444444,
              "#bd3786"
             ],
             [
              0.5555555555555556,
              "#d8576b"
             ],
             [
              0.6666666666666666,
              "#ed7953"
             ],
             [
              0.7777777777777778,
              "#fb9f3a"
             ],
             [
              0.8888888888888888,
              "#fdca26"
             ],
             [
              1,
              "#f0f921"
             ]
            ],
            "type": "histogram2dcontour"
           }
          ],
          "mesh3d": [
           {
            "colorbar": {
             "outlinewidth": 0,
             "ticks": ""
            },
            "type": "mesh3d"
           }
          ],
          "parcoords": [
           {
            "line": {
             "colorbar": {
              "outlinewidth": 0,
              "ticks": ""
             }
            },
            "type": "parcoords"
           }
          ],
          "pie": [
           {
            "automargin": true,
            "type": "pie"
           }
          ],
          "scatter": [
           {
            "marker": {
             "line": {
              "color": "#283442"
             }
            },
            "type": "scatter"
           }
          ],
          "scatter3d": [
           {
            "line": {
             "colorbar": {
              "outlinewidth": 0,
              "ticks": ""
             }
            },
            "marker": {
             "colorbar": {
              "outlinewidth": 0,
              "ticks": ""
             }
            },
            "type": "scatter3d"
           }
          ],
          "scattercarpet": [
           {
            "marker": {
             "colorbar": {
              "outlinewidth": 0,
              "ticks": ""
             }
            },
            "type": "scattercarpet"
           }
          ],
          "scattergeo": [
           {
            "marker": {
             "colorbar": {
              "outlinewidth": 0,
              "ticks": ""
             }
            },
            "type": "scattergeo"
           }
          ],
          "scattergl": [
           {
            "marker": {
             "line": {
              "color": "#283442"
             }
            },
            "type": "scattergl"
           }
          ],
          "scattermap": [
           {
            "marker": {
             "colorbar": {
              "outlinewidth": 0,
              "ticks": ""
             }
            },
            "type": "scattermap"
           }
          ],
          "scattermapbox": [
           {
            "marker": {
             "colorbar": {
              "outlinewidth": 0,
              "ticks": ""
             }
            },
            "type": "scattermapbox"
           }
          ],
          "scatterpolar": [
           {
            "marker": {
             "colorbar": {
              "outlinewidth": 0,
              "ticks": ""
             }
            },
            "type": "scatterpolar"
           }
          ],
          "scatterpolargl": [
           {
            "marker": {
             "colorbar": {
              "outlinewidth": 0,
              "ticks": ""
             }
            },
            "type": "scatterpolargl"
           }
          ],
          "scatterternary": [
           {
            "marker": {
             "colorbar": {
              "outlinewidth": 0,
              "ticks": ""
             }
            },
            "type": "scatterternary"
           }
          ],
          "surface": [
           {
            "colorbar": {
             "outlinewidth": 0,
             "ticks": ""
            },
            "colorscale": [
             [
              0,
              "#0d0887"
             ],
             [
              0.1111111111111111,
              "#46039f"
             ],
             [
              0.2222222222222222,
              "#7201a8"
             ],
             [
              0.3333333333333333,
              "#9c179e"
             ],
             [
              0.4444444444444444,
              "#bd3786"
             ],
             [
              0.5555555555555556,
              "#d8576b"
             ],
             [
              0.6666666666666666,
              "#ed7953"
             ],
             [
              0.7777777777777778,
              "#fb9f3a"
             ],
             [
              0.8888888888888888,
              "#fdca26"
             ],
             [
              1,
              "#f0f921"
             ]
            ],
            "type": "surface"
           }
          ],
          "table": [
           {
            "cells": {
             "fill": {
              "color": "#506784"
             },
             "line": {
              "color": "rgb(17,17,17)"
             }
            },
            "header": {
             "fill": {
              "color": "#2a3f5f"
             },
             "line": {
              "color": "rgb(17,17,17)"
             }
            },
            "type": "table"
           }
          ]
         },
         "layout": {
          "annotationdefaults": {
           "arrowcolor": "#f2f5fa",
           "arrowhead": 0,
           "arrowwidth": 1
          },
          "autotypenumbers": "strict",
          "coloraxis": {
           "colorbar": {
            "outlinewidth": 0,
            "ticks": ""
           }
          },
          "colorscale": {
           "diverging": [
            [
             0,
             "#8e0152"
            ],
            [
             0.1,
             "#c51b7d"
            ],
            [
             0.2,
             "#de77ae"
            ],
            [
             0.3,
             "#f1b6da"
            ],
            [
             0.4,
             "#fde0ef"
            ],
            [
             0.5,
             "#f7f7f7"
            ],
            [
             0.6,
             "#e6f5d0"
            ],
            [
             0.7,
             "#b8e186"
            ],
            [
             0.8,
             "#7fbc41"
            ],
            [
             0.9,
             "#4d9221"
            ],
            [
             1,
             "#276419"
            ]
           ],
           "sequential": [
            [
             0,
             "#0d0887"
            ],
            [
             0.1111111111111111,
             "#46039f"
            ],
            [
             0.2222222222222222,
             "#7201a8"
            ],
            [
             0.3333333333333333,
             "#9c179e"
            ],
            [
             0.4444444444444444,
             "#bd3786"
            ],
            [
             0.5555555555555556,
             "#d8576b"
            ],
            [
             0.6666666666666666,
             "#ed7953"
            ],
            [
             0.7777777777777778,
             "#fb9f3a"
            ],
            [
             0.8888888888888888,
             "#fdca26"
            ],
            [
             1,
             "#f0f921"
            ]
           ],
           "sequentialminus": [
            [
             0,
             "#0d0887"
            ],
            [
             0.1111111111111111,
             "#46039f"
            ],
            [
             0.2222222222222222,
             "#7201a8"
            ],
            [
             0.3333333333333333,
             "#9c179e"
            ],
            [
             0.4444444444444444,
             "#bd3786"
            ],
            [
             0.5555555555555556,
             "#d8576b"
            ],
            [
             0.6666666666666666,
             "#ed7953"
            ],
            [
             0.7777777777777778,
             "#fb9f3a"
            ],
            [
             0.8888888888888888,
             "#fdca26"
            ],
            [
             1,
             "#f0f921"
            ]
           ]
          },
          "colorway": [
           "#636efa",
           "#EF553B",
           "#00cc96",
           "#ab63fa",
           "#FFA15A",
           "#19d3f3",
           "#FF6692",
           "#B6E880",
           "#FF97FF",
           "#FECB52"
          ],
          "font": {
           "color": "#f2f5fa"
          },
          "geo": {
           "bgcolor": "rgb(17,17,17)",
           "lakecolor": "rgb(17,17,17)",
           "landcolor": "rgb(17,17,17)",
           "showlakes": true,
           "showland": true,
           "subunitcolor": "#506784"
          },
          "hoverlabel": {
           "align": "left"
          },
          "hovermode": "closest",
          "mapbox": {
           "style": "dark"
          },
          "paper_bgcolor": "rgb(17,17,17)",
          "plot_bgcolor": "rgb(17,17,17)",
          "polar": {
           "angularaxis": {
            "gridcolor": "#506784",
            "linecolor": "#506784",
            "ticks": ""
           },
           "bgcolor": "rgb(17,17,17)",
           "radialaxis": {
            "gridcolor": "#506784",
            "linecolor": "#506784",
            "ticks": ""
           }
          },
          "scene": {
           "xaxis": {
            "backgroundcolor": "rgb(17,17,17)",
            "gridcolor": "#506784",
            "gridwidth": 2,
            "linecolor": "#506784",
            "showbackground": true,
            "ticks": "",
            "zerolinecolor": "#C8D4E3"
           },
           "yaxis": {
            "backgroundcolor": "rgb(17,17,17)",
            "gridcolor": "#506784",
            "gridwidth": 2,
            "linecolor": "#506784",
            "showbackground": true,
            "ticks": "",
            "zerolinecolor": "#C8D4E3"
           },
           "zaxis": {
            "backgroundcolor": "rgb(17,17,17)",
            "gridcolor": "#506784",
            "gridwidth": 2,
            "linecolor": "#506784",
            "showbackground": true,
            "ticks": "",
            "zerolinecolor": "#C8D4E3"
           }
          },
          "shapedefaults": {
           "line": {
            "color": "#f2f5fa"
           }
          },
          "sliderdefaults": {
           "bgcolor": "#C8D4E3",
           "bordercolor": "rgb(17,17,17)",
           "borderwidth": 1,
           "tickwidth": 0
          },
          "ternary": {
           "aaxis": {
            "gridcolor": "#506784",
            "linecolor": "#506784",
            "ticks": ""
           },
           "baxis": {
            "gridcolor": "#506784",
            "linecolor": "#506784",
            "ticks": ""
           },
           "bgcolor": "rgb(17,17,17)",
           "caxis": {
            "gridcolor": "#506784",
            "linecolor": "#506784",
            "ticks": ""
           }
          },
          "title": {
           "x": 0.05
          },
          "updatemenudefaults": {
           "bgcolor": "#506784",
           "borderwidth": 0
          },
          "xaxis": {
           "automargin": true,
           "gridcolor": "#283442",
           "linecolor": "#506784",
           "ticks": "",
           "title": {
            "standoff": 15
           },
           "zerolinecolor": "#283442",
           "zerolinewidth": 2
          },
          "yaxis": {
           "automargin": true,
           "gridcolor": "#283442",
           "linecolor": "#506784",
           "ticks": "",
           "title": {
            "standoff": 15
           },
           "zerolinecolor": "#283442",
           "zerolinewidth": 2
          }
         }
        },
        "title": {
         "text": "score for section-order-alt (n=5)<br><span style=\"font-size: 0.8em; color: #888;\">Comparing values with longest common subsequence</span><br><span style=\"font-size: 0.8em; color: #888;\">Model: gpt-4o-2024-08-06</span>"
        },
        "width": 800,
        "xaxis": {
         "range": [
          -0.5,
          1.5
         ],
         "tickangle": 45,
         "ticktext": [
          "sections_as_in_manuscript",
          "missing_sections"
         ],
         "tickvals": [
          0,
          1
         ],
         "title": {
          "text": "Fields"
         }
        },
        "yaxis": {
         "title": {
          "text": "score"
         }
        }
       }
      }
     },
     "metadata": {},
     "output_type": "display_data"
    }
   ],
   "source": [
    "fig, df_data, df_metadata = check_visualization(\n",
    "    \"doc-checklist\",\n",
    "    \"section-order-alt\",\n",
    "    metric=\"longest_common_subsequence\",\n",
    "    score=\"score\",\n",
    "    model=MODEL,\n",
    "    aggregation_level=0\n",
    ")\n",
    "fig.show()"
   ]
  },
  {
   "cell_type": "code",
   "execution_count": 7,
   "metadata": {},
   "outputs": [
    {
     "data": {
      "text/html": [
       "\n",
       "            <h3>Paper: EMM-2025-21341 - Element: EMM-2025-21341/match_0_0 with score 0.932</h3>\n",
       "            <div style='display:flex; flex-direction:row; align-items:flex-start;'>\n",
       "                \n",
       "            <table style='border-collapse: collapse; width: 80%; margin: 20px;'>\n",
       "                <tr><th>Field</th><th>Score</th><th>F1 Score</th></tr>\n",
       "                <tr><td>sections_as_in_manuscript</td><td>0.865</td><td>1.000</td></tr><tr><td>missing_sections</td><td>1.000</td><td>1.000</td></tr>\n",
       "            </table>\n",
       "            \n",
       "            </div>\n",
       "            \n",
       "            <h3>Paper: EMM-2025-21341 - Element: EMM-2025-21341/match_0_0 with score 0.932</h3>\n",
       "            <div style='display:flex; flex-direction:row; align-items:flex-start;'>\n",
       "                \n",
       "            <table style='border-collapse: collapse; width: 80%; margin: 20px;'>\n",
       "                <tr><th>Field</th><th>Score</th><th>F1 Score</th></tr>\n",
       "                <tr><td>sections_as_in_manuscript</td><td>0.865</td><td>1.000</td></tr><tr><td>missing_sections</td><td>1.000</td><td>1.000</td></tr>\n",
       "            </table>\n",
       "            \n",
       "            </div>\n",
       "            \n",
       "            <h3>Paper: EMM-2025-21341 - Element: EMM-2025-21341/match_0_0 with score 0.932</h3>\n",
       "            <div style='display:flex; flex-direction:row; align-items:flex-start;'>\n",
       "                \n",
       "            <table style='border-collapse: collapse; width: 80%; margin: 20px;'>\n",
       "                <tr><th>Field</th><th>Score</th><th>F1 Score</th></tr>\n",
       "                <tr><td>sections_as_in_manuscript</td><td>0.865</td><td>1.000</td></tr><tr><td>missing_sections</td><td>1.000</td><td>1.000</td></tr>\n",
       "            </table>\n",
       "            \n",
       "            </div>\n",
       "            \n",
       "            <h3>Paper: EMBOJ-2024-119734R - Element: EMBOJ-2024-119734R/match_0_0 with score 0.958</h3>\n",
       "            <div style='display:flex; flex-direction:row; align-items:flex-start;'>\n",
       "                \n",
       "            <table style='border-collapse: collapse; width: 80%; margin: 20px;'>\n",
       "                <tr><th>Field</th><th>Score</th><th>F1 Score</th></tr>\n",
       "                <tr><td>sections_as_in_manuscript</td><td>0.917</td><td>1.000</td></tr><tr><td>missing_sections</td><td>1.000</td><td>1.000</td></tr>\n",
       "            </table>\n",
       "            \n",
       "            </div>\n",
       "            \n",
       "            <h3>Paper: EMBOJ-2024-119734R - Element: EMBOJ-2024-119734R/match_0_0 with score 0.958</h3>\n",
       "            <div style='display:flex; flex-direction:row; align-items:flex-start;'>\n",
       "                \n",
       "            <table style='border-collapse: collapse; width: 80%; margin: 20px;'>\n",
       "                <tr><th>Field</th><th>Score</th><th>F1 Score</th></tr>\n",
       "                <tr><td>sections_as_in_manuscript</td><td>0.917</td><td>1.000</td></tr><tr><td>missing_sections</td><td>1.000</td><td>1.000</td></tr>\n",
       "            </table>\n",
       "            \n",
       "            </div>\n",
       "            \n",
       "            <h3>Paper: EMBOJ-2024-119734R - Element: EMBOJ-2024-119734R/match_0_0 with score 0.958</h3>\n",
       "            <div style='display:flex; flex-direction:row; align-items:flex-start;'>\n",
       "                \n",
       "            <table style='border-collapse: collapse; width: 80%; margin: 20px;'>\n",
       "                <tr><th>Field</th><th>Score</th><th>F1 Score</th></tr>\n",
       "                <tr><td>sections_as_in_manuscript</td><td>0.917</td><td>1.000</td></tr><tr><td>missing_sections</td><td>1.000</td><td>1.000</td></tr>\n",
       "            </table>\n",
       "            \n",
       "            </div>\n",
       "            \n",
       "            <h3>Paper: 10.1038_embor.2009.217 - Element: 10.1038_embor.2009.217/match_0_0 with score 0.964</h3>\n",
       "            <div style='display:flex; flex-direction:row; align-items:flex-start;'>\n",
       "                \n",
       "            <table style='border-collapse: collapse; width: 80%; margin: 20px;'>\n",
       "                <tr><th>Field</th><th>Score</th><th>F1 Score</th></tr>\n",
       "                <tr><td>sections_as_in_manuscript</td><td>0.927</td><td>1.000</td></tr><tr><td>missing_sections</td><td>1.000</td><td>1.000</td></tr>\n",
       "            </table>\n",
       "            \n",
       "            </div>\n",
       "            \n",
       "            <h3>Paper: 10.1038_embor.2009.217 - Element: 10.1038_embor.2009.217/match_0_0 with score 0.964</h3>\n",
       "            <div style='display:flex; flex-direction:row; align-items:flex-start;'>\n",
       "                \n",
       "            <table style='border-collapse: collapse; width: 80%; margin: 20px;'>\n",
       "                <tr><th>Field</th><th>Score</th><th>F1 Score</th></tr>\n",
       "                <tr><td>sections_as_in_manuscript</td><td>0.927</td><td>1.000</td></tr><tr><td>missing_sections</td><td>1.000</td><td>1.000</td></tr>\n",
       "            </table>\n",
       "            \n",
       "            </div>\n",
       "            \n",
       "            <h3>Paper: 10.1038_embor.2009.217 - Element: 10.1038_embor.2009.217/match_0_0 with score 0.964</h3>\n",
       "            <div style='display:flex; flex-direction:row; align-items:flex-start;'>\n",
       "                \n",
       "            <table style='border-collapse: collapse; width: 80%; margin: 20px;'>\n",
       "                <tr><th>Field</th><th>Score</th><th>F1 Score</th></tr>\n",
       "                <tr><td>sections_as_in_manuscript</td><td>0.927</td><td>1.000</td></tr><tr><td>missing_sections</td><td>1.000</td><td>1.000</td></tr>\n",
       "            </table>\n",
       "            \n",
       "            </div>\n",
       "            "
      ],
      "text/plain": [
       "<IPython.core.display.HTML object>"
      ]
     },
     "metadata": {},
     "output_type": "display_data"
    }
   ],
   "source": [
    "from IPython.display import HTML\n",
    "\n",
    "html, worst_items, fields_data = check_report(\n",
    "    \"doc-checklist\",\n",
    "    \"section-order-alt\",\n",
    "    prompt=\"prompt.1\",\n",
    "    # search_id=\"2009.312\",\n",
    "    model=MODEL,\n",
    "    metric=\"longest_common_subsequence\",\n",
    "    score=\"score\",\n",
    "    aggregation_level=1\n",
    ")\n",
    "display(HTML(html))"
   ]
  },
  {
   "cell_type": "code",
   "execution_count": null,
   "metadata": {},
   "outputs": [],
   "source": []
  }
 ],
 "metadata": {
  "kernelspec": {
   "display_name": ".venv",
   "language": "python",
   "name": "python3"
  },
  "language_info": {
   "codemirror_mode": {
    "name": "ipython",
    "version": 3
   },
   "file_extension": ".py",
   "mimetype": "text/x-python",
   "name": "python",
   "nbconvert_exporter": "python",
   "pygments_lexer": "ipython3",
   "version": "3.12.1"
  }
 },
 "nbformat": 4,
 "nbformat_minor": 2
}
