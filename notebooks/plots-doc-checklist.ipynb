{
 "cells": [
  {
   "cell_type": "code",
   "execution_count": null,
   "metadata": {},
   "outputs": [],
   "source": [
    "# magic command to update modules\n",
    "%load_ext autoreload\n",
    "%autoreload 2\n",
    "%xmode verbose"
   ]
  },
  {
   "cell_type": "code",
   "execution_count": 21,
   "metadata": {},
   "outputs": [],
   "source": [
    "# import visualize from tools\n",
    "from soda_mmqc.scripts.visualize import *"
   ]
  },
  {
   "cell_type": "code",
   "execution_count": 22,
   "metadata": {},
   "outputs": [],
   "source": [
    "MODEL = \"gpt-4o-2024-08-06\" #\"gpt-4o-2024-08-06\"  #o3-mini-2025-01-31  # o4-mini-2025-04-16"
   ]
  },
  {
   "cell_type": "code",
   "execution_count": 61,
   "metadata": {},
   "outputs": [
    {
     "name": "stderr",
     "output_type": "stream",
     "text": [
      "2025-07-22 16:33:13 - INFO - Creating global visualization for 1 checks\n",
      "2025-07-22 16:33:13 - INFO - Creating plot for prompt: prompt.1...\n",
      "2025-07-22 16:33:13 - INFO - Creating plot for prompt: prompt.2...\n"
     ]
    },
    {
     "data": {
      "application/vnd.plotly.v1+json": {
       "config": {
        "plotlyServerURL": "https://plot.ly"
       },
       "data": [
        {
         "error_y": {
          "array": {
           "bdata": "7AeqVvyW1j8=",
           "dtype": "f8"
          },
          "color": "grey",
          "thickness": 1,
          "type": "data",
          "visible": true,
          "width": 3
         },
         "hoverinfo": "text",
         "hovertext": [
          "Check: section-order<br>Average Score: 0.575<br>Prompt: prompt.1<br>Num Points: 5",
          "Check: section-order<br>Average Score: 0.731<br>Prompt: prompt.1<br>Num Points: 5",
          "Check: section-order<br>Average Score: 0.000<br>Prompt: prompt.1<br>Num Points: 5",
          "Check: section-order<br>Average Score: 0.600<br>Prompt: prompt.1<br>Num Points: 5",
          "Check: section-order<br>Average Score: 0.000<br>Prompt: prompt.1<br>Num Points: 5"
         ],
         "marker": {
          "color": "rgb(228,26,28)"
         },
         "name": "prompt.1",
         "showlegend": true,
         "type": "bar",
         "width": 0.3333333333333333,
         "x": [
          -0.16666666666666666
         ],
         "y": {
          "bdata": "0GkDDedl2D8=",
          "dtype": "f8"
         }
        },
        {
         "hovertext": [
          "10.1038_embor.2009.217",
          "EMBOJ-2024-119734R",
          "EMBOR-2025-61250V2",
          "EMM-2025-21341",
          "EMM-2025-21532"
         ],
         "marker": {
          "color": "white",
          "line": {
           "color": "white",
           "width": 0
          },
          "opacity": 0.4,
          "size": 10
         },
         "mode": "markers",
         "name": "prompt.1",
         "showlegend": true,
         "type": "scatter",
         "x": {
          "bdata": "CMnDjryyzL92OcviQSrBv3+QOUOyScO/BHFV7xVPyL/CRDRF41/Kvw==",
          "dtype": "f8"
         },
         "y": {
          "bdata": "VlVVFVNq4j8AAABYO2HnPwAAAAAAAAAAMzMzMzMz4z8AAAAAAAAAAA==",
          "dtype": "f8"
         }
        },
        {
         "error_y": {
          "array": {
           "bdata": "k/k0qOAH1T8=",
           "dtype": "f8"
          },
          "color": "grey",
          "thickness": 1,
          "type": "data",
          "visible": true,
          "width": 3
         },
         "hoverinfo": "text",
         "hovertext": [
          "Check: section-order<br>Average Score: 0.550<br>Prompt: prompt.2<br>Num Points: 5",
          "Check: section-order<br>Average Score: 0.623<br>Prompt: prompt.2<br>Num Points: 5",
          "Check: section-order<br>Average Score: 0.619<br>Prompt: prompt.2<br>Num Points: 5",
          "Check: section-order<br>Average Score: 0.000<br>Prompt: prompt.2<br>Num Points: 5",
          "Check: section-order<br>Average Score: 0.000<br>Prompt: prompt.2<br>Num Points: 5"
         ],
         "marker": {
          "color": "rgb(55,126,184)"
         },
         "name": "prompt.2",
         "showlegend": true,
         "type": "bar",
         "width": 0.3333333333333333,
         "x": [
          0.16666666666666666
         ],
         "y": {
          "bdata": "8osl73Xy1j8=",
          "dtype": "f8"
         }
        },
        {
         "hovertext": [
          "10.1038_embor.2009.217",
          "EMBOJ-2024-119734R",
          "EMBOR-2025-61250V2",
          "EMM-2025-21341",
          "EMM-2025-21532"
         ],
         "marker": {
          "color": "white",
          "line": {
           "color": "white",
           "width": 0
          },
          "opacity": 0.4,
          "size": 10
         },
         "mode": "markers",
         "name": "prompt.2",
         "showlegend": true,
         "type": "scatter",
         "x": {
          "bdata": "z7XLSwKpwz8ktiDVR43EP8UBl4Cs28E/UMoXKZzXwT8nLOdLBhbLPw==",
          "dtype": "f8"
         },
         "y": {
          "bdata": "mpmZmZmZ4T+amZkRF/LjP6qqqip20uM/AAAAAAAAAAAAAAAAAAAAAA==",
          "dtype": "f8"
         }
        }
       ],
       "layout": {
        "barmode": "group",
        "height": 600,
        "template": {
         "data": {
          "bar": [
           {
            "error_x": {
             "color": "#f2f5fa"
            },
            "error_y": {
             "color": "#f2f5fa"
            },
            "marker": {
             "line": {
              "color": "rgb(17,17,17)",
              "width": 0.5
             },
             "pattern": {
              "fillmode": "overlay",
              "size": 10,
              "solidity": 0.2
             }
            },
            "type": "bar"
           }
          ],
          "barpolar": [
           {
            "marker": {
             "line": {
              "color": "rgb(17,17,17)",
              "width": 0.5
             },
             "pattern": {
              "fillmode": "overlay",
              "size": 10,
              "solidity": 0.2
             }
            },
            "type": "barpolar"
           }
          ],
          "carpet": [
           {
            "aaxis": {
             "endlinecolor": "#A2B1C6",
             "gridcolor": "#506784",
             "linecolor": "#506784",
             "minorgridcolor": "#506784",
             "startlinecolor": "#A2B1C6"
            },
            "baxis": {
             "endlinecolor": "#A2B1C6",
             "gridcolor": "#506784",
             "linecolor": "#506784",
             "minorgridcolor": "#506784",
             "startlinecolor": "#A2B1C6"
            },
            "type": "carpet"
           }
          ],
          "choropleth": [
           {
            "colorbar": {
             "outlinewidth": 0,
             "ticks": ""
            },
            "type": "choropleth"
           }
          ],
          "contour": [
           {
            "colorbar": {
             "outlinewidth": 0,
             "ticks": ""
            },
            "colorscale": [
             [
              0,
              "#0d0887"
             ],
             [
              0.1111111111111111,
              "#46039f"
             ],
             [
              0.2222222222222222,
              "#7201a8"
             ],
             [
              0.3333333333333333,
              "#9c179e"
             ],
             [
              0.4444444444444444,
              "#bd3786"
             ],
             [
              0.5555555555555556,
              "#d8576b"
             ],
             [
              0.6666666666666666,
              "#ed7953"
             ],
             [
              0.7777777777777778,
              "#fb9f3a"
             ],
             [
              0.8888888888888888,
              "#fdca26"
             ],
             [
              1,
              "#f0f921"
             ]
            ],
            "type": "contour"
           }
          ],
          "contourcarpet": [
           {
            "colorbar": {
             "outlinewidth": 0,
             "ticks": ""
            },
            "type": "contourcarpet"
           }
          ],
          "heatmap": [
           {
            "colorbar": {
             "outlinewidth": 0,
             "ticks": ""
            },
            "colorscale": [
             [
              0,
              "#0d0887"
             ],
             [
              0.1111111111111111,
              "#46039f"
             ],
             [
              0.2222222222222222,
              "#7201a8"
             ],
             [
              0.3333333333333333,
              "#9c179e"
             ],
             [
              0.4444444444444444,
              "#bd3786"
             ],
             [
              0.5555555555555556,
              "#d8576b"
             ],
             [
              0.6666666666666666,
              "#ed7953"
             ],
             [
              0.7777777777777778,
              "#fb9f3a"
             ],
             [
              0.8888888888888888,
              "#fdca26"
             ],
             [
              1,
              "#f0f921"
             ]
            ],
            "type": "heatmap"
           }
          ],
          "histogram": [
           {
            "marker": {
             "pattern": {
              "fillmode": "overlay",
              "size": 10,
              "solidity": 0.2
             }
            },
            "type": "histogram"
           }
          ],
          "histogram2d": [
           {
            "colorbar": {
             "outlinewidth": 0,
             "ticks": ""
            },
            "colorscale": [
             [
              0,
              "#0d0887"
             ],
             [
              0.1111111111111111,
              "#46039f"
             ],
             [
              0.2222222222222222,
              "#7201a8"
             ],
             [
              0.3333333333333333,
              "#9c179e"
             ],
             [
              0.4444444444444444,
              "#bd3786"
             ],
             [
              0.5555555555555556,
              "#d8576b"
             ],
             [
              0.6666666666666666,
              "#ed7953"
             ],
             [
              0.7777777777777778,
              "#fb9f3a"
             ],
             [
              0.8888888888888888,
              "#fdca26"
             ],
             [
              1,
              "#f0f921"
             ]
            ],
            "type": "histogram2d"
           }
          ],
          "histogram2dcontour": [
           {
            "colorbar": {
             "outlinewidth": 0,
             "ticks": ""
            },
            "colorscale": [
             [
              0,
              "#0d0887"
             ],
             [
              0.1111111111111111,
              "#46039f"
             ],
             [
              0.2222222222222222,
              "#7201a8"
             ],
             [
              0.3333333333333333,
              "#9c179e"
             ],
             [
              0.4444444444444444,
              "#bd3786"
             ],
             [
              0.5555555555555556,
              "#d8576b"
             ],
             [
              0.6666666666666666,
              "#ed7953"
             ],
             [
              0.7777777777777778,
              "#fb9f3a"
             ],
             [
              0.8888888888888888,
              "#fdca26"
             ],
             [
              1,
              "#f0f921"
             ]
            ],
            "type": "histogram2dcontour"
           }
          ],
          "mesh3d": [
           {
            "colorbar": {
             "outlinewidth": 0,
             "ticks": ""
            },
            "type": "mesh3d"
           }
          ],
          "parcoords": [
           {
            "line": {
             "colorbar": {
              "outlinewidth": 0,
              "ticks": ""
             }
            },
            "type": "parcoords"
           }
          ],
          "pie": [
           {
            "automargin": true,
            "type": "pie"
           }
          ],
          "scatter": [
           {
            "marker": {
             "line": {
              "color": "#283442"
             }
            },
            "type": "scatter"
           }
          ],
          "scatter3d": [
           {
            "line": {
             "colorbar": {
              "outlinewidth": 0,
              "ticks": ""
             }
            },
            "marker": {
             "colorbar": {
              "outlinewidth": 0,
              "ticks": ""
             }
            },
            "type": "scatter3d"
           }
          ],
          "scattercarpet": [
           {
            "marker": {
             "colorbar": {
              "outlinewidth": 0,
              "ticks": ""
             }
            },
            "type": "scattercarpet"
           }
          ],
          "scattergeo": [
           {
            "marker": {
             "colorbar": {
              "outlinewidth": 0,
              "ticks": ""
             }
            },
            "type": "scattergeo"
           }
          ],
          "scattergl": [
           {
            "marker": {
             "line": {
              "color": "#283442"
             }
            },
            "type": "scattergl"
           }
          ],
          "scattermap": [
           {
            "marker": {
             "colorbar": {
              "outlinewidth": 0,
              "ticks": ""
             }
            },
            "type": "scattermap"
           }
          ],
          "scattermapbox": [
           {
            "marker": {
             "colorbar": {
              "outlinewidth": 0,
              "ticks": ""
             }
            },
            "type": "scattermapbox"
           }
          ],
          "scatterpolar": [
           {
            "marker": {
             "colorbar": {
              "outlinewidth": 0,
              "ticks": ""
             }
            },
            "type": "scatterpolar"
           }
          ],
          "scatterpolargl": [
           {
            "marker": {
             "colorbar": {
              "outlinewidth": 0,
              "ticks": ""
             }
            },
            "type": "scatterpolargl"
           }
          ],
          "scatterternary": [
           {
            "marker": {
             "colorbar": {
              "outlinewidth": 0,
              "ticks": ""
             }
            },
            "type": "scatterternary"
           }
          ],
          "surface": [
           {
            "colorbar": {
             "outlinewidth": 0,
             "ticks": ""
            },
            "colorscale": [
             [
              0,
              "#0d0887"
             ],
             [
              0.1111111111111111,
              "#46039f"
             ],
             [
              0.2222222222222222,
              "#7201a8"
             ],
             [
              0.3333333333333333,
              "#9c179e"
             ],
             [
              0.4444444444444444,
              "#bd3786"
             ],
             [
              0.5555555555555556,
              "#d8576b"
             ],
             [
              0.6666666666666666,
              "#ed7953"
             ],
             [
              0.7777777777777778,
              "#fb9f3a"
             ],
             [
              0.8888888888888888,
              "#fdca26"
             ],
             [
              1,
              "#f0f921"
             ]
            ],
            "type": "surface"
           }
          ],
          "table": [
           {
            "cells": {
             "fill": {
              "color": "#506784"
             },
             "line": {
              "color": "rgb(17,17,17)"
             }
            },
            "header": {
             "fill": {
              "color": "#2a3f5f"
             },
             "line": {
              "color": "rgb(17,17,17)"
             }
            },
            "type": "table"
           }
          ]
         },
         "layout": {
          "annotationdefaults": {
           "arrowcolor": "#f2f5fa",
           "arrowhead": 0,
           "arrowwidth": 1
          },
          "autotypenumbers": "strict",
          "coloraxis": {
           "colorbar": {
            "outlinewidth": 0,
            "ticks": ""
           }
          },
          "colorscale": {
           "diverging": [
            [
             0,
             "#8e0152"
            ],
            [
             0.1,
             "#c51b7d"
            ],
            [
             0.2,
             "#de77ae"
            ],
            [
             0.3,
             "#f1b6da"
            ],
            [
             0.4,
             "#fde0ef"
            ],
            [
             0.5,
             "#f7f7f7"
            ],
            [
             0.6,
             "#e6f5d0"
            ],
            [
             0.7,
             "#b8e186"
            ],
            [
             0.8,
             "#7fbc41"
            ],
            [
             0.9,
             "#4d9221"
            ],
            [
             1,
             "#276419"
            ]
           ],
           "sequential": [
            [
             0,
             "#0d0887"
            ],
            [
             0.1111111111111111,
             "#46039f"
            ],
            [
             0.2222222222222222,
             "#7201a8"
            ],
            [
             0.3333333333333333,
             "#9c179e"
            ],
            [
             0.4444444444444444,
             "#bd3786"
            ],
            [
             0.5555555555555556,
             "#d8576b"
            ],
            [
             0.6666666666666666,
             "#ed7953"
            ],
            [
             0.7777777777777778,
             "#fb9f3a"
            ],
            [
             0.8888888888888888,
             "#fdca26"
            ],
            [
             1,
             "#f0f921"
            ]
           ],
           "sequentialminus": [
            [
             0,
             "#0d0887"
            ],
            [
             0.1111111111111111,
             "#46039f"
            ],
            [
             0.2222222222222222,
             "#7201a8"
            ],
            [
             0.3333333333333333,
             "#9c179e"
            ],
            [
             0.4444444444444444,
             "#bd3786"
            ],
            [
             0.5555555555555556,
             "#d8576b"
            ],
            [
             0.6666666666666666,
             "#ed7953"
            ],
            [
             0.7777777777777778,
             "#fb9f3a"
            ],
            [
             0.8888888888888888,
             "#fdca26"
            ],
            [
             1,
             "#f0f921"
            ]
           ]
          },
          "colorway": [
           "#636efa",
           "#EF553B",
           "#00cc96",
           "#ab63fa",
           "#FFA15A",
           "#19d3f3",
           "#FF6692",
           "#B6E880",
           "#FF97FF",
           "#FECB52"
          ],
          "font": {
           "color": "#f2f5fa"
          },
          "geo": {
           "bgcolor": "rgb(17,17,17)",
           "lakecolor": "rgb(17,17,17)",
           "landcolor": "rgb(17,17,17)",
           "showlakes": true,
           "showland": true,
           "subunitcolor": "#506784"
          },
          "hoverlabel": {
           "align": "left"
          },
          "hovermode": "closest",
          "mapbox": {
           "style": "dark"
          },
          "paper_bgcolor": "rgb(17,17,17)",
          "plot_bgcolor": "rgb(17,17,17)",
          "polar": {
           "angularaxis": {
            "gridcolor": "#506784",
            "linecolor": "#506784",
            "ticks": ""
           },
           "bgcolor": "rgb(17,17,17)",
           "radialaxis": {
            "gridcolor": "#506784",
            "linecolor": "#506784",
            "ticks": ""
           }
          },
          "scene": {
           "xaxis": {
            "backgroundcolor": "rgb(17,17,17)",
            "gridcolor": "#506784",
            "gridwidth": 2,
            "linecolor": "#506784",
            "showbackground": true,
            "ticks": "",
            "zerolinecolor": "#C8D4E3"
           },
           "yaxis": {
            "backgroundcolor": "rgb(17,17,17)",
            "gridcolor": "#506784",
            "gridwidth": 2,
            "linecolor": "#506784",
            "showbackground": true,
            "ticks": "",
            "zerolinecolor": "#C8D4E3"
           },
           "zaxis": {
            "backgroundcolor": "rgb(17,17,17)",
            "gridcolor": "#506784",
            "gridwidth": 2,
            "linecolor": "#506784",
            "showbackground": true,
            "ticks": "",
            "zerolinecolor": "#C8D4E3"
           }
          },
          "shapedefaults": {
           "line": {
            "color": "#f2f5fa"
           }
          },
          "sliderdefaults": {
           "bgcolor": "#C8D4E3",
           "bordercolor": "rgb(17,17,17)",
           "borderwidth": 1,
           "tickwidth": 0
          },
          "ternary": {
           "aaxis": {
            "gridcolor": "#506784",
            "linecolor": "#506784",
            "ticks": ""
           },
           "baxis": {
            "gridcolor": "#506784",
            "linecolor": "#506784",
            "ticks": ""
           },
           "bgcolor": "rgb(17,17,17)",
           "caxis": {
            "gridcolor": "#506784",
            "linecolor": "#506784",
            "ticks": ""
           }
          },
          "title": {
           "x": 0.05
          },
          "updatemenudefaults": {
           "bgcolor": "#506784",
           "borderwidth": 0
          },
          "xaxis": {
           "automargin": true,
           "gridcolor": "#283442",
           "linecolor": "#506784",
           "ticks": "",
           "title": {
            "standoff": 15
           },
           "zerolinecolor": "#283442",
           "zerolinewidth": 2
          },
          "yaxis": {
           "automargin": true,
           "gridcolor": "#283442",
           "linecolor": "#506784",
           "ticks": "",
           "title": {
            "standoff": 15
           },
           "zerolinecolor": "#283442",
           "zerolinewidth": 2
          }
         }
        },
        "title": {
         "font": {
          "size": 24
         },
         "text": "Benchmarking of \"Doc-Checklist\"<br><span style=\"font-size: 0.5em; color: #888;\">Comparing values with semantic similarity</span><br><span style=\"font-size: 0.5em; color: #888;\">Model: gpt-4o-2024-08-06</span>",
         "x": 0.5,
         "y": 0.95
        },
        "width": 1000,
        "xaxis": {
         "range": [
          -0.5,
          0.5
         ],
         "tickangle": 45,
         "ticktext": [
          "section-order"
         ],
         "tickvals": [
          0
         ],
         "title": {
          "text": "Check"
         }
        },
        "yaxis": {
         "range": [
          0,
          1.1
         ],
         "title": {
          "text": "Score"
         }
        }
       }
      }
     },
     "metadata": {},
     "output_type": "display_data"
    }
   ],
   "source": [
    "fig, df = checklist_visualization(\n",
    "    \"doc-checklist\",\n",
    "    metric=\"semantic_similarity\",\n",
    "    model=MODEL,\n",
    "    aggregation_level=0\n",
    ")\n",
    "fig.show()"
   ]
  },
  {
   "cell_type": "code",
   "execution_count": 65,
   "metadata": {},
   "outputs": [
    {
     "name": "stderr",
     "output_type": "stream",
     "text": [
      "2025-07-22 16:37:09 - INFO - Creating plot (prompt.1, semantic_similarity), plotting score for section-order...\n",
      "2025-07-22 16:37:09 - INFO - Plotting data: 25 rows\n",
      "2025-07-22 16:37:09 - INFO - Creating plot (prompt.2, semantic_similarity), plotting score for section-order...\n",
      "2025-07-22 16:37:09 - INFO - Plotting data: 25 rows\n"
     ]
    },
    {
     "data": {
      "application/vnd.plotly.v1+json": {
       "config": {
        "plotlyServerURL": "https://plot.ly"
       },
       "data": [
        {
         "hovertext": [
          "10.1038_embor.2009.217",
          "10.1038_embor.2009.217",
          "10.1038_embor.2009.217",
          "10.1038_embor.2009.217",
          "10.1038_embor.2009.217",
          "EMBOJ-2024-119734R",
          "EMBOJ-2024-119734R",
          "EMBOJ-2024-119734R",
          "EMBOJ-2024-119734R",
          "EMBOJ-2024-119734R",
          "EMBOR-2025-61250V2",
          "EMBOR-2025-61250V2",
          "EMBOR-2025-61250V2",
          "EMBOR-2025-61250V2",
          "EMBOR-2025-61250V2",
          "EMM-2025-21341",
          "EMM-2025-21341",
          "EMM-2025-21341",
          "EMM-2025-21341",
          "EMM-2025-21341",
          "EMM-2025-21532",
          "EMM-2025-21532",
          "EMM-2025-21532",
          "EMM-2025-21532",
          "EMM-2025-21532"
         ],
         "marker": {
          "color": "white",
          "line": {
           "color": "white",
           "width": 0
          },
          "opacity": 0.4,
          "size": 5
         },
         "mode": "markers",
         "name": "prompt.1",
         "showlegend": true,
         "type": "scatter",
         "x": [
          -0.17509690617213988,
          0.793471289481352,
          1.790071231883131,
          2.8003770285687266,
          3.775993693315577,
          -0.1352034402411066,
          0.8958146426234532,
          1.8007362411031944,
          2.847088532286478,
          3.7733075862693948,
          -0.13400765535947423,
          0.7939902041499423,
          1.8735626600389588,
          2.823377818855179,
          3.8276648892190255,
          -0.20393510679414265,
          0.895323752413209,
          1.8287986942509151,
          2.858703317055294,
          3.8207537451543203,
          -0.1492326041268621,
          0.8478711117333512,
          1.8086459930513705,
          2.807621225904064,
          3.8156744362993575
         ],
         "y": {
          "bdata": "AAAAAAAA8D8AAAAAAADoPwAAAAAAAPA/q6qqqn1OwD8AAAAAAAAAAAAAAAAAAPA/AAAAQKm+7T8AAAAAAADwPwAAAHh/J+c/AAAAAAAAAAAAAAAAAAAAAAAAAAAAAAAAAAAAAAAAAAAAAAAAAAAAAAAAAAAAAAAAAAAAAAAA8D8AAAAAAADwPwAAAAAAAPA/AAAAAAAAAAAAAAAAAAAAAAAAAAAAAAAAAAAAAAAAAAAAAAAAAAAAAAAAAAAAAAAAAAAAAAAAAAA=",
          "dtype": "f8"
         }
        },
        {
         "error_y": {
          "array": {
           "bdata": "2BCoUS7Z3z9yhPh08YbhPwAAAAAAAAAAcoT4dPGG4T/MQxfaThzUPw==",
           "dtype": "f8"
          },
          "color": "grey",
          "thickness": 1,
          "type": "data",
          "visible": true,
          "width": 3
         },
         "hovertext": [
          "Field: missing_sections<br>0.5359048128128052: 0.536<br>Prompt: prompt.1",
          "Field: sections_as_in_manuscript<br>0.6: 0.600<br>Prompt: prompt.1",
          "Field: sections_to_move<br>0.0: 0.000<br>Prompt: prompt.1",
          "Field: sections_to_remove<br>0.6: 0.600<br>Prompt: prompt.1",
          "Field: sections_to_rename<br>0.17019337515036265: 0.170<br>Prompt: prompt.1"
         ],
         "marker": {
          "color": "rgb(228,26,28)"
         },
         "name": "prompt.1",
         "showlegend": true,
         "type": "bar",
         "width": 0.3333333333333333,
         "x": [
          0.8333333333333334,
          -0.16666666666666666,
          3.8333333333333335,
          1.8333333333333333,
          2.8333333333333335
         ],
         "y": {
          "bdata": "mpmZ2SEm4T8zMzMzMzPjPwAAAAAAAAAAMzMzMzMz4z8iIiKC5cjFPw==",
          "dtype": "f8"
         }
        },
        {
         "hovertext": [
          "10.1038_embor.2009.217",
          "10.1038_embor.2009.217",
          "10.1038_embor.2009.217",
          "10.1038_embor.2009.217",
          "10.1038_embor.2009.217",
          "EMBOJ-2024-119734R",
          "EMBOJ-2024-119734R",
          "EMBOJ-2024-119734R",
          "EMBOJ-2024-119734R",
          "EMBOJ-2024-119734R",
          "EMBOR-2025-61250V2",
          "EMBOR-2025-61250V2",
          "EMBOR-2025-61250V2",
          "EMBOR-2025-61250V2",
          "EMBOR-2025-61250V2",
          "EMM-2025-21341",
          "EMM-2025-21341",
          "EMM-2025-21341",
          "EMM-2025-21341",
          "EMM-2025-21341",
          "EMM-2025-21532",
          "EMM-2025-21532",
          "EMM-2025-21532",
          "EMM-2025-21532",
          "EMM-2025-21532"
         ],
         "marker": {
          "color": "white",
          "line": {
           "color": "white",
           "width": 0
          },
          "opacity": 0.4,
          "size": 5
         },
         "mode": "markers",
         "name": "prompt.2",
         "showlegend": true,
         "type": "scatter",
         "x": [
          0.18346459755623568,
          1.1789997628679314,
          2.2271888349478113,
          3.2164263060411717,
          4.178971062590825,
          0.15468450284891308,
          1.122703966333182,
          2.168159261358373,
          3.2278987889308723,
          4.168066868784408,
          0.16541130549925998,
          1.1749469284541483,
          2.152766056202733,
          3.119071457134656,
          4.137538140042172,
          0.20949428335035597,
          1.1853620568264325,
          2.258928441289159,
          3.1968823198485903,
          4.132981430236686,
          0.1904667317380343,
          1.1638349892132387,
          2.1652286546995194,
          3.2116521372714733,
          4.188988246096267
         ],
         "y": {
          "bdata": "AAAAAAAA8D8AAAAAAADoPwAAAAAAAPA/AAAAAAAAAAAAAAAAAAAAAAAAAAAAAPA/AAAAAFMe5D8AAAAAAADwPwAAALBAON8/AAAAAAAAAAAAAAAAAADwPwAAAAAQ9eo/AAAAAAAA8D+rqqqqfU7QPwAAAAAAAAAAAAAAAAAAAAAAAAAAAAAAAAAAAAAAAAAAAAAAAAAAAAAAAAAAAAAAAAAAAAAAAAAAAAAAAAAAAAAAAAAAAAAAAAAAAAAAAAAAAAAAAAAAAAA=",
          "dtype": "f8"
         }
        },
        {
         "error_y": {
          "array": {
           "bdata": "sL7Y/A1n2j9yhPh08YbhPwAAAAAAAAAAcoT4dPGG4T9XqJ72BxbMPw==",
           "dtype": "f8"
          },
          "color": "grey",
          "thickness": 1,
          "type": "data",
          "visible": true,
          "width": 3
         },
         "hovertext": [
          "Field: missing_sections<br>0.44422330856323244: 0.444<br>Prompt: prompt.2",
          "Field: sections_as_in_manuscript<br>0.6: 0.600<br>Prompt: prompt.2",
          "Field: sections_to_move<br>0.0: 0.000<br>Prompt: prompt.2",
          "Field: sections_to_remove<br>0.6: 0.600<br>Prompt: prompt.2",
          "Field: sections_to_rename<br>0.14851981898148855: 0.149<br>Prompt: prompt.2"
         ],
         "marker": {
          "color": "rgb(55,126,184)"
         },
         "name": "prompt.2",
         "showlegend": true,
         "type": "bar",
         "width": 0.3333333333333333,
         "x": [
          1.1666666666666667,
          0.16666666666666666,
          4.166666666666667,
          2.1666666666666665,
          3.1666666666666665
         ],
         "y": {
          "bdata": "mpmZmSdu3D8zMzMzMzPjPwAAAAAAAAAAMzMzMzMz4z+rqqqKsgLDPw==",
          "dtype": "f8"
         }
        }
       ],
       "layout": {
        "boxmode": "group",
        "height": 600,
        "showlegend": true,
        "template": {
         "data": {
          "bar": [
           {
            "error_x": {
             "color": "#f2f5fa"
            },
            "error_y": {
             "color": "#f2f5fa"
            },
            "marker": {
             "line": {
              "color": "rgb(17,17,17)",
              "width": 0.5
             },
             "pattern": {
              "fillmode": "overlay",
              "size": 10,
              "solidity": 0.2
             }
            },
            "type": "bar"
           }
          ],
          "barpolar": [
           {
            "marker": {
             "line": {
              "color": "rgb(17,17,17)",
              "width": 0.5
             },
             "pattern": {
              "fillmode": "overlay",
              "size": 10,
              "solidity": 0.2
             }
            },
            "type": "barpolar"
           }
          ],
          "carpet": [
           {
            "aaxis": {
             "endlinecolor": "#A2B1C6",
             "gridcolor": "#506784",
             "linecolor": "#506784",
             "minorgridcolor": "#506784",
             "startlinecolor": "#A2B1C6"
            },
            "baxis": {
             "endlinecolor": "#A2B1C6",
             "gridcolor": "#506784",
             "linecolor": "#506784",
             "minorgridcolor": "#506784",
             "startlinecolor": "#A2B1C6"
            },
            "type": "carpet"
           }
          ],
          "choropleth": [
           {
            "colorbar": {
             "outlinewidth": 0,
             "ticks": ""
            },
            "type": "choropleth"
           }
          ],
          "contour": [
           {
            "colorbar": {
             "outlinewidth": 0,
             "ticks": ""
            },
            "colorscale": [
             [
              0,
              "#0d0887"
             ],
             [
              0.1111111111111111,
              "#46039f"
             ],
             [
              0.2222222222222222,
              "#7201a8"
             ],
             [
              0.3333333333333333,
              "#9c179e"
             ],
             [
              0.4444444444444444,
              "#bd3786"
             ],
             [
              0.5555555555555556,
              "#d8576b"
             ],
             [
              0.6666666666666666,
              "#ed7953"
             ],
             [
              0.7777777777777778,
              "#fb9f3a"
             ],
             [
              0.8888888888888888,
              "#fdca26"
             ],
             [
              1,
              "#f0f921"
             ]
            ],
            "type": "contour"
           }
          ],
          "contourcarpet": [
           {
            "colorbar": {
             "outlinewidth": 0,
             "ticks": ""
            },
            "type": "contourcarpet"
           }
          ],
          "heatmap": [
           {
            "colorbar": {
             "outlinewidth": 0,
             "ticks": ""
            },
            "colorscale": [
             [
              0,
              "#0d0887"
             ],
             [
              0.1111111111111111,
              "#46039f"
             ],
             [
              0.2222222222222222,
              "#7201a8"
             ],
             [
              0.3333333333333333,
              "#9c179e"
             ],
             [
              0.4444444444444444,
              "#bd3786"
             ],
             [
              0.5555555555555556,
              "#d8576b"
             ],
             [
              0.6666666666666666,
              "#ed7953"
             ],
             [
              0.7777777777777778,
              "#fb9f3a"
             ],
             [
              0.8888888888888888,
              "#fdca26"
             ],
             [
              1,
              "#f0f921"
             ]
            ],
            "type": "heatmap"
           }
          ],
          "histogram": [
           {
            "marker": {
             "pattern": {
              "fillmode": "overlay",
              "size": 10,
              "solidity": 0.2
             }
            },
            "type": "histogram"
           }
          ],
          "histogram2d": [
           {
            "colorbar": {
             "outlinewidth": 0,
             "ticks": ""
            },
            "colorscale": [
             [
              0,
              "#0d0887"
             ],
             [
              0.1111111111111111,
              "#46039f"
             ],
             [
              0.2222222222222222,
              "#7201a8"
             ],
             [
              0.3333333333333333,
              "#9c179e"
             ],
             [
              0.4444444444444444,
              "#bd3786"
             ],
             [
              0.5555555555555556,
              "#d8576b"
             ],
             [
              0.6666666666666666,
              "#ed7953"
             ],
             [
              0.7777777777777778,
              "#fb9f3a"
             ],
             [
              0.8888888888888888,
              "#fdca26"
             ],
             [
              1,
              "#f0f921"
             ]
            ],
            "type": "histogram2d"
           }
          ],
          "histogram2dcontour": [
           {
            "colorbar": {
             "outlinewidth": 0,
             "ticks": ""
            },
            "colorscale": [
             [
              0,
              "#0d0887"
             ],
             [
              0.1111111111111111,
              "#46039f"
             ],
             [
              0.2222222222222222,
              "#7201a8"
             ],
             [
              0.3333333333333333,
              "#9c179e"
             ],
             [
              0.4444444444444444,
              "#bd3786"
             ],
             [
              0.5555555555555556,
              "#d8576b"
             ],
             [
              0.6666666666666666,
              "#ed7953"
             ],
             [
              0.7777777777777778,
              "#fb9f3a"
             ],
             [
              0.8888888888888888,
              "#fdca26"
             ],
             [
              1,
              "#f0f921"
             ]
            ],
            "type": "histogram2dcontour"
           }
          ],
          "mesh3d": [
           {
            "colorbar": {
             "outlinewidth": 0,
             "ticks": ""
            },
            "type": "mesh3d"
           }
          ],
          "parcoords": [
           {
            "line": {
             "colorbar": {
              "outlinewidth": 0,
              "ticks": ""
             }
            },
            "type": "parcoords"
           }
          ],
          "pie": [
           {
            "automargin": true,
            "type": "pie"
           }
          ],
          "scatter": [
           {
            "marker": {
             "line": {
              "color": "#283442"
             }
            },
            "type": "scatter"
           }
          ],
          "scatter3d": [
           {
            "line": {
             "colorbar": {
              "outlinewidth": 0,
              "ticks": ""
             }
            },
            "marker": {
             "colorbar": {
              "outlinewidth": 0,
              "ticks": ""
             }
            },
            "type": "scatter3d"
           }
          ],
          "scattercarpet": [
           {
            "marker": {
             "colorbar": {
              "outlinewidth": 0,
              "ticks": ""
             }
            },
            "type": "scattercarpet"
           }
          ],
          "scattergeo": [
           {
            "marker": {
             "colorbar": {
              "outlinewidth": 0,
              "ticks": ""
             }
            },
            "type": "scattergeo"
           }
          ],
          "scattergl": [
           {
            "marker": {
             "line": {
              "color": "#283442"
             }
            },
            "type": "scattergl"
           }
          ],
          "scattermap": [
           {
            "marker": {
             "colorbar": {
              "outlinewidth": 0,
              "ticks": ""
             }
            },
            "type": "scattermap"
           }
          ],
          "scattermapbox": [
           {
            "marker": {
             "colorbar": {
              "outlinewidth": 0,
              "ticks": ""
             }
            },
            "type": "scattermapbox"
           }
          ],
          "scatterpolar": [
           {
            "marker": {
             "colorbar": {
              "outlinewidth": 0,
              "ticks": ""
             }
            },
            "type": "scatterpolar"
           }
          ],
          "scatterpolargl": [
           {
            "marker": {
             "colorbar": {
              "outlinewidth": 0,
              "ticks": ""
             }
            },
            "type": "scatterpolargl"
           }
          ],
          "scatterternary": [
           {
            "marker": {
             "colorbar": {
              "outlinewidth": 0,
              "ticks": ""
             }
            },
            "type": "scatterternary"
           }
          ],
          "surface": [
           {
            "colorbar": {
             "outlinewidth": 0,
             "ticks": ""
            },
            "colorscale": [
             [
              0,
              "#0d0887"
             ],
             [
              0.1111111111111111,
              "#46039f"
             ],
             [
              0.2222222222222222,
              "#7201a8"
             ],
             [
              0.3333333333333333,
              "#9c179e"
             ],
             [
              0.4444444444444444,
              "#bd3786"
             ],
             [
              0.5555555555555556,
              "#d8576b"
             ],
             [
              0.6666666666666666,
              "#ed7953"
             ],
             [
              0.7777777777777778,
              "#fb9f3a"
             ],
             [
              0.8888888888888888,
              "#fdca26"
             ],
             [
              1,
              "#f0f921"
             ]
            ],
            "type": "surface"
           }
          ],
          "table": [
           {
            "cells": {
             "fill": {
              "color": "#506784"
             },
             "line": {
              "color": "rgb(17,17,17)"
             }
            },
            "header": {
             "fill": {
              "color": "#2a3f5f"
             },
             "line": {
              "color": "rgb(17,17,17)"
             }
            },
            "type": "table"
           }
          ]
         },
         "layout": {
          "annotationdefaults": {
           "arrowcolor": "#f2f5fa",
           "arrowhead": 0,
           "arrowwidth": 1
          },
          "autotypenumbers": "strict",
          "coloraxis": {
           "colorbar": {
            "outlinewidth": 0,
            "ticks": ""
           }
          },
          "colorscale": {
           "diverging": [
            [
             0,
             "#8e0152"
            ],
            [
             0.1,
             "#c51b7d"
            ],
            [
             0.2,
             "#de77ae"
            ],
            [
             0.3,
             "#f1b6da"
            ],
            [
             0.4,
             "#fde0ef"
            ],
            [
             0.5,
             "#f7f7f7"
            ],
            [
             0.6,
             "#e6f5d0"
            ],
            [
             0.7,
             "#b8e186"
            ],
            [
             0.8,
             "#7fbc41"
            ],
            [
             0.9,
             "#4d9221"
            ],
            [
             1,
             "#276419"
            ]
           ],
           "sequential": [
            [
             0,
             "#0d0887"
            ],
            [
             0.1111111111111111,
             "#46039f"
            ],
            [
             0.2222222222222222,
             "#7201a8"
            ],
            [
             0.3333333333333333,
             "#9c179e"
            ],
            [
             0.4444444444444444,
             "#bd3786"
            ],
            [
             0.5555555555555556,
             "#d8576b"
            ],
            [
             0.6666666666666666,
             "#ed7953"
            ],
            [
             0.7777777777777778,
             "#fb9f3a"
            ],
            [
             0.8888888888888888,
             "#fdca26"
            ],
            [
             1,
             "#f0f921"
            ]
           ],
           "sequentialminus": [
            [
             0,
             "#0d0887"
            ],
            [
             0.1111111111111111,
             "#46039f"
            ],
            [
             0.2222222222222222,
             "#7201a8"
            ],
            [
             0.3333333333333333,
             "#9c179e"
            ],
            [
             0.4444444444444444,
             "#bd3786"
            ],
            [
             0.5555555555555556,
             "#d8576b"
            ],
            [
             0.6666666666666666,
             "#ed7953"
            ],
            [
             0.7777777777777778,
             "#fb9f3a"
            ],
            [
             0.8888888888888888,
             "#fdca26"
            ],
            [
             1,
             "#f0f921"
            ]
           ]
          },
          "colorway": [
           "#636efa",
           "#EF553B",
           "#00cc96",
           "#ab63fa",
           "#FFA15A",
           "#19d3f3",
           "#FF6692",
           "#B6E880",
           "#FF97FF",
           "#FECB52"
          ],
          "font": {
           "color": "#f2f5fa"
          },
          "geo": {
           "bgcolor": "rgb(17,17,17)",
           "lakecolor": "rgb(17,17,17)",
           "landcolor": "rgb(17,17,17)",
           "showlakes": true,
           "showland": true,
           "subunitcolor": "#506784"
          },
          "hoverlabel": {
           "align": "left"
          },
          "hovermode": "closest",
          "mapbox": {
           "style": "dark"
          },
          "paper_bgcolor": "rgb(17,17,17)",
          "plot_bgcolor": "rgb(17,17,17)",
          "polar": {
           "angularaxis": {
            "gridcolor": "#506784",
            "linecolor": "#506784",
            "ticks": ""
           },
           "bgcolor": "rgb(17,17,17)",
           "radialaxis": {
            "gridcolor": "#506784",
            "linecolor": "#506784",
            "ticks": ""
           }
          },
          "scene": {
           "xaxis": {
            "backgroundcolor": "rgb(17,17,17)",
            "gridcolor": "#506784",
            "gridwidth": 2,
            "linecolor": "#506784",
            "showbackground": true,
            "ticks": "",
            "zerolinecolor": "#C8D4E3"
           },
           "yaxis": {
            "backgroundcolor": "rgb(17,17,17)",
            "gridcolor": "#506784",
            "gridwidth": 2,
            "linecolor": "#506784",
            "showbackground": true,
            "ticks": "",
            "zerolinecolor": "#C8D4E3"
           },
           "zaxis": {
            "backgroundcolor": "rgb(17,17,17)",
            "gridcolor": "#506784",
            "gridwidth": 2,
            "linecolor": "#506784",
            "showbackground": true,
            "ticks": "",
            "zerolinecolor": "#C8D4E3"
           }
          },
          "shapedefaults": {
           "line": {
            "color": "#f2f5fa"
           }
          },
          "sliderdefaults": {
           "bgcolor": "#C8D4E3",
           "bordercolor": "rgb(17,17,17)",
           "borderwidth": 1,
           "tickwidth": 0
          },
          "ternary": {
           "aaxis": {
            "gridcolor": "#506784",
            "linecolor": "#506784",
            "ticks": ""
           },
           "baxis": {
            "gridcolor": "#506784",
            "linecolor": "#506784",
            "ticks": ""
           },
           "bgcolor": "rgb(17,17,17)",
           "caxis": {
            "gridcolor": "#506784",
            "linecolor": "#506784",
            "ticks": ""
           }
          },
          "title": {
           "x": 0.05
          },
          "updatemenudefaults": {
           "bgcolor": "#506784",
           "borderwidth": 0
          },
          "xaxis": {
           "automargin": true,
           "gridcolor": "#283442",
           "linecolor": "#506784",
           "ticks": "",
           "title": {
            "standoff": 15
           },
           "zerolinecolor": "#283442",
           "zerolinewidth": 2
          },
          "yaxis": {
           "automargin": true,
           "gridcolor": "#283442",
           "linecolor": "#506784",
           "ticks": "",
           "title": {
            "standoff": 15
           },
           "zerolinecolor": "#283442",
           "zerolinewidth": 2
          }
         }
        },
        "title": {
         "text": "score for section-order (n=5)<br><span style=\"font-size: 0.8em; color: #888;\">Comparing values with semantic similarity</span><br><span style=\"font-size: 0.8em; color: #888;\">Model: gpt-4o-2024-08-06</span>"
        },
        "width": 800,
        "xaxis": {
         "range": [
          -0.5,
          4.5
         ],
         "tickangle": 45,
         "ticktext": [
          "sections_as_in_manuscript",
          "missing_sections",
          "sections_to_remove",
          "sections_to_rename",
          "sections_to_move"
         ],
         "tickvals": [
          "sections_as_in_manuscript",
          "missing_sections",
          "sections_to_remove",
          "sections_to_rename",
          "sections_to_move"
         ],
         "title": {
          "text": "Task"
         }
        },
        "yaxis": {
         "title": {
          "text": "score"
         }
        }
       }
      }
     },
     "metadata": {},
     "output_type": "display_data"
    }
   ],
   "source": [
    "fig, df = check_visualization(\n",
    "    \"doc-checklist\",\n",
    "    \"section-order\",\n",
    "    metric=\"semantic_similarity\",\n",
    "    score=\"score\",\n",
    "    model=MODEL,\n",
    "    aggregation_level=0\n",
    ")\n",
    "fig.show()"
   ]
  },
  {
   "cell_type": "code",
   "execution_count": 56,
   "metadata": {},
   "outputs": [],
   "source": [
    "item_data = df.loc[\n",
    "    (df['prompt'] == \"prompt.1\") &\n",
    "    (df['metric'] == \"semantic_similarity\") &\n",
    "    (df['field'] != '') &\n",
    "    (df['aggregation_level'] == 0)\n",
    "]"
   ]
  },
  {
   "cell_type": "code",
   "execution_count": null,
   "metadata": {},
   "outputs": [],
   "source": [
    "offset_width = 1 / (len(prompts)+1)\n",
    "x_offset = (i - (len(prompts) - 1) / 2) * offset_width\n",
    "# Create numerical x-positions by mapping fields to numbers and adding offset\n",
    "fields = item_data['field'].unique()\n",
    "field_to_num = {field: j for j, field in enumerate(fields)}\n",
    "x_positions = [field_to_num[field] + x_offset for field in fields]\n",
    "jitter = np.random.normal(0, 0.04, size=len(item_data['item_id'].unique()))\n",
    "x_scattered_positions = x_positions + jitter"
   ]
  },
  {
   "cell_type": "code",
   "execution_count": null,
   "metadata": {},
   "outputs": [],
   "source": [
    "df"
   ]
  },
  {
   "cell_type": "code",
   "execution_count": null,
   "metadata": {},
   "outputs": [],
   "source": [
    "\n",
    "%xmode verbose\n",
    "check_specific_report_html(\n",
    "    \"fig-checklist\",\n",
    "    \"replicates-defined\",\n",
    "    prompt=\"prompt.3\",\n",
    "    search_doi=\"2009.312\",\n",
    "    model=MODEL,\n",
    "    metric=\"semantic_similarity\",\n",
    "    score=\"f1_score\",\n",
    ")"
   ]
  },
  {
   "cell_type": "code",
   "execution_count": null,
   "metadata": {},
   "outputs": [],
   "source": []
  }
 ],
 "metadata": {
  "kernelspec": {
   "display_name": ".venv",
   "language": "python",
   "name": "python3"
  },
  "language_info": {
   "codemirror_mode": {
    "name": "ipython",
    "version": 3
   },
   "file_extension": ".py",
   "mimetype": "text/x-python",
   "name": "python",
   "nbconvert_exporter": "python",
   "pygments_lexer": "ipython3",
   "version": "3.12.1"
  }
 },
 "nbformat": 4,
 "nbformat_minor": 2
}
